{
 "cells": [
  {
   "cell_type": "code",
   "execution_count": 1,
   "metadata": {
    "collapsed": true
   },
   "outputs": [
    {
     "name": "stdout",
     "output_type": "stream",
     "text": [
      "Intel MKL WARNING: Support of Intel(R) Streaming SIMD Extensions 4.2 (Intel(R) SSE4.2) enabled only processors has been deprecated. Intel oneAPI Math Kernel Library 2025.0 will require Intel(R) Advanced Vector Extensions (Intel(R) AVX) instructions.\n",
      "Intel MKL WARNING: Support of Intel(R) Streaming SIMD Extensions 4.2 (Intel(R) SSE4.2) enabled only processors has been deprecated. Intel oneAPI Math Kernel Library 2025.0 will require Intel(R) Advanced Vector Extensions (Intel(R) AVX) instructions.\n"
     ]
    }
   ],
   "source": [
    "import pandas as pd"
   ]
  },
  {
   "cell_type": "code",
   "execution_count": 2,
   "outputs": [],
   "source": [
    "from util import get_driver, append_to_json"
   ],
   "metadata": {
    "collapsed": false,
    "pycharm": {
     "name": "#%%\n"
    }
   }
  },
  {
   "cell_type": "code",
   "execution_count": 4,
   "outputs": [],
   "source": [
    "import json"
   ],
   "metadata": {
    "collapsed": false,
    "pycharm": {
     "name": "#%%\n"
    }
   }
  },
  {
   "cell_type": "code",
   "execution_count": 1,
   "outputs": [],
   "source": [],
   "metadata": {
    "collapsed": false,
    "pycharm": {
     "name": "#%%\n"
    }
   }
  },
  {
   "cell_type": "code",
   "execution_count": 10,
   "outputs": [
    {
     "data": {
      "text/plain": "['TESLA MODEL X',\n 'HONDA CLARITY',\n 'TESLA MODEL 3',\n 'NISSAN LEAF',\n 'TESLA MODEL S',\n 'FORD FUSION',\n 'AUDI Q5 E',\n 'FORD C-MAX',\n 'TESLA MODEL Y',\n 'KIA NIRO',\n 'CHEVROLET VOLT',\n 'CHEVROLET BOLT EV',\n 'SMART FORTWO',\n 'BMW X5',\n 'KIA SORENTO',\n 'TOYOTA PRIUS PRIME',\n 'BMW I3',\n 'JEEP WRANGLER',\n 'CHEVROLET SPARK',\n 'FIAT 500',\n 'VOLVO XC60',\n 'VOLVO XC90',\n 'FORD FOCUS',\n 'KIA SOUL EV',\n 'AUDI A3',\n 'CHRYSLER PACIFICA',\n 'KIA OPTIMA',\n 'LEXUS NX',\n 'TOYOTA PRIUS PLUG-IN',\n 'FORD MUSTANG MACH-E',\n 'CHEVROLET BOLT EUV',\n 'PORSCHE CAYENNE',\n 'CADILLAC ELR',\n 'BMW X3',\n 'HYUNDAI KONA ELECTRIC',\n 'BMW 530E',\n 'MERCEDES-BENZ EQB-CLASS',\n 'RIVIAN R1T',\n 'FORD TRANSIT',\n 'VOLKSWAGEN E-GOLF',\n 'VOLKSWAGEN ID.4',\n 'SMART FORTWO ELECTRIC DRIVE',\n 'JAGUAR I-PACE',\n 'LINCOLN AVIATOR',\n 'PORSCHE TAYCAN',\n 'AUDI E-TRON',\n 'MERCEDES-BENZ C-CLASS',\n 'MITSUBISHI OUTLANDER',\n 'KIA SOUL',\n 'HYUNDAI SONATA',\n 'JEEP GRAND CHEROKEE',\n 'TOYOTA RAV4 PRIME',\n 'KIA SPORTAGE',\n 'HYUNDAI IONIQ 5',\n 'KIA EV6',\n 'MERCEDES-BENZ EQS-CLASS SEDAN',\n 'RIVIAN R1S',\n 'BMW IX',\n 'HYUNDAI KONA',\n 'BMW I8',\n 'BMW 330E',\n 'MINI COUNTRYMAN',\n 'VOLVO nan',\n 'VOLVO S60',\n 'FORD F-150',\n 'VOLVO XC40',\n 'HYUNDAI IONIQ',\n 'AUDI Q5',\n 'MERCEDES-BENZ GLE-CLASS',\n 'MINI HARDTOP',\n 'FORD ESCAPE',\n 'BMW I4',\n 'MERCEDES-BENZ B-CLASS',\n 'HYUNDAI IONIQ 6',\n 'HYUNDAI SANTA FE',\n 'TESLA ROADSTER',\n 'POLESTAR PS2',\n 'TOYOTA RAV4',\n 'PORSCHE PANAMERA',\n 'MERCEDES-BENZ GLC-CLASS',\n 'AUDI Q4',\n 'VOLVO C40',\n 'LINCOLN CORSAIR',\n 'VOLVO S90',\n 'MITSUBISHI I-MIEV',\n 'GENESIS GV60',\n 'AUDI E-TRON GT',\n 'SUBARU CROSSTREK',\n 'SUBARU SOLTERRA',\n 'LUCID AIR',\n 'NISSAN ARIYA',\n 'AUDI E-TRON SPORTBACK',\n 'MERCEDES-BENZ EQS-CLASS SUV',\n 'LEXUS RZ 450E',\n 'CADILLAC LYRIQ',\n 'HYUNDAI TUCSON',\n 'SMART EQ FORTWO',\n 'VOLVO V60',\n 'AUDI RS E-TRON GT',\n 'TH!NK CITY',\n 'GENESIS G80',\n 'LAND ROVER RANGE ROVER SPORT',\n 'TOYOTA BZ4X',\n 'MERCEDES-BENZ EQE-CLASS SEDAN',\n 'HONDA ACCORD',\n 'BMW 740E',\n 'LAND ROVER RANGE ROVER',\n 'FISKER KARMA',\n 'FORD RANGER',\n 'MERCEDES-BENZ S-CLASS',\n 'RIVIAN EDV',\n 'PORSCHE 918',\n 'AUDI A7',\n 'BMW 745E',\n 'AZURE DYNAMICS TRANSIT CONNECT ELECTRIC',\n 'AUDI A8 E',\n 'CADILLAC CT6',\n 'WHEEGO ELECTRIC CARS WHEEGO',\n 'BENTLEY FLYING SPUR',\n 'BMW 745LE',\n 'BENTLEY BENTAYGA',\n 'CHEVROLET S-10 PICKUP']"
     },
     "execution_count": 10,
     "metadata": {},
     "output_type": "execute_result"
    }
   ],
   "source": [
    "df = pd.read_csv('./data/all_evs.csv',header=None)\n",
    "list(df[0].values)"
   ],
   "metadata": {
    "collapsed": false,
    "pycharm": {
     "name": "#%%\n"
    }
   }
  },
  {
   "cell_type": "code",
   "execution_count": 10,
   "outputs": [],
   "source": [],
   "metadata": {
    "collapsed": false,
    "pycharm": {
     "name": "#%%\n"
    }
   }
  },
  {
   "cell_type": "code",
   "execution_count": 10,
   "outputs": [],
   "source": [],
   "metadata": {
    "collapsed": false,
    "pycharm": {
     "name": "#%%\n"
    }
   }
  },
  {
   "cell_type": "code",
   "execution_count": 31,
   "outputs": [
    {
     "data": {
      "text/plain": "0    https://ebay.com/itm/123456?hash=item28caef0a3...\n1    https://www.ebay.com/itm/256048040264?hash=ite...\n2    https://www.ebay.com/itm/155552048142?hash=ite...\n3    https://www.ebay.com/itm/225550054810?hash=ite...\n4    https://www.ebay.com/itm/256066075946?hash=ite...\nName: link, dtype: object"
     },
     "execution_count": 31,
     "metadata": {},
     "output_type": "execute_result"
    }
   ],
   "source": [
    "sales_links = pd.read_csv('./data/ebay_ev_sales.csv')['link']\n",
    "sales_links.head()"
   ],
   "metadata": {
    "collapsed": false,
    "pycharm": {
     "name": "#%%\n"
    }
   }
  },
  {
   "cell_type": "code",
   "execution_count": 32,
   "outputs": [],
   "source": [
    "driver = get_driver()"
   ],
   "metadata": {
    "collapsed": false,
    "pycharm": {
     "name": "#%%\n"
    }
   }
  },
  {
   "cell_type": "code",
   "execution_count": 33,
   "outputs": [],
   "source": [
    "driver.get('https://www.ebay.com/itm/256048040264?hash=item3b9da70948:g:fHIAAOSwieBkPtU~&amdata=enc%3AAQAIAAAAwMYpbKTPPpChZHBE9RJjvHvE%2B%2BxiqM7FG0BDDo0B502BPtXd1VpmOIjdlLj3wxzDc%2Fc%2Bm36IDbLHZAL4uxZXcIjHRoTmvK0QdYIILdy2AhV1CvRYpsdZg0%2FXnc2XZrwuw4J7YpWbHJiny14CAnLuEJPnuvvGZV6Hbh7ZJo5WucloyV0Hp3vQUGXNjxK129a9S%2FawYgT5%2Br0SR81vzzrrEVmXQDD60H4HqzPbhyenwROg9C5hIh3ThQtf01qzjbOvBQ%3D%3D%7Ctkp%3ABk9SR4KS4eGIYg')"
   ],
   "metadata": {
    "collapsed": false,
    "pycharm": {
     "name": "#%%\n"
    }
   }
  },
  {
   "cell_type": "code",
   "execution_count": null,
   "outputs": [],
   "source": [],
   "metadata": {
    "collapsed": false,
    "pycharm": {
     "name": "#%%\n"
    }
   }
  },
  {
   "cell_type": "markdown",
   "source": [],
   "metadata": {
    "collapsed": false
   }
  },
  {
   "cell_type": "code",
   "execution_count": 47,
   "outputs": [],
   "source": [
    "desc = driver.find_element_by_css_selector('div[id=\"desc_wrapper_ctr\"]')"
   ],
   "metadata": {
    "collapsed": false,
    "pycharm": {
     "name": "#%%\n"
    }
   }
  },
  {
   "cell_type": "code",
   "execution_count": 48,
   "outputs": [
    {
     "data": {
      "text/plain": "'\\n\\t\\t\\t<div id=\"desc_div\" class=\"\">\\n\\t\\t\\t\\t<script>if ((typeof (oGaugeInfo) != \"undefined\")){var descGaugeStartInfo = {descST:(new Date()).getTime()};}</script>\\n\\t\\t\\t\\t\\t\\t\\t<div><div data-viewport=\"{&quot;trackableId&quot;:&quot;01H14EJMBSVX0XXD6F3GP4FG6R&quot;}\" class=\"vim d-item-description\" data-testid=\"d-item-description\"><div class=\"section-title\"><div class=\"section-title__title-container\"><h2 class=\"section-title__title\" id=\"ITEM_DESCRIPTION_MIN_VIEW_MODULE0-0-1-title\"><span class=\"ux-textspans\">Item description from the seller</span></h2></div></div><iframe id=\"desc_ifr\" src=\"https://vi.vipr.ebaydesc.com/ws/eBayISAPI.dll?ViewItemDescV4&amp;item=256048040264&amp;t=1681860081000&amp;category=180043&amp;seller=bestdealonwheels&amp;excSoj=1&amp;excTrk=1&amp;lsite=100&amp;ittenable=true&amp;domain=ebay.com&amp;descgauge=1&amp;cspheader=1&amp;oneClk=2&amp;secureDesc=1\" title=\"Seller\\'s description of item\" sandbox=\"allow-scripts allow-popups allow-popups-to-escape-sandbox allow-same-origin\" height=\"500px\" width=\"100%\" marginheight=\"0\" marginwidth=\"0\" frameborder=\"0\"></iframe></div></div>\\n\\t\\t\\t\\t\\t\\t\\t\\t</div>\\n'"
     },
     "execution_count": 48,
     "metadata": {},
     "output_type": "execute_result"
    }
   ],
   "source": [
    "desc.get_attribute(\"innerHTML\")"
   ],
   "metadata": {
    "collapsed": false,
    "pycharm": {
     "name": "#%%\n"
    }
   }
  },
  {
   "cell_type": "code",
   "execution_count": 49,
   "outputs": [
    {
     "data": {
      "text/plain": "'Item description from the seller'"
     },
     "execution_count": 49,
     "metadata": {},
     "output_type": "execute_result"
    }
   ],
   "source": [
    "desc.text"
   ],
   "metadata": {
    "collapsed": false,
    "pycharm": {
     "name": "#%%\n"
    }
   }
  },
  {
   "cell_type": "code",
   "execution_count": 3,
   "outputs": [
    {
     "ename": "FileNotFoundError",
     "evalue": "[Errno 2] No such file or directory: './data/test.json'",
     "output_type": "error",
     "traceback": [
      "\u001B[0;31m---------------------------------------------------------------------------\u001B[0m",
      "\u001B[0;31mFileNotFoundError\u001B[0m                         Traceback (most recent call last)",
      "Cell \u001B[0;32mIn[3], line 1\u001B[0m\n\u001B[0;32m----> 1\u001B[0m \u001B[43mappend_to_json\u001B[49m\u001B[43m(\u001B[49m\u001B[38;5;124;43m'\u001B[39;49m\u001B[38;5;124;43m./data/test.json\u001B[39;49m\u001B[38;5;124;43m'\u001B[39;49m\u001B[43m,\u001B[49m\u001B[43m \u001B[49m\u001B[43m{\u001B[49m\u001B[38;5;124;43m'\u001B[39;49m\u001B[38;5;124;43mtest\u001B[39;49m\u001B[38;5;124;43m'\u001B[39;49m\u001B[43m:\u001B[49m\u001B[43m \u001B[49m\u001B[38;5;124;43m'\u001B[39;49m\u001B[38;5;124;43mtest_data\u001B[39;49m\u001B[38;5;124;43m'\u001B[39;49m\u001B[43m}\u001B[49m\u001B[43m)\u001B[49m\n",
      "File \u001B[0;32m~/Dropbox (University of Michigan)/projects/ev/util.py:33\u001B[0m, in \u001B[0;36mappend_to_json\u001B[0;34m(json_file, new_data)\u001B[0m\n\u001B[1;32m     30\u001B[0m \u001B[38;5;28;01mdef\u001B[39;00m \u001B[38;5;21mappend_to_json\u001B[39m(json_file, new_data):\n\u001B[1;32m     31\u001B[0m     \u001B[38;5;66;03m# write if new\u001B[39;00m\n\u001B[0;32m---> 33\u001B[0m     \u001B[38;5;28;01mwith\u001B[39;00m \u001B[38;5;28;43mopen\u001B[39;49m\u001B[43m(\u001B[49m\u001B[43mjson_file\u001B[49m\u001B[43m,\u001B[49m\u001B[43m \u001B[49m\u001B[38;5;124;43m'\u001B[39;49m\u001B[38;5;124;43mr\u001B[39;49m\u001B[38;5;124;43m'\u001B[39;49m\u001B[43m)\u001B[49m \u001B[38;5;28;01mas\u001B[39;00m fp:\n\u001B[1;32m     34\u001B[0m         all_data \u001B[38;5;241m=\u001B[39m json\u001B[38;5;241m.\u001B[39mload(fp)\n\u001B[1;32m     35\u001B[0m     all_data\u001B[38;5;241m.\u001B[39mappend(new_data)\n",
      "\u001B[0;31mFileNotFoundError\u001B[0m: [Errno 2] No such file or directory: './data/test.json'"
     ]
    }
   ],
   "source": [
    "append_to_json('./data/test.json', {'test': 'test_data'})"
   ],
   "metadata": {
    "collapsed": false,
    "pycharm": {
     "name": "#%%\n"
    }
   }
  },
  {
   "cell_type": "code",
   "execution_count": 5,
   "outputs": [],
   "source": [
    "with open('./data/test.json','w') as fp:\n",
    "    json.dump({'test':'test_data'},fp)"
   ],
   "metadata": {
    "collapsed": false,
    "pycharm": {
     "name": "#%%\n"
    }
   }
  },
  {
   "cell_type": "code",
   "execution_count": null,
   "outputs": [],
   "source": [],
   "metadata": {
    "collapsed": false,
    "pycharm": {
     "name": "#%%\n"
    }
   }
  }
 ],
 "metadata": {
  "kernelspec": {
   "display_name": "Python 3",
   "language": "python",
   "name": "python3"
  },
  "language_info": {
   "codemirror_mode": {
    "name": "ipython",
    "version": 2
   },
   "file_extension": ".py",
   "mimetype": "text/x-python",
   "name": "python",
   "nbconvert_exporter": "python",
   "pygments_lexer": "ipython2",
   "version": "2.7.6"
  }
 },
 "nbformat": 4,
 "nbformat_minor": 0
}