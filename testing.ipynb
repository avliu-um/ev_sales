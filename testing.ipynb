{
 "cells": [
  {
   "cell_type": "code",
   "execution_count": 1,
   "metadata": {
    "collapsed": true
   },
   "outputs": [
    {
     "name": "stdout",
     "output_type": "stream",
     "text": [
      "Intel MKL WARNING: Support of Intel(R) Streaming SIMD Extensions 4.2 (Intel(R) SSE4.2) enabled only processors has been deprecated. Intel oneAPI Math Kernel Library 2025.0 will require Intel(R) Advanced Vector Extensions (Intel(R) AVX) instructions.\n",
      "Intel MKL WARNING: Support of Intel(R) Streaming SIMD Extensions 4.2 (Intel(R) SSE4.2) enabled only processors has been deprecated. Intel oneAPI Math Kernel Library 2025.0 will require Intel(R) Advanced Vector Extensions (Intel(R) AVX) instructions.\n"
     ]
    }
   ],
   "source": [
    "import pandas as pd"
   ]
  },
  {
   "cell_type": "code",
   "execution_count": 1,
   "outputs": [],
   "source": [],
   "metadata": {
    "collapsed": false,
    "pycharm": {
     "name": "#%%\n"
    }
   }
  },
  {
   "cell_type": "code",
   "execution_count": 10,
   "outputs": [
    {
     "data": {
      "text/plain": "['TESLA MODEL X',\n 'HONDA CLARITY',\n 'TESLA MODEL 3',\n 'NISSAN LEAF',\n 'TESLA MODEL S',\n 'FORD FUSION',\n 'AUDI Q5 E',\n 'FORD C-MAX',\n 'TESLA MODEL Y',\n 'KIA NIRO',\n 'CHEVROLET VOLT',\n 'CHEVROLET BOLT EV',\n 'SMART FORTWO',\n 'BMW X5',\n 'KIA SORENTO',\n 'TOYOTA PRIUS PRIME',\n 'BMW I3',\n 'JEEP WRANGLER',\n 'CHEVROLET SPARK',\n 'FIAT 500',\n 'VOLVO XC60',\n 'VOLVO XC90',\n 'FORD FOCUS',\n 'KIA SOUL EV',\n 'AUDI A3',\n 'CHRYSLER PACIFICA',\n 'KIA OPTIMA',\n 'LEXUS NX',\n 'TOYOTA PRIUS PLUG-IN',\n 'FORD MUSTANG MACH-E',\n 'CHEVROLET BOLT EUV',\n 'PORSCHE CAYENNE',\n 'CADILLAC ELR',\n 'BMW X3',\n 'HYUNDAI KONA ELECTRIC',\n 'BMW 530E',\n 'MERCEDES-BENZ EQB-CLASS',\n 'RIVIAN R1T',\n 'FORD TRANSIT',\n 'VOLKSWAGEN E-GOLF',\n 'VOLKSWAGEN ID.4',\n 'SMART FORTWO ELECTRIC DRIVE',\n 'JAGUAR I-PACE',\n 'LINCOLN AVIATOR',\n 'PORSCHE TAYCAN',\n 'AUDI E-TRON',\n 'MERCEDES-BENZ C-CLASS',\n 'MITSUBISHI OUTLANDER',\n 'KIA SOUL',\n 'HYUNDAI SONATA',\n 'JEEP GRAND CHEROKEE',\n 'TOYOTA RAV4 PRIME',\n 'KIA SPORTAGE',\n 'HYUNDAI IONIQ 5',\n 'KIA EV6',\n 'MERCEDES-BENZ EQS-CLASS SEDAN',\n 'RIVIAN R1S',\n 'BMW IX',\n 'HYUNDAI KONA',\n 'BMW I8',\n 'BMW 330E',\n 'MINI COUNTRYMAN',\n 'VOLVO nan',\n 'VOLVO S60',\n 'FORD F-150',\n 'VOLVO XC40',\n 'HYUNDAI IONIQ',\n 'AUDI Q5',\n 'MERCEDES-BENZ GLE-CLASS',\n 'MINI HARDTOP',\n 'FORD ESCAPE',\n 'BMW I4',\n 'MERCEDES-BENZ B-CLASS',\n 'HYUNDAI IONIQ 6',\n 'HYUNDAI SANTA FE',\n 'TESLA ROADSTER',\n 'POLESTAR PS2',\n 'TOYOTA RAV4',\n 'PORSCHE PANAMERA',\n 'MERCEDES-BENZ GLC-CLASS',\n 'AUDI Q4',\n 'VOLVO C40',\n 'LINCOLN CORSAIR',\n 'VOLVO S90',\n 'MITSUBISHI I-MIEV',\n 'GENESIS GV60',\n 'AUDI E-TRON GT',\n 'SUBARU CROSSTREK',\n 'SUBARU SOLTERRA',\n 'LUCID AIR',\n 'NISSAN ARIYA',\n 'AUDI E-TRON SPORTBACK',\n 'MERCEDES-BENZ EQS-CLASS SUV',\n 'LEXUS RZ 450E',\n 'CADILLAC LYRIQ',\n 'HYUNDAI TUCSON',\n 'SMART EQ FORTWO',\n 'VOLVO V60',\n 'AUDI RS E-TRON GT',\n 'TH!NK CITY',\n 'GENESIS G80',\n 'LAND ROVER RANGE ROVER SPORT',\n 'TOYOTA BZ4X',\n 'MERCEDES-BENZ EQE-CLASS SEDAN',\n 'HONDA ACCORD',\n 'BMW 740E',\n 'LAND ROVER RANGE ROVER',\n 'FISKER KARMA',\n 'FORD RANGER',\n 'MERCEDES-BENZ S-CLASS',\n 'RIVIAN EDV',\n 'PORSCHE 918',\n 'AUDI A7',\n 'BMW 745E',\n 'AZURE DYNAMICS TRANSIT CONNECT ELECTRIC',\n 'AUDI A8 E',\n 'CADILLAC CT6',\n 'WHEEGO ELECTRIC CARS WHEEGO',\n 'BENTLEY FLYING SPUR',\n 'BMW 745LE',\n 'BENTLEY BENTAYGA',\n 'CHEVROLET S-10 PICKUP']"
     },
     "execution_count": 10,
     "metadata": {},
     "output_type": "execute_result"
    }
   ],
   "source": [
    "df = pd.read_csv('./data/all_evs.csv',header=None)\n",
    "list(df[0].values)"
   ],
   "metadata": {
    "collapsed": false,
    "pycharm": {
     "name": "#%%\n"
    }
   }
  },
  {
   "cell_type": "code",
   "execution_count": null,
   "outputs": [],
   "source": [],
   "metadata": {
    "collapsed": false,
    "pycharm": {
     "name": "#%%\n"
    }
   }
  }
 ],
 "metadata": {
  "kernelspec": {
   "display_name": "Python 3",
   "language": "python",
   "name": "python3"
  },
  "language_info": {
   "codemirror_mode": {
    "name": "ipython",
    "version": 2
   },
   "file_extension": ".py",
   "mimetype": "text/x-python",
   "name": "python",
   "nbconvert_exporter": "python",
   "pygments_lexer": "ipython2",
   "version": "2.7.6"
  }
 },
 "nbformat": 4,
 "nbformat_minor": 0
}