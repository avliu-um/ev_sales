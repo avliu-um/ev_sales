{
 "cells": [
  {
   "cell_type": "code",
   "execution_count": 6,
   "metadata": {
    "collapsed": true
   },
   "outputs": [],
   "source": [
    "from bs4 import BeautifulSoup\n",
    "from urllib.request import Request, urlopen"
   ]
  },
  {
   "cell_type": "code",
   "execution_count": 6,
   "outputs": [],
   "source": [],
   "metadata": {
    "collapsed": false,
    "pycharm": {
     "name": "#%%\n"
    }
   }
  },
  {
   "cell_type": "code",
   "execution_count": 8,
   "outputs": [],
   "source": [
    "# Get the website html\n",
    "\n",
    "test_url = 'https://www.ebay.com/itm/256048040264?hash=item3b9da70948:g:fHIAAOSwieBkPtU~&amdata=enc%3AAQAIAAAAwMYpbKTPPpChZHBE9RJjvHvE%2B%2BxiqM7FG0BDDo0B502BPtXd1VpmOIjdlLj3wxzDc%2Fc%2Bm36IDbLHZAL4uxZXcIjHRoTmvK0QdYIILdy2AhV1CvRYpsdZg0%2FXnc2XZrwuw4J7YpWbHJiny14CAnLuEJPnuvvGZV6Hbh7ZJo5WucloyV0Hp3vQUGXNjxK129a9S%2FawYgT5%2Br0SR81vzzrrEVmXQDD60H4HqzPbhyenwROg9C5hIh3ThQtf01qzjbOvBQ%3D%3D%7Ctkp%3ABk9SR4KS4eGIYg'\n",
    "\n",
    "req = Request(test_url)\n",
    "html_page = urlopen(req)\n",
    "soup = BeautifulSoup(html_page, 'html.parser')"
   ],
   "metadata": {
    "collapsed": false,
    "pycharm": {
     "name": "#%%\n"
    }
   }
  },
  {
   "cell_type": "code",
   "execution_count": 9,
   "outputs": [],
   "source": [
    "elem = soup.select('div[class*=\"vi-price\"]')"
   ],
   "metadata": {
    "collapsed": false,
    "pycharm": {
     "name": "#%%\n"
    }
   }
  },
  {
   "cell_type": "code",
   "execution_count": 11,
   "outputs": [],
   "source": [
    "import re"
   ],
   "metadata": {
    "collapsed": false,
    "pycharm": {
     "name": "#%%\n"
    }
   }
  },
  {
   "cell_type": "code",
   "execution_count": 10,
   "outputs": [
    {
     "data": {
      "text/plain": "'\\n\\n\\t\\t\\t\\t\\t\\t\\t\\t\\t\\tUS $48,900.00\\n\\n\\t\\tBest offer accepted\\n\\xa0\\n\\n\\nThis item was listed in the fixed price format with a Best Offer option. The seller accepted a Best Offer price.\\n\\n'"
     },
     "execution_count": 10,
     "metadata": {},
     "output_type": "execute_result"
    }
   ],
   "source": [
    "elem[0].text"
   ],
   "metadata": {
    "collapsed": false,
    "pycharm": {
     "name": "#%%\n"
    }
   }
  },
  {
   "cell_type": "code",
   "execution_count": 13,
   "outputs": [
    {
     "data": {
      "text/plain": "'!abc'"
     },
     "execution_count": 13,
     "metadata": {},
     "output_type": "execute_result"
    }
   ],
   "source": [
    "re.sub(\"[\\n\\t]+\",'|', '\\n\\n\\n\\t\\tabc')"
   ],
   "metadata": {
    "collapsed": false,
    "pycharm": {
     "name": "#%%\n"
    }
   }
  },
  {
   "cell_type": "code",
   "execution_count": null,
   "outputs": [],
   "source": [],
   "metadata": {
    "collapsed": false,
    "pycharm": {
     "name": "#%%\n"
    }
   }
  }
 ],
 "metadata": {
  "kernelspec": {
   "display_name": "Python 3",
   "language": "python",
   "name": "python3"
  },
  "language_info": {
   "codemirror_mode": {
    "name": "ipython",
    "version": 2
   },
   "file_extension": ".py",
   "mimetype": "text/x-python",
   "name": "python",
   "nbconvert_exporter": "python",
   "pygments_lexer": "ipython2",
   "version": "2.7.6"
  }
 },
 "nbformat": 4,
 "nbformat_minor": 0
}