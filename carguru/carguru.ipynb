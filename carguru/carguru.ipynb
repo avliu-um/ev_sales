{
 "cells": [
  {
   "cell_type": "markdown",
   "id": "f37d8772-b521-4382-99ce-0ebf26c03764",
   "metadata": {
    "tags": []
   },
   "source": [
    "## CarGuru Platform Notes"
   ]
  },
  {
   "cell_type": "markdown",
   "id": "cc09b5da-2c42-4dbd-b54f-ecf87521ed8f",
   "metadata": {
    "tags": []
   },
   "source": [
    "### get_links() \n",
    "\n",
    "- 2 search endpoints: NEW and USED cars\n",
    "- can potentially filter for new postings with AGE_IN_DAYS indicator\n",
    "\n",
    "`NEW CARS` search listings link structure samples\n",
    "- https://www.cargurus.com/Cars/new/searchresults.action?zip=48933&inventorySearchWidgetType=NEW_CAR&sortDir=ASC&sourceContext=untrackedExternal_false_0&distance=100&sortType=AGE_IN_DAYS\n",
    "\n",
    "`USED CARS` search listings link structure samples\n",
    "- https://www.cargurus.com/Cars/inventorylisting/viewDetailsFilterViewInventoryListing.action?zip=48933&inventorySearchWidgetType=AUTO&sortDir=ASC&sourceContext=untrackedWithinSite_false_0&distance=100&sortType=PRICE\n",
    "\n",
    "- https://www.cargurus.com/Cars/inventorylisting/viewDetailsFilterViewInventoryListing.action?zip=48933&inventorySearchWidgetType=AUTO&sortDir=ASC&sourceContext=untrackedWithinSite_true_1&distance=200&sortType=AGE_IN_DAYS\n",
    "\n",
    "- https://www.cargurus.com/Cars/inventorylisting/viewDetailsFilterViewInventoryListing.action?zip=48933&distance=200\n",
    "- https://www.cargurus.com/Cars/inventorylisting/viewDetailsFilterViewInventoryListing.action?zip=48933&distance=200#resultsPage=2"
   ]
  },
  {
   "cell_type": "markdown",
   "id": "58b69c71-aa07-4eb9-9532-471f672bc20b",
   "metadata": {
    "tags": []
   },
   "source": [
    "### get_data()\n",
    "- 2 part url structure:\n",
    "    - `f'{search_listings_url}{car_listing}'`\n",
    "    \n",
    "`NEW CARS` listing url sample    \n",
    "- https://www.cargurus.com/Cars/new/searchresults.action?zip=48933&distance=200#listing=361741807/NEWCAR_FEATURED/DEFAULT\n",
    "    \n",
    "`USED CARS` listing url sample\n",
    "- https://www.cargurus.com/Cars/inventorylisting/viewDetailsFilterViewInventoryListing.action?zip=48933&inventorySearchWidgetType=AUTO&sortDir=ASC&sourceContext=untrackedWithinSite_true_1&distance=200&sortType=AGE_IN_DAYS#listing=362620800/NONE"
   ]
  },
  {
   "cell_type": "markdown",
   "id": "3b18c1cb-4cc0-4681-b037-85b70d0cce6f",
   "metadata": {
    "tags": []
   },
   "source": [
    "## Scripts"
   ]
  },
  {
   "cell_type": "code",
   "execution_count": null,
   "id": "d5e28d65-40e9-4a3f-a713-04f9627b3e55",
   "metadata": {},
   "outputs": [],
   "source": [
    "import undetected_chromedriver as uc\n",
    "from selenium.webdriver.common.by import By\n",
    "from bs4 import BeautifulSoup\n",
    "import time"
   ]
  },
  {
   "cell_type": "code",
   "execution_count": 8,
   "id": "925e6164-6e74-4a52-b20e-6236c06815eb",
   "metadata": {
    "tags": []
   },
   "outputs": [],
   "source": [
    "def get_links(zip_code, radius, car_type):\n",
    "    \n",
    "    # url builder\n",
    "    page = 1\n",
    "    if car_type == 'new':\n",
    "        url = f'https://www.cargurus.com/Cars/new/searchresults.action?' \\\n",
    "              f'zip={zip_code}&inventorySearchWidgetType=NEW_CAR&sortDir=ASC' \\\n",
    "              f'&sourceContext=untrackedExternal_false_0&distance={radius}' \\\n",
    "              f'&sortType=AGE_IN_DAYS#resultsPage={page}'\n",
    "    elif car_type == 'used':\n",
    "        url = f'https://www.cargurus.com/Cars/inventorylisting/viewDetailsFilterViewInventoryListing.action?'\\\n",
    "              f'zip={zip_code}&inventorySearchWidgetType=AUTO&sortDir=ASC' \\\n",
    "              f'&sourceContext=untrackedWithinSite_true_1&distance={radius}' \\\n",
    "              f'&sortType=AGE_IN_DAYS#resultsPage={page}'\n",
    "    else: \n",
    "        print('Invalid car type, new or used')\n",
    "        \n",
    "    # launch Chrome session \n",
    "    driver = uc.Chrome()\n",
    "    #driver.implicitly_wait(10)\n",
    "    driver.get(url)\n",
    "    print(\"\\n 3...\")\n",
    "    time.sleep(1)\n",
    "    print(\"\\n 2...\")\n",
    "    time.sleep(1)\n",
    "    print(\"\\n 1...\")\n",
    "    time.sleep(1)\n",
    "    \n",
    "    pass"
   ]
  },
  {
   "cell_type": "code",
   "execution_count": 9,
   "id": "d8884420-1148-461f-850b-e887dcedbfc9",
   "metadata": {
    "tags": []
   },
   "outputs": [],
   "source": [
    "zip_code = 48933\n",
    "radius = 200\n",
    "\n",
    "get_links(zip_code, radius, car_type='used')\n",
    "## sliding puzzle - getting blocked with 5 seconds after manual intervention\n",
    "# additional implicit waits hit the same sliding puzzle"
   ]
  },
  {
   "cell_type": "code",
   "execution_count": null,
   "id": "d31f2646-d6da-416c-8caf-231d87368b45",
   "metadata": {},
   "outputs": [],
   "source": [
    "    # find page elements\n",
    "    # check AGE_IN_DAYS\n",
    "#     for i in range(pages):\n",
    "#         html = driver.page_source\n",
    "        \n",
    "#         next_page = driver.find_element_by_class_name('nextPageElement')\n",
    "#         next_page.click()"
   ]
  },
  {
   "cell_type": "markdown",
   "id": "fc888c23-3ab4-49c0-96fb-66d988591477",
   "metadata": {
    "tags": []
   },
   "source": [
    "### search listings html parsing"
   ]
  },
  {
   "cell_type": "code",
   "execution_count": null,
   "id": "ab05886d-6b18-4128-9b1b-da058b6afb05",
   "metadata": {
    "tags": []
   },
   "outputs": [],
   "source": [
    "links = './sample/CarGurus.html'"
   ]
  },
  {
   "cell_type": "code",
   "execution_count": null,
   "id": "6f8d6129-f532-4fdc-b3c7-0fd2c92f9814",
   "metadata": {
    "tags": []
   },
   "outputs": [],
   "source": [
    "with open(links) as fp:\n",
    "    soup = BeautifulSoup(fp)\n",
    "    \n",
    "links = [link.get('href') for link in soup.find_all('a')]\n",
    "car_listings = [link for link in new_links if link is not None and link.startswith('#listing')] #filter for NoneType hrefs"
   ]
  },
  {
   "cell_type": "code",
   "execution_count": null,
   "id": "eb97d7bc-07fd-4c82-bdf7-62e29bc1f124",
   "metadata": {
    "tags": []
   },
   "outputs": [],
   "source": [
    "#print(soup.prettify())"
   ]
  },
  {
   "cell_type": "code",
   "execution_count": null,
   "id": "73a6ffb3-ca3a-4a0c-8202-b1b6f0288fae",
   "metadata": {
    "tags": []
   },
   "outputs": [],
   "source": [
    "len(car_listings)"
   ]
  },
  {
   "cell_type": "code",
   "execution_count": null,
   "id": "598b6a10-3b00-4fa2-9b94-fa13b316efe6",
   "metadata": {
    "tags": []
   },
   "outputs": [],
   "source": [
    "car_listings[:10]"
   ]
  },
  {
   "cell_type": "markdown",
   "id": "05966188-d39c-41b2-b9d6-91dee69773f5",
   "metadata": {},
   "source": [
    "### individual listing html parsing"
   ]
  },
  {
   "cell_type": "code",
   "execution_count": 11,
   "id": "f7319a38-6229-4b3d-9a40-e24df65bb3f1",
   "metadata": {
    "tags": []
   },
   "outputs": [],
   "source": [
    "used_listing = './sample/2021ChevroletSilverado.html'\n",
    "new_listing = './sample/new2023ChevroletTrailblazer.html'"
   ]
  },
  {
   "cell_type": "code",
   "execution_count": null,
   "id": "4b833041-7f18-40f0-9166-413e4ee880b2",
   "metadata": {},
   "outputs": [],
   "source": [
    "#div class=\"cardBodyPadding cardBody\""
   ]
  },
  {
   "cell_type": "code",
   "execution_count": 13,
   "id": "0d740552-d6bc-4df8-88ad-bc897514d195",
   "metadata": {
    "tags": []
   },
   "outputs": [],
   "source": [
    "with open(used_listing) as fp:\n",
    "    soup = BeautifulSoup(fp)\n",
    "\n",
    "#print(soup.prettify())"
   ]
  },
  {
   "cell_type": "markdown",
   "id": "1bbe4a78-6c41-4e38-8726-ab86e28f472c",
   "metadata": {
    "tags": []
   },
   "source": [
    "## Requirements"
   ]
  },
  {
   "cell_type": "markdown",
   "id": "abbc00fd-0127-474a-b2c5-c88b753d9d05",
   "metadata": {},
   "source": [
    "Python implementation: CPython\n",
    "\n",
    "Python version       : 3.11.4\n",
    "\n",
    "IPython version      : 8.12.0\n",
    "\n",
    "\n",
    "Compiler    : Clang 14.0.6 \n",
    "\n",
    "OS          : Darwin\n",
    "\n",
    "Release     : 22.5.0\n",
    "\n",
    "Machine     : x86_64\n",
    "\n",
    "Processor   : i386\n",
    "\n",
    "CPU cores   : 8\n",
    "\n",
    "Architecture: 64bit\n",
    "\n",
    "\n",
    "bs4                    : 4.12.2\n",
    "\n",
    "selenium               : 4.10.0\n",
    "\n",
    "undetected_chromedriver: 3.5.0"
   ]
  },
  {
   "cell_type": "code",
   "execution_count": 2,
   "id": "772aa08e-dbd2-4cfd-88fe-3058a423c29d",
   "metadata": {
    "tags": []
   },
   "outputs": [],
   "source": [
    "#%load_ext watermark\n",
    "#%watermark -v -m -iv"
   ]
  }
 ],
 "metadata": {
  "kernelspec": {
   "display_name": "Python 3 (ipykernel)",
   "language": "python",
   "name": "python3"
  },
  "language_info": {
   "codemirror_mode": {
    "name": "ipython",
    "version": 3
   },
   "file_extension": ".py",
   "mimetype": "text/x-python",
   "name": "python",
   "nbconvert_exporter": "python",
   "pygments_lexer": "ipython3",
   "version": "3.11.4"
  }
 },
 "nbformat": 4,
 "nbformat_minor": 5
}
