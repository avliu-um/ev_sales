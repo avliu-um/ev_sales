{
 "cells": [
  {
   "cell_type": "code",
   "execution_count": 1,
   "id": "17a822a3-3ae4-45a5-a8a8-a0f4fe3cfeb6",
   "metadata": {
    "tags": []
   },
   "outputs": [],
   "source": [
    "import requests"
   ]
  },
  {
   "cell_type": "code",
   "execution_count": 2,
   "id": "a7a3286e-7ce6-4e26-bc67-ae66178910f2",
   "metadata": {
    "tags": []
   },
   "outputs": [],
   "source": [
    "url = 'https://www.cargurus.com/Cars/api/1.0/carselector/listingSearch.action?searchType=USED&entityId=m55&postalCode=02144&distance=50'"
   ]
  },
  {
   "cell_type": "code",
   "execution_count": 4,
   "id": "6b20fbad-5f7b-4cef-b7af-acd0b988ea0d",
   "metadata": {
    "tags": []
   },
   "outputs": [],
   "source": [
    "r = requests.get(url)"
   ]
  },
  {
   "cell_type": "code",
   "execution_count": 5,
   "id": "a1c1349f-8a5a-4812-bcaf-36c2e2726921",
   "metadata": {
    "tags": []
   },
   "outputs": [
    {
     "data": {
      "text/plain": [
       "<Response [403]>"
      ]
     },
     "execution_count": 5,
     "metadata": {},
     "output_type": "execute_result"
    }
   ],
   "source": [
    "r"
   ]
  },
  {
   "cell_type": "code",
   "execution_count": 8,
   "id": "02e508d2-8085-4f85-baca-755ff4120e0b",
   "metadata": {
    "tags": []
   },
   "outputs": [],
   "source": [
    "url = 'https://www.cargurus.com/Cars/api/1.0/carselector/listModels.action?searchType=USED&makeId=m55'"
   ]
  },
  {
   "cell_type": "code",
   "execution_count": 9,
   "id": "c2950121-db42-43cd-a64c-68d99bddb427",
   "metadata": {
    "tags": []
   },
   "outputs": [
    {
     "data": {
      "text/plain": [
       "<Response [200]>"
      ]
     },
     "execution_count": 9,
     "metadata": {},
     "output_type": "execute_result"
    }
   ],
   "source": [
    "r = requests.get(url)\n",
    "r"
   ]
  },
  {
   "cell_type": "code",
   "execution_count": null,
   "id": "c4c36560-57f6-40bb-9c0f-f791f8576cae",
   "metadata": {},
   "outputs": [],
   "source": []
  }
 ],
 "metadata": {
  "kernelspec": {
   "display_name": "Python 3 (ipykernel)",
   "language": "python",
   "name": "python3"
  },
  "language_info": {
   "codemirror_mode": {
    "name": "ipython",
    "version": 3
   },
   "file_extension": ".py",
   "mimetype": "text/x-python",
   "name": "python",
   "nbconvert_exporter": "python",
   "pygments_lexer": "ipython3",
   "version": "3.11.4"
  }
 },
 "nbformat": 4,
 "nbformat_minor": 5
}
