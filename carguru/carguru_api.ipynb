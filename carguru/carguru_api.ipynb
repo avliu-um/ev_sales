{
 "cells": [
  {
   "cell_type": "code",
   "execution_count": 1,
   "id": "17a822a3-3ae4-45a5-a8a8-a0f4fe3cfeb6",
   "metadata": {
    "tags": []
   },
   "outputs": [],
   "source": [
    "import requests"
   ]
  },
  {
   "cell_type": "code",
   "execution_count": 2,
   "id": "a7a3286e-7ce6-4e26-bc67-ae66178910f2",
   "metadata": {
    "tags": []
   },
   "outputs": [],
   "source": [
    "url = 'https://www.cargurus.com/Cars/api/1.0/carselector/listingSearch.action?searchType=USED&entityId=m55&postalCode=02144&distance=50'"
   ]
  },
  {
   "cell_type": "code",
   "execution_count": 3,
   "id": "6b20fbad-5f7b-4cef-b7af-acd0b988ea0d",
   "metadata": {
    "tags": []
   },
   "outputs": [],
   "source": [
    "r = requests.get(url)"
   ]
  },
  {
   "cell_type": "code",
   "execution_count": 11,
   "id": "a1c1349f-8a5a-4812-bcaf-36c2e2726921",
   "metadata": {
    "tags": []
   },
   "outputs": [
    {
     "data": {
      "text/plain": [
       "403"
      ]
     },
     "execution_count": 11,
     "metadata": {},
     "output_type": "execute_result"
    }
   ],
   "source": [
    "r.status_code"
   ]
  },
  {
   "cell_type": "code",
   "execution_count": 8,
   "id": "ecdee1d8-e049-46f8-9a04-fa85c5b5ed34",
   "metadata": {
    "tags": []
   },
   "outputs": [
    {
     "data": {
      "text/plain": [
       "b'<html><head><title>cargurus.com</title><style>#cmsg{animation: A 1.5s;}@keyframes A{0%{opacity:0;}99%{opacity:0;}100%{opacity:1;}}</style></head><body style=\"margin:0\"><p id=\"cmsg\">Please enable JS and disable any ad blocker</p><script data-cfasync=\"false\">var dd={\\'rt\\':\\'c\\',\\'cid\\':\\'AHrlqAAAAAMAIqiZRvXYxLMAaJnk-g==\\',\\'hsh\\':\\'C3D682D3F2321D709B3DA56E04E573\\',\\'t\\':\\'bv\\',\\'s\\':43841,\\'e\\':\\'b3070b1a3771f0244db4e3e3bc425ead5d7afc6aedc1d6fbccd447adb81154d5\\',\\'host\\':\\'geo.captcha-delivery.com\\'}</script><script data-cfasync=\"false\" src=\"https://ct.captcha-delivery.com/c.js\"></script></body></html>\\n'"
      ]
     },
     "execution_count": 8,
     "metadata": {},
     "output_type": "execute_result"
    }
   ],
   "source": [
    "r.content"
   ]
  },
  {
   "cell_type": "code",
   "execution_count": 9,
   "id": "02e508d2-8085-4f85-baca-755ff4120e0b",
   "metadata": {
    "tags": []
   },
   "outputs": [],
   "source": [
    "url = 'https://www.cargurus.com/Cars/api/1.0/carselector/listModels.action?searchType=USED&makeId=m55'"
   ]
  },
  {
   "cell_type": "code",
   "execution_count": 12,
   "id": "ca27d347-f79a-4857-93e4-3a1c637b5f70",
   "metadata": {
    "tags": []
   },
   "outputs": [
    {
     "data": {
      "text/plain": [
       "200"
      ]
     },
     "execution_count": 12,
     "metadata": {},
     "output_type": "execute_result"
    }
   ],
   "source": [
    "r = requests.get(url)\n",
    "r.status_code"
   ]
  },
  {
   "cell_type": "code",
   "execution_count": 13,
   "id": "c4c36560-57f6-40bb-9c0f-f791f8576cae",
   "metadata": {},
   "outputs": [
    {
     "data": {
      "text/plain": [
       "b'{\"makeId\":\"m55\",\"models\":[{\"name\":\"Arteon\",\"isPopular\":true,\"id\":\"d2669\"},{\"name\":\"Atlas\",\"isPopular\":true,\"id\":\"d2507\"},{\"name\":\"Atlas Cross Sport\",\"isPopular\":true,\"id\":\"d2995\"},{\"name\":\"Beetle\",\"isPopular\":true,\"id\":\"d201\"},{\"name\":\"Cabrio\",\"isPopular\":false,\"id\":\"d193\"},{\"name\":\"Cabriolet\",\"isPopular\":false,\"id\":\"d194\"},{\"name\":\"CC\",\"isPopular\":true,\"id\":\"d2014\"},{\"name\":\"Corrado\",\"isPopular\":false,\"id\":\"d195\"},{\"name\":\"e-Golf\",\"isPopular\":true,\"id\":\"d2284\"},{\"name\":\"Eos\",\"isPopular\":true,\"id\":\"d915\"},{\"name\":\"EuroVan\",\"isPopular\":false,\"id\":\"d196\"},{\"name\":\"Fox\",\"isPopular\":false,\"id\":\"d197\"},{\"name\":\"GLI\",\"isPopular\":false,\"id\":\"d1519\"},{\"name\":\"Gol\",\"isPopular\":false,\"id\":\"d1462\"},{\"name\":\"Golf\",\"isPopular\":true,\"id\":\"d198\"},{\"name\":\"Golf Alltrack\",\"isPopular\":true,\"id\":\"d2437\"},{\"name\":\"Golf GTI\",\"isPopular\":true,\"id\":\"d199\"},{\"name\":\"Golf R\",\"isPopular\":true,\"id\":\"d2131\"},{\"name\":\"Golf SportWagen\",\"isPopular\":true,\"id\":\"d2307\"},{\"name\":\"ID.4\",\"isPopular\":true,\"id\":\"d3098\"},{\"name\":\"Jetta\",\"isPopular\":true,\"id\":\"d200\"},{\"name\":\"Jetta GLI\",\"isPopular\":true,\"id\":\"d2860\"},{\"name\":\"Jetta Hybrid\",\"isPopular\":false,\"id\":\"d2936\"},{\"name\":\"Jetta SportWagen\",\"isPopular\":true,\"id\":\"d2094\"},{\"name\":\"Karmann Ghia\",\"isPopular\":false,\"id\":\"d1540\"},{\"name\":\"Microbus\",\"isPopular\":false,\"id\":\"d913\"},{\"name\":\"Passat\",\"isPopular\":true,\"id\":\"d202\"},{\"name\":\"Phaeton\",\"isPopular\":false,\"id\":\"d203\"},{\"name\":\"Pickup\",\"isPopular\":false,\"id\":\"d2689\"},{\"name\":\"R32\",\"isPopular\":false,\"id\":\"d204\"},{\"name\":\"Rabbit\",\"isPopular\":false,\"id\":\"d839\"},{\"name\":\"Routan\",\"isPopular\":true,\"id\":\"d1522\"},{\"name\":\"Super Beetle\",\"isPopular\":false,\"id\":\"d1971\"},{\"name\":\"Taos\",\"isPopular\":true,\"id\":\"d3131\"},{\"name\":\"Thing\",\"isPopular\":false,\"id\":\"d1583\"},{\"name\":\"Tiguan\",\"isPopular\":true,\"id\":\"d1104\"},{\"name\":\"Touareg\",\"isPopular\":true,\"id\":\"d205\"},{\"name\":\"Touareg 2\",\"isPopular\":false,\"id\":\"d1045\"},{\"name\":\"Touareg Hybrid\",\"isPopular\":false,\"id\":\"d2935\"},{\"name\":\"Type 2\",\"isPopular\":false,\"id\":\"d1984\"},{\"name\":\"Type 3\",\"isPopular\":false,\"id\":\"d2118\"},{\"name\":\"Vanagon\",\"isPopular\":false,\"id\":\"d206\"}],\"searchType\":\"USED\",\"success\":true}'"
      ]
     },
     "execution_count": 13,
     "metadata": {},
     "output_type": "execute_result"
    }
   ],
   "source": [
    "r.content"
   ]
  },
  {
   "cell_type": "code",
   "execution_count": null,
   "id": "d60de26e-0743-43fd-b2d1-87e0de3a0fef",
   "metadata": {},
   "outputs": [],
   "source": []
  }
 ],
 "metadata": {
  "kernelspec": {
   "display_name": "Python 3 (ipykernel)",
   "language": "python",
   "name": "python3"
  },
  "language_info": {
   "codemirror_mode": {
    "name": "ipython",
    "version": 3
   },
   "file_extension": ".py",
   "mimetype": "text/x-python",
   "name": "python",
   "nbconvert_exporter": "python",
   "pygments_lexer": "ipython3",
   "version": "3.11.4"
  }
 },
 "nbformat": 4,
 "nbformat_minor": 5
}
