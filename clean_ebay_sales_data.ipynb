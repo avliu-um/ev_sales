{
 "cells": [
  {
   "cell_type": "code",
   "execution_count": 103,
   "metadata": {
    "tags": []
   },
   "outputs": [],
   "source": [
    "import pandas as pd\n",
    "import json\n",
    "from datetime import datetime"
   ]
  },
  {
   "cell_type": "code",
   "execution_count": null,
   "metadata": {
    "collapsed": false,
    "jupyter": {
     "outputs_hidden": false
    },
    "pycharm": {
     "name": "#%%\n"
    }
   },
   "outputs": [],
   "source": []
  },
  {
   "cell_type": "code",
   "execution_count": null,
   "metadata": {
    "collapsed": false,
    "jupyter": {
     "outputs_hidden": false
    },
    "pycharm": {
     "name": "#%%\n"
    }
   },
   "outputs": [],
   "source": []
  },
  {
   "cell_type": "code",
   "execution_count": null,
   "metadata": {
    "collapsed": false,
    "jupyter": {
     "outputs_hidden": false
    },
    "pycharm": {
     "name": "#%%\n"
    }
   },
   "outputs": [],
   "source": []
  },
  {
   "cell_type": "markdown",
   "metadata": {},
   "source": [
    "# Get the data"
   ]
  },
  {
   "cell_type": "code",
   "execution_count": 104,
   "metadata": {
    "collapsed": false,
    "jupyter": {
     "outputs_hidden": false
    },
    "pycharm": {
     "name": "#%%\n"
    }
   },
   "outputs": [],
   "source": [
    "with open('./data/ebay_ev_sales_data.json') as f:\n",
    "    data = json.load(f)"
   ]
  },
  {
   "cell_type": "code",
   "execution_count": null,
   "metadata": {
    "collapsed": false,
    "jupyter": {
     "outputs_hidden": false
    },
    "pycharm": {
     "name": "#%%\n"
    }
   },
   "outputs": [],
   "source": []
  },
  {
   "cell_type": "markdown",
   "metadata": {},
   "source": [
    "# Check keys collected for the columns"
   ]
  },
  {
   "cell_type": "code",
   "execution_count": 105,
   "metadata": {
    "collapsed": false,
    "jupyter": {
     "outputs_hidden": false
    },
    "pycharm": {
     "name": "#%%\n"
    }
   },
   "outputs": [
    {
     "data": {
      "text/plain": [
       "{'Body Type',\n",
       " 'Condition',\n",
       " 'Disability Equipped',\n",
       " 'Doors',\n",
       " 'Drive Side',\n",
       " 'Drive Type',\n",
       " 'Ended',\n",
       " 'Engine',\n",
       " 'Engine Description',\n",
       " 'Exterior Color',\n",
       " 'For Sale By',\n",
       " 'Fuel',\n",
       " 'Fuel Type',\n",
       " 'Interior Color',\n",
       " 'Located in',\n",
       " 'Make',\n",
       " 'Mileage',\n",
       " 'Model',\n",
       " 'Options',\n",
       " 'Power Options',\n",
       " 'Price',\n",
       " 'Safety Features',\n",
       " 'Seller Notes',\n",
       " 'Sub Model',\n",
       " 'Transmission',\n",
       " 'Trim',\n",
       " 'VIN (Vehicle Identification Number)',\n",
       " 'Vehicle Title',\n",
       " 'Warranty',\n",
       " 'Winning bid',\n",
       " 'Year',\n",
       " 'ebay_item_id'}"
      ]
     },
     "execution_count": 105,
     "metadata": {},
     "output_type": "execute_result"
    }
   ],
   "source": [
    "# repeatedly check here\n",
    "keys = set()\n",
    "for d in data:\n",
    "    keys.update(d.keys())\n",
    "keys"
   ]
  },
  {
   "cell_type": "code",
   "execution_count": 106,
   "metadata": {
    "collapsed": false,
    "jupyter": {
     "outputs_hidden": false
    },
    "pycharm": {
     "name": "#%%\n"
    }
   },
   "outputs": [],
   "source": [
    "# better names to info names\n",
    "columns_map = {\n",
    "    \"Condition\" : \"Condition\",\n",
    "    \"Price\" : \"Price\",\n",
    "    \"Winning bid\" : \"Winning bid\",\n",
    "    \"Location\" : \"Located in\",\n",
    "    \"Time\" : \"Ended\",\n",
    "    \"VIN\" : 'VIN (Vehicle Identification Number)',\n",
    "    \"Make\" : \"Make\",\n",
    "    \"Model\" : \"Model\",\n",
    "    \"Year\" : \"Year\",\n",
    "    \"Ebay Item ID\": \"ebay_item_id\",\n",
    "}\n",
    "columns = list(columns_map.values())"
   ]
  },
  {
   "cell_type": "code",
   "execution_count": null,
   "metadata": {
    "collapsed": false,
    "jupyter": {
     "outputs_hidden": false
    },
    "pycharm": {
     "name": "#%%\n"
    }
   },
   "outputs": [],
   "source": []
  },
  {
   "cell_type": "markdown",
   "metadata": {},
   "source": [
    "# Get the data based on the columns"
   ]
  },
  {
   "cell_type": "code",
   "execution_count": 107,
   "metadata": {
    "collapsed": false,
    "jupyter": {
     "outputs_hidden": false
    },
    "pycharm": {
     "name": "#%%\n"
    }
   },
   "outputs": [],
   "source": [
    "data_arr = []\n",
    "for d in data:\n",
    "    data_arr.append({c:d[c] if c in d.keys() else None for c in columns})"
   ]
  },
  {
   "cell_type": "code",
   "execution_count": 108,
   "metadata": {
    "collapsed": false,
    "jupyter": {
     "outputs_hidden": false
    },
    "pycharm": {
     "name": "#%%\n"
    }
   },
   "outputs": [],
   "source": [
    "df = pd.DataFrame(data_arr)"
   ]
  },
  {
   "cell_type": "code",
   "execution_count": 109,
   "metadata": {
    "collapsed": false,
    "jupyter": {
     "outputs_hidden": false
    },
    "pycharm": {
     "name": "#%%\n"
    }
   },
   "outputs": [
    {
     "data": {
      "text/html": [
       "<div>\n",
       "<style scoped>\n",
       "    .dataframe tbody tr th:only-of-type {\n",
       "        vertical-align: middle;\n",
       "    }\n",
       "\n",
       "    .dataframe tbody tr th {\n",
       "        vertical-align: top;\n",
       "    }\n",
       "\n",
       "    .dataframe thead th {\n",
       "        text-align: right;\n",
       "    }\n",
       "</style>\n",
       "<table border=\"1\" class=\"dataframe\">\n",
       "  <thead>\n",
       "    <tr style=\"text-align: right;\">\n",
       "      <th></th>\n",
       "      <th>Condition</th>\n",
       "      <th>Price</th>\n",
       "      <th>Winning bid</th>\n",
       "      <th>Located in</th>\n",
       "      <th>Ended</th>\n",
       "      <th>VIN (Vehicle Identification Number)</th>\n",
       "      <th>Make</th>\n",
       "      <th>Model</th>\n",
       "      <th>Year</th>\n",
       "      <th>ebay_item_id</th>\n",
       "    </tr>\n",
       "  </thead>\n",
       "  <tbody>\n",
       "    <tr>\n",
       "      <th>0</th>\n",
       "      <td>Used</td>\n",
       "      <td>|US $48,900.00|Best offer accepted| |This item...</td>\n",
       "      <td>None</td>\n",
       "      <td>Memphis, Tennessee, United States</td>\n",
       "      <td>|May 16, 2023|14:03:36 PDT|</td>\n",
       "      <td>5YJXCAE25JF089783</td>\n",
       "      <td>Tesla</td>\n",
       "      <td>Model X</td>\n",
       "      <td>2018</td>\n",
       "      <td>256048040264</td>\n",
       "    </tr>\n",
       "    <tr>\n",
       "      <th>1</th>\n",
       "      <td>Used: A vehicle is considered used if it has b...</td>\n",
       "      <td>|US $42,000.00|</td>\n",
       "      <td>None</td>\n",
       "      <td>San Diego, California, United States</td>\n",
       "      <td>|May 12, 2023|19:33:22 PDT|</td>\n",
       "      <td>5YJXCAE49GF001909</td>\n",
       "      <td>Tesla</td>\n",
       "      <td>Model X</td>\n",
       "      <td>2016</td>\n",
       "      <td>155552048142</td>\n",
       "    </tr>\n",
       "    <tr>\n",
       "      <th>2</th>\n",
       "      <td>Used</td>\n",
       "      <td>|US $46,900.00|</td>\n",
       "      <td>None</td>\n",
       "      <td>Miami, Florida, United States</td>\n",
       "      <td>|May 09, 2023|11:21:20 PDT|</td>\n",
       "      <td>5YJXCAE21HF078337</td>\n",
       "      <td>Tesla</td>\n",
       "      <td>Model X</td>\n",
       "      <td>2017</td>\n",
       "      <td>225550054810</td>\n",
       "    </tr>\n",
       "    <tr>\n",
       "      <th>3</th>\n",
       "      <td>Used: A vehicle is considered used if it has b...</td>\n",
       "      <td>|US $50,500.00|Best offer accepted| |This item...</td>\n",
       "      <td>None</td>\n",
       "      <td>Hollywood, Florida, United States</td>\n",
       "      <td>|May 09, 2023|09:06:01 PDT|</td>\n",
       "      <td>5YJXCAE20KF155657</td>\n",
       "      <td>Tesla</td>\n",
       "      <td>Model X</td>\n",
       "      <td>2019</td>\n",
       "      <td>256066075946</td>\n",
       "    </tr>\n",
       "    <tr>\n",
       "      <th>4</th>\n",
       "      <td>Used: A vehicle is considered used if it has b...</td>\n",
       "      <td>None</td>\n",
       "      <td>US $63,188.00|</td>\n",
       "      <td>Owings Mills, Maryland, United States</td>\n",
       "      <td>|May 08, 2023|16:23:57 PDT|</td>\n",
       "      <td>5YJXCBE22LF271739</td>\n",
       "      <td>Tesla</td>\n",
       "      <td>Model X</td>\n",
       "      <td>2020</td>\n",
       "      <td>295670955949</td>\n",
       "    </tr>\n",
       "    <tr>\n",
       "      <th>5</th>\n",
       "      <td>Used: A vehicle is considered used if it has b...</td>\n",
       "      <td>|US $47,000.00|</td>\n",
       "      <td>None</td>\n",
       "      <td>Woodland Hills, California, United States</td>\n",
       "      <td>|May 05, 2023|10:24:10 PDT|</td>\n",
       "      <td>5YJXCAE23KF209291</td>\n",
       "      <td>Tesla</td>\n",
       "      <td>Model X</td>\n",
       "      <td>2019</td>\n",
       "      <td>166070077984</td>\n",
       "    </tr>\n",
       "    <tr>\n",
       "      <th>6</th>\n",
       "      <td>Used: A vehicle is considered used if it has b...</td>\n",
       "      <td>|US $43,995.00|Best offer accepted| |This item...</td>\n",
       "      <td>None</td>\n",
       "      <td>Tomball, Texas, United States</td>\n",
       "      <td>|May 04, 2023|11:35:05 PDT|</td>\n",
       "      <td>5YJXCBE25GF004844</td>\n",
       "      <td>Tesla</td>\n",
       "      <td>Model X</td>\n",
       "      <td>2016</td>\n",
       "      <td>314556514971</td>\n",
       "    </tr>\n",
       "    <tr>\n",
       "      <th>7</th>\n",
       "      <td>Used: A vehicle is considered used if it has b...</td>\n",
       "      <td>|US $58,000.00|Best offer accepted| |This item...</td>\n",
       "      <td>None</td>\n",
       "      <td>Port Washington, New York, United States</td>\n",
       "      <td>|Apr 30, 2023|05:36:33 PDT|</td>\n",
       "      <td>5YJXCBE26KF182836</td>\n",
       "      <td>Tesla</td>\n",
       "      <td>Model X</td>\n",
       "      <td>2019</td>\n",
       "      <td>385579292179</td>\n",
       "    </tr>\n",
       "  </tbody>\n",
       "</table>\n",
       "</div>"
      ],
      "text/plain": [
       "                                           Condition  \\\n",
       "0                                               Used   \n",
       "1  Used: A vehicle is considered used if it has b...   \n",
       "2                                               Used   \n",
       "3  Used: A vehicle is considered used if it has b...   \n",
       "4  Used: A vehicle is considered used if it has b...   \n",
       "5  Used: A vehicle is considered used if it has b...   \n",
       "6  Used: A vehicle is considered used if it has b...   \n",
       "7  Used: A vehicle is considered used if it has b...   \n",
       "\n",
       "                                               Price     Winning bid  \\\n",
       "0  |US $48,900.00|Best offer accepted| |This item...            None   \n",
       "1                                    |US $42,000.00|            None   \n",
       "2                                    |US $46,900.00|            None   \n",
       "3  |US $50,500.00|Best offer accepted| |This item...            None   \n",
       "4                                               None  US $63,188.00|   \n",
       "5                                    |US $47,000.00|            None   \n",
       "6  |US $43,995.00|Best offer accepted| |This item...            None   \n",
       "7  |US $58,000.00|Best offer accepted| |This item...            None   \n",
       "\n",
       "                                  Located in                        Ended  \\\n",
       "0          Memphis, Tennessee, United States  |May 16, 2023|14:03:36 PDT|   \n",
       "1       San Diego, California, United States  |May 12, 2023|19:33:22 PDT|   \n",
       "2              Miami, Florida, United States  |May 09, 2023|11:21:20 PDT|   \n",
       "3          Hollywood, Florida, United States  |May 09, 2023|09:06:01 PDT|   \n",
       "4      Owings Mills, Maryland, United States  |May 08, 2023|16:23:57 PDT|   \n",
       "5  Woodland Hills, California, United States  |May 05, 2023|10:24:10 PDT|   \n",
       "6              Tomball, Texas, United States  |May 04, 2023|11:35:05 PDT|   \n",
       "7   Port Washington, New York, United States  |Apr 30, 2023|05:36:33 PDT|   \n",
       "\n",
       "  VIN (Vehicle Identification Number)   Make    Model  Year  ebay_item_id  \n",
       "0                   5YJXCAE25JF089783  Tesla  Model X  2018  256048040264  \n",
       "1                   5YJXCAE49GF001909  Tesla  Model X  2016  155552048142  \n",
       "2                   5YJXCAE21HF078337  Tesla  Model X  2017  225550054810  \n",
       "3                   5YJXCAE20KF155657  Tesla  Model X  2019  256066075946  \n",
       "4                   5YJXCBE22LF271739  Tesla  Model X  2020  295670955949  \n",
       "5                   5YJXCAE23KF209291  Tesla  Model X  2019  166070077984  \n",
       "6                   5YJXCBE25GF004844  Tesla  Model X  2016  314556514971  \n",
       "7                   5YJXCBE26KF182836  Tesla  Model X  2019  385579292179  "
      ]
     },
     "execution_count": 109,
     "metadata": {},
     "output_type": "execute_result"
    }
   ],
   "source": [
    "df"
   ]
  },
  {
   "cell_type": "code",
   "execution_count": null,
   "metadata": {},
   "outputs": [],
   "source": []
  },
  {
   "cell_type": "markdown",
   "metadata": {},
   "source": [
    "# Some light cleaning\n",
    "- Rename columns\n",
    "- Sale datetime --> Date\n",
    "- Just put \"used\"\n",
    "- Add a note to all prices, including \"winning bid\""
   ]
  },
  {
   "cell_type": "code",
   "execution_count": 110,
   "metadata": {},
   "outputs": [
    {
     "data": {
      "text/html": [
       "<div>\n",
       "<style scoped>\n",
       "    .dataframe tbody tr th:only-of-type {\n",
       "        vertical-align: middle;\n",
       "    }\n",
       "\n",
       "    .dataframe tbody tr th {\n",
       "        vertical-align: top;\n",
       "    }\n",
       "\n",
       "    .dataframe thead th {\n",
       "        text-align: right;\n",
       "    }\n",
       "</style>\n",
       "<table border=\"1\" class=\"dataframe\">\n",
       "  <thead>\n",
       "    <tr style=\"text-align: right;\">\n",
       "      <th></th>\n",
       "      <th>Condition</th>\n",
       "      <th>Price</th>\n",
       "      <th>Winning bid</th>\n",
       "      <th>Located in</th>\n",
       "      <th>Ended</th>\n",
       "      <th>VIN (Vehicle Identification Number)</th>\n",
       "      <th>Make</th>\n",
       "      <th>Model</th>\n",
       "      <th>Year</th>\n",
       "      <th>ebay_item_id</th>\n",
       "    </tr>\n",
       "  </thead>\n",
       "  <tbody>\n",
       "    <tr>\n",
       "      <th>0</th>\n",
       "      <td>Used</td>\n",
       "      <td>US $48,900.00|Best offer accepted| |This item ...</td>\n",
       "      <td>None</td>\n",
       "      <td>Memphis, Tennessee, United States</td>\n",
       "      <td>May 16, 2023|14:03:36 PD</td>\n",
       "      <td>5YJXCAE25JF089783</td>\n",
       "      <td>Tesla</td>\n",
       "      <td>Model X</td>\n",
       "      <td>2018</td>\n",
       "      <td>256048040264</td>\n",
       "    </tr>\n",
       "    <tr>\n",
       "      <th>1</th>\n",
       "      <td>Used: A vehicle is considered used if it has b...</td>\n",
       "      <td>US $42,000.0</td>\n",
       "      <td>None</td>\n",
       "      <td>San Diego, California, United States</td>\n",
       "      <td>May 12, 2023|19:33:22 PD</td>\n",
       "      <td>5YJXCAE49GF001909</td>\n",
       "      <td>Tesla</td>\n",
       "      <td>Model X</td>\n",
       "      <td>2016</td>\n",
       "      <td>155552048142</td>\n",
       "    </tr>\n",
       "    <tr>\n",
       "      <th>2</th>\n",
       "      <td>Used</td>\n",
       "      <td>US $46,900.0</td>\n",
       "      <td>None</td>\n",
       "      <td>Miami, Florida, United States</td>\n",
       "      <td>May 09, 2023|11:21:20 PD</td>\n",
       "      <td>5YJXCAE21HF078337</td>\n",
       "      <td>Tesla</td>\n",
       "      <td>Model X</td>\n",
       "      <td>2017</td>\n",
       "      <td>225550054810</td>\n",
       "    </tr>\n",
       "    <tr>\n",
       "      <th>3</th>\n",
       "      <td>Used: A vehicle is considered used if it has b...</td>\n",
       "      <td>US $50,500.00|Best offer accepted| |This item ...</td>\n",
       "      <td>None</td>\n",
       "      <td>Hollywood, Florida, United States</td>\n",
       "      <td>May 09, 2023|09:06:01 PD</td>\n",
       "      <td>5YJXCAE20KF155657</td>\n",
       "      <td>Tesla</td>\n",
       "      <td>Model X</td>\n",
       "      <td>2019</td>\n",
       "      <td>256066075946</td>\n",
       "    </tr>\n",
       "    <tr>\n",
       "      <th>4</th>\n",
       "      <td>Used: A vehicle is considered used if it has b...</td>\n",
       "      <td>None</td>\n",
       "      <td>US $63,188.0</td>\n",
       "      <td>Owings Mills, Maryland, United States</td>\n",
       "      <td>May 08, 2023|16:23:57 PD</td>\n",
       "      <td>5YJXCBE22LF271739</td>\n",
       "      <td>Tesla</td>\n",
       "      <td>Model X</td>\n",
       "      <td>2020</td>\n",
       "      <td>295670955949</td>\n",
       "    </tr>\n",
       "  </tbody>\n",
       "</table>\n",
       "</div>"
      ],
      "text/plain": [
       "                                           Condition  \\\n",
       "0                                               Used   \n",
       "1  Used: A vehicle is considered used if it has b...   \n",
       "2                                               Used   \n",
       "3  Used: A vehicle is considered used if it has b...   \n",
       "4  Used: A vehicle is considered used if it has b...   \n",
       "\n",
       "                                               Price   Winning bid  \\\n",
       "0  US $48,900.00|Best offer accepted| |This item ...          None   \n",
       "1                                       US $42,000.0          None   \n",
       "2                                       US $46,900.0          None   \n",
       "3  US $50,500.00|Best offer accepted| |This item ...          None   \n",
       "4                                               None  US $63,188.0   \n",
       "\n",
       "                              Located in                     Ended  \\\n",
       "0      Memphis, Tennessee, United States  May 16, 2023|14:03:36 PD   \n",
       "1   San Diego, California, United States  May 12, 2023|19:33:22 PD   \n",
       "2          Miami, Florida, United States  May 09, 2023|11:21:20 PD   \n",
       "3      Hollywood, Florida, United States  May 09, 2023|09:06:01 PD   \n",
       "4  Owings Mills, Maryland, United States  May 08, 2023|16:23:57 PD   \n",
       "\n",
       "  VIN (Vehicle Identification Number)   Make    Model  Year  ebay_item_id  \n",
       "0                   5YJXCAE25JF089783  Tesla  Model X  2018  256048040264  \n",
       "1                   5YJXCAE49GF001909  Tesla  Model X  2016  155552048142  \n",
       "2                   5YJXCAE21HF078337  Tesla  Model X  2017  225550054810  \n",
       "3                   5YJXCAE20KF155657  Tesla  Model X  2019  256066075946  \n",
       "4                   5YJXCBE22LF271739  Tesla  Model X  2020  295670955949  "
      ]
     },
     "execution_count": 110,
     "metadata": {},
     "output_type": "execute_result"
    }
   ],
   "source": [
    "remove_start = lambda s: s[1:] if s!=None and s[0]=='|' else s\n",
    "remove_end = lambda s: s[:-2] if s!=None and s[-1]=='|' else s\n",
    "\n",
    "df = df.apply(lambda x: x.apply(remove_start))\n",
    "df = df.apply(lambda x: x.apply(remove_end))\n",
    "df.head()"
   ]
  },
  {
   "cell_type": "code",
   "execution_count": 111,
   "metadata": {
    "collapsed": false,
    "jupyter": {
     "outputs_hidden": false
    },
    "pycharm": {
     "name": "#%%\n"
    }
   },
   "outputs": [
    {
     "data": {
      "text/html": [
       "<div>\n",
       "<style scoped>\n",
       "    .dataframe tbody tr th:only-of-type {\n",
       "        vertical-align: middle;\n",
       "    }\n",
       "\n",
       "    .dataframe tbody tr th {\n",
       "        vertical-align: top;\n",
       "    }\n",
       "\n",
       "    .dataframe thead th {\n",
       "        text-align: right;\n",
       "    }\n",
       "</style>\n",
       "<table border=\"1\" class=\"dataframe\">\n",
       "  <thead>\n",
       "    <tr style=\"text-align: right;\">\n",
       "      <th></th>\n",
       "      <th>condition</th>\n",
       "      <th>price</th>\n",
       "      <th>winning_bid</th>\n",
       "      <th>located_in</th>\n",
       "      <th>ended</th>\n",
       "      <th>vin</th>\n",
       "      <th>make</th>\n",
       "      <th>model</th>\n",
       "      <th>year</th>\n",
       "      <th>ebay_item_id</th>\n",
       "    </tr>\n",
       "  </thead>\n",
       "  <tbody>\n",
       "    <tr>\n",
       "      <th>0</th>\n",
       "      <td>Used</td>\n",
       "      <td>US $48,900.00|Best offer accepted| |This item ...</td>\n",
       "      <td>None</td>\n",
       "      <td>Memphis, Tennessee, United States</td>\n",
       "      <td>May 16, 2023|14:03:36 PD</td>\n",
       "      <td>5YJXCAE25JF089783</td>\n",
       "      <td>Tesla</td>\n",
       "      <td>Model X</td>\n",
       "      <td>2018</td>\n",
       "      <td>256048040264</td>\n",
       "    </tr>\n",
       "    <tr>\n",
       "      <th>1</th>\n",
       "      <td>Used: A vehicle is considered used if it has b...</td>\n",
       "      <td>US $42,000.0</td>\n",
       "      <td>None</td>\n",
       "      <td>San Diego, California, United States</td>\n",
       "      <td>May 12, 2023|19:33:22 PD</td>\n",
       "      <td>5YJXCAE49GF001909</td>\n",
       "      <td>Tesla</td>\n",
       "      <td>Model X</td>\n",
       "      <td>2016</td>\n",
       "      <td>155552048142</td>\n",
       "    </tr>\n",
       "    <tr>\n",
       "      <th>2</th>\n",
       "      <td>Used</td>\n",
       "      <td>US $46,900.0</td>\n",
       "      <td>None</td>\n",
       "      <td>Miami, Florida, United States</td>\n",
       "      <td>May 09, 2023|11:21:20 PD</td>\n",
       "      <td>5YJXCAE21HF078337</td>\n",
       "      <td>Tesla</td>\n",
       "      <td>Model X</td>\n",
       "      <td>2017</td>\n",
       "      <td>225550054810</td>\n",
       "    </tr>\n",
       "    <tr>\n",
       "      <th>3</th>\n",
       "      <td>Used: A vehicle is considered used if it has b...</td>\n",
       "      <td>US $50,500.00|Best offer accepted| |This item ...</td>\n",
       "      <td>None</td>\n",
       "      <td>Hollywood, Florida, United States</td>\n",
       "      <td>May 09, 2023|09:06:01 PD</td>\n",
       "      <td>5YJXCAE20KF155657</td>\n",
       "      <td>Tesla</td>\n",
       "      <td>Model X</td>\n",
       "      <td>2019</td>\n",
       "      <td>256066075946</td>\n",
       "    </tr>\n",
       "    <tr>\n",
       "      <th>4</th>\n",
       "      <td>Used: A vehicle is considered used if it has b...</td>\n",
       "      <td>None</td>\n",
       "      <td>US $63,188.0</td>\n",
       "      <td>Owings Mills, Maryland, United States</td>\n",
       "      <td>May 08, 2023|16:23:57 PD</td>\n",
       "      <td>5YJXCBE22LF271739</td>\n",
       "      <td>Tesla</td>\n",
       "      <td>Model X</td>\n",
       "      <td>2020</td>\n",
       "      <td>295670955949</td>\n",
       "    </tr>\n",
       "  </tbody>\n",
       "</table>\n",
       "</div>"
      ],
      "text/plain": [
       "                                           condition  \\\n",
       "0                                               Used   \n",
       "1  Used: A vehicle is considered used if it has b...   \n",
       "2                                               Used   \n",
       "3  Used: A vehicle is considered used if it has b...   \n",
       "4  Used: A vehicle is considered used if it has b...   \n",
       "\n",
       "                                               price   winning_bid  \\\n",
       "0  US $48,900.00|Best offer accepted| |This item ...          None   \n",
       "1                                       US $42,000.0          None   \n",
       "2                                       US $46,900.0          None   \n",
       "3  US $50,500.00|Best offer accepted| |This item ...          None   \n",
       "4                                               None  US $63,188.0   \n",
       "\n",
       "                              located_in                     ended  \\\n",
       "0      Memphis, Tennessee, United States  May 16, 2023|14:03:36 PD   \n",
       "1   San Diego, California, United States  May 12, 2023|19:33:22 PD   \n",
       "2          Miami, Florida, United States  May 09, 2023|11:21:20 PD   \n",
       "3      Hollywood, Florida, United States  May 09, 2023|09:06:01 PD   \n",
       "4  Owings Mills, Maryland, United States  May 08, 2023|16:23:57 PD   \n",
       "\n",
       "                 vin   make    model  year  ebay_item_id  \n",
       "0  5YJXCAE25JF089783  Tesla  Model X  2018  256048040264  \n",
       "1  5YJXCAE49GF001909  Tesla  Model X  2016  155552048142  \n",
       "2  5YJXCAE21HF078337  Tesla  Model X  2017  225550054810  \n",
       "3  5YJXCAE20KF155657  Tesla  Model X  2019  256066075946  \n",
       "4  5YJXCBE22LF271739  Tesla  Model X  2020  295670955949  "
      ]
     },
     "execution_count": 111,
     "metadata": {},
     "output_type": "execute_result"
    }
   ],
   "source": [
    "df.rename(columns={'VIN (Vehicle Identification Number)':'vin'},inplace=True)\n",
    "df.rename(columns=lambda c: c.lower().replace(' ','_'), inplace=True)\n",
    "df.head()"
   ]
  },
  {
   "cell_type": "code",
   "execution_count": 112,
   "metadata": {
    "collapsed": false,
    "jupyter": {
     "outputs_hidden": false
    },
    "pycharm": {
     "name": "#%%\n"
    }
   },
   "outputs": [
    {
     "data": {
      "text/html": [
       "<div>\n",
       "<style scoped>\n",
       "    .dataframe tbody tr th:only-of-type {\n",
       "        vertical-align: middle;\n",
       "    }\n",
       "\n",
       "    .dataframe tbody tr th {\n",
       "        vertical-align: top;\n",
       "    }\n",
       "\n",
       "    .dataframe thead th {\n",
       "        text-align: right;\n",
       "    }\n",
       "</style>\n",
       "<table border=\"1\" class=\"dataframe\">\n",
       "  <thead>\n",
       "    <tr style=\"text-align: right;\">\n",
       "      <th></th>\n",
       "      <th>condition</th>\n",
       "      <th>price</th>\n",
       "      <th>winning_bid</th>\n",
       "      <th>located_in</th>\n",
       "      <th>vin</th>\n",
       "      <th>make</th>\n",
       "      <th>model</th>\n",
       "      <th>year</th>\n",
       "      <th>ebay_item_id</th>\n",
       "      <th>date_ended</th>\n",
       "    </tr>\n",
       "  </thead>\n",
       "  <tbody>\n",
       "    <tr>\n",
       "      <th>0</th>\n",
       "      <td>Used</td>\n",
       "      <td>US $48,900.00|Best offer accepted| |This item ...</td>\n",
       "      <td>None</td>\n",
       "      <td>Memphis, Tennessee, United States</td>\n",
       "      <td>5YJXCAE25JF089783</td>\n",
       "      <td>Tesla</td>\n",
       "      <td>Model X</td>\n",
       "      <td>2018</td>\n",
       "      <td>256048040264</td>\n",
       "      <td>May 16, 2023</td>\n",
       "    </tr>\n",
       "    <tr>\n",
       "      <th>1</th>\n",
       "      <td>Used: A vehicle is considered used if it has b...</td>\n",
       "      <td>US $42,000.0</td>\n",
       "      <td>None</td>\n",
       "      <td>San Diego, California, United States</td>\n",
       "      <td>5YJXCAE49GF001909</td>\n",
       "      <td>Tesla</td>\n",
       "      <td>Model X</td>\n",
       "      <td>2016</td>\n",
       "      <td>155552048142</td>\n",
       "      <td>May 12, 2023</td>\n",
       "    </tr>\n",
       "    <tr>\n",
       "      <th>2</th>\n",
       "      <td>Used</td>\n",
       "      <td>US $46,900.0</td>\n",
       "      <td>None</td>\n",
       "      <td>Miami, Florida, United States</td>\n",
       "      <td>5YJXCAE21HF078337</td>\n",
       "      <td>Tesla</td>\n",
       "      <td>Model X</td>\n",
       "      <td>2017</td>\n",
       "      <td>225550054810</td>\n",
       "      <td>May 09, 2023</td>\n",
       "    </tr>\n",
       "    <tr>\n",
       "      <th>3</th>\n",
       "      <td>Used: A vehicle is considered used if it has b...</td>\n",
       "      <td>US $50,500.00|Best offer accepted| |This item ...</td>\n",
       "      <td>None</td>\n",
       "      <td>Hollywood, Florida, United States</td>\n",
       "      <td>5YJXCAE20KF155657</td>\n",
       "      <td>Tesla</td>\n",
       "      <td>Model X</td>\n",
       "      <td>2019</td>\n",
       "      <td>256066075946</td>\n",
       "      <td>May 09, 2023</td>\n",
       "    </tr>\n",
       "    <tr>\n",
       "      <th>4</th>\n",
       "      <td>Used: A vehicle is considered used if it has b...</td>\n",
       "      <td>None</td>\n",
       "      <td>US $63,188.0</td>\n",
       "      <td>Owings Mills, Maryland, United States</td>\n",
       "      <td>5YJXCBE22LF271739</td>\n",
       "      <td>Tesla</td>\n",
       "      <td>Model X</td>\n",
       "      <td>2020</td>\n",
       "      <td>295670955949</td>\n",
       "      <td>May 08, 2023</td>\n",
       "    </tr>\n",
       "  </tbody>\n",
       "</table>\n",
       "</div>"
      ],
      "text/plain": [
       "                                           condition  \\\n",
       "0                                               Used   \n",
       "1  Used: A vehicle is considered used if it has b...   \n",
       "2                                               Used   \n",
       "3  Used: A vehicle is considered used if it has b...   \n",
       "4  Used: A vehicle is considered used if it has b...   \n",
       "\n",
       "                                               price   winning_bid  \\\n",
       "0  US $48,900.00|Best offer accepted| |This item ...          None   \n",
       "1                                       US $42,000.0          None   \n",
       "2                                       US $46,900.0          None   \n",
       "3  US $50,500.00|Best offer accepted| |This item ...          None   \n",
       "4                                               None  US $63,188.0   \n",
       "\n",
       "                              located_in                vin   make    model  \\\n",
       "0      Memphis, Tennessee, United States  5YJXCAE25JF089783  Tesla  Model X   \n",
       "1   San Diego, California, United States  5YJXCAE49GF001909  Tesla  Model X   \n",
       "2          Miami, Florida, United States  5YJXCAE21HF078337  Tesla  Model X   \n",
       "3      Hollywood, Florida, United States  5YJXCAE20KF155657  Tesla  Model X   \n",
       "4  Owings Mills, Maryland, United States  5YJXCBE22LF271739  Tesla  Model X   \n",
       "\n",
       "   year  ebay_item_id    date_ended  \n",
       "0  2018  256048040264  May 16, 2023  \n",
       "1  2016  155552048142  May 12, 2023  \n",
       "2  2017  225550054810  May 09, 2023  \n",
       "3  2019  256066075946  May 09, 2023  \n",
       "4  2020  295670955949  May 08, 2023  "
      ]
     },
     "execution_count": 112,
     "metadata": {},
     "output_type": "execute_result"
    }
   ],
   "source": [
    "df['date_ended'] = df['ended'].apply(lambda x: x.split('|')[0])\n",
    "df.drop('ended',axis=1,inplace=True)\n",
    "df.head()"
   ]
  },
  {
   "cell_type": "code",
   "execution_count": 113,
   "metadata": {
    "collapsed": false,
    "jupyter": {
     "outputs_hidden": false
    },
    "pycharm": {
     "name": "#%%\n"
    }
   },
   "outputs": [
    {
     "data": {
      "text/html": [
       "<div>\n",
       "<style scoped>\n",
       "    .dataframe tbody tr th:only-of-type {\n",
       "        vertical-align: middle;\n",
       "    }\n",
       "\n",
       "    .dataframe tbody tr th {\n",
       "        vertical-align: top;\n",
       "    }\n",
       "\n",
       "    .dataframe thead th {\n",
       "        text-align: right;\n",
       "    }\n",
       "</style>\n",
       "<table border=\"1\" class=\"dataframe\">\n",
       "  <thead>\n",
       "    <tr style=\"text-align: right;\">\n",
       "      <th></th>\n",
       "      <th>condition</th>\n",
       "      <th>price</th>\n",
       "      <th>winning_bid</th>\n",
       "      <th>located_in</th>\n",
       "      <th>vin</th>\n",
       "      <th>make</th>\n",
       "      <th>model</th>\n",
       "      <th>year</th>\n",
       "      <th>ebay_item_id</th>\n",
       "      <th>date_ended</th>\n",
       "    </tr>\n",
       "  </thead>\n",
       "  <tbody>\n",
       "    <tr>\n",
       "      <th>0</th>\n",
       "      <td>used</td>\n",
       "      <td>US $48,900.00|Best offer accepted| |This item ...</td>\n",
       "      <td>None</td>\n",
       "      <td>Memphis, Tennessee, United States</td>\n",
       "      <td>5YJXCAE25JF089783</td>\n",
       "      <td>Tesla</td>\n",
       "      <td>Model X</td>\n",
       "      <td>2018</td>\n",
       "      <td>256048040264</td>\n",
       "      <td>May 16, 2023</td>\n",
       "    </tr>\n",
       "    <tr>\n",
       "      <th>1</th>\n",
       "      <td>used</td>\n",
       "      <td>US $42,000.0</td>\n",
       "      <td>None</td>\n",
       "      <td>San Diego, California, United States</td>\n",
       "      <td>5YJXCAE49GF001909</td>\n",
       "      <td>Tesla</td>\n",
       "      <td>Model X</td>\n",
       "      <td>2016</td>\n",
       "      <td>155552048142</td>\n",
       "      <td>May 12, 2023</td>\n",
       "    </tr>\n",
       "    <tr>\n",
       "      <th>2</th>\n",
       "      <td>used</td>\n",
       "      <td>US $46,900.0</td>\n",
       "      <td>None</td>\n",
       "      <td>Miami, Florida, United States</td>\n",
       "      <td>5YJXCAE21HF078337</td>\n",
       "      <td>Tesla</td>\n",
       "      <td>Model X</td>\n",
       "      <td>2017</td>\n",
       "      <td>225550054810</td>\n",
       "      <td>May 09, 2023</td>\n",
       "    </tr>\n",
       "    <tr>\n",
       "      <th>3</th>\n",
       "      <td>used</td>\n",
       "      <td>US $50,500.00|Best offer accepted| |This item ...</td>\n",
       "      <td>None</td>\n",
       "      <td>Hollywood, Florida, United States</td>\n",
       "      <td>5YJXCAE20KF155657</td>\n",
       "      <td>Tesla</td>\n",
       "      <td>Model X</td>\n",
       "      <td>2019</td>\n",
       "      <td>256066075946</td>\n",
       "      <td>May 09, 2023</td>\n",
       "    </tr>\n",
       "    <tr>\n",
       "      <th>4</th>\n",
       "      <td>used</td>\n",
       "      <td>None</td>\n",
       "      <td>US $63,188.0</td>\n",
       "      <td>Owings Mills, Maryland, United States</td>\n",
       "      <td>5YJXCBE22LF271739</td>\n",
       "      <td>Tesla</td>\n",
       "      <td>Model X</td>\n",
       "      <td>2020</td>\n",
       "      <td>295670955949</td>\n",
       "      <td>May 08, 2023</td>\n",
       "    </tr>\n",
       "  </tbody>\n",
       "</table>\n",
       "</div>"
      ],
      "text/plain": [
       "  condition                                              price   winning_bid  \\\n",
       "0      used  US $48,900.00|Best offer accepted| |This item ...          None   \n",
       "1      used                                       US $42,000.0          None   \n",
       "2      used                                       US $46,900.0          None   \n",
       "3      used  US $50,500.00|Best offer accepted| |This item ...          None   \n",
       "4      used                                               None  US $63,188.0   \n",
       "\n",
       "                              located_in                vin   make    model  \\\n",
       "0      Memphis, Tennessee, United States  5YJXCAE25JF089783  Tesla  Model X   \n",
       "1   San Diego, California, United States  5YJXCAE49GF001909  Tesla  Model X   \n",
       "2          Miami, Florida, United States  5YJXCAE21HF078337  Tesla  Model X   \n",
       "3      Hollywood, Florida, United States  5YJXCAE20KF155657  Tesla  Model X   \n",
       "4  Owings Mills, Maryland, United States  5YJXCBE22LF271739  Tesla  Model X   \n",
       "\n",
       "   year  ebay_item_id    date_ended  \n",
       "0  2018  256048040264  May 16, 2023  \n",
       "1  2016  155552048142  May 12, 2023  \n",
       "2  2017  225550054810  May 09, 2023  \n",
       "3  2019  256066075946  May 09, 2023  \n",
       "4  2020  295670955949  May 08, 2023  "
      ]
     },
     "execution_count": 113,
     "metadata": {},
     "output_type": "execute_result"
    }
   ],
   "source": [
    "df['condition'] = df['condition'].apply(lambda x: 'used' if 'used' in x.lower() else x)\n",
    "df.head()"
   ]
  },
  {
   "cell_type": "code",
   "execution_count": 116,
   "metadata": {},
   "outputs": [],
   "source": [
    "def format(s):\n",
    "    arr = s.split('|')"
   ]
  },
  {
   "cell_type": "code",
   "execution_count": 117,
   "metadata": {},
   "outputs": [
    {
     "data": {
      "text/html": [
       "<div>\n",
       "<style scoped>\n",
       "    .dataframe tbody tr th:only-of-type {\n",
       "        vertical-align: middle;\n",
       "    }\n",
       "\n",
       "    .dataframe tbody tr th {\n",
       "        vertical-align: top;\n",
       "    }\n",
       "\n",
       "    .dataframe thead th {\n",
       "        text-align: right;\n",
       "    }\n",
       "</style>\n",
       "<table border=\"1\" class=\"dataframe\">\n",
       "  <thead>\n",
       "    <tr style=\"text-align: right;\">\n",
       "      <th></th>\n",
       "      <th>condition</th>\n",
       "      <th>located_in</th>\n",
       "      <th>vin</th>\n",
       "      <th>make</th>\n",
       "      <th>model</th>\n",
       "      <th>year</th>\n",
       "      <th>ebay_item_id</th>\n",
       "      <th>date_ended</th>\n",
       "      <th>price</th>\n",
       "      <th>price_type</th>\n",
       "    </tr>\n",
       "  </thead>\n",
       "  <tbody>\n",
       "    <tr>\n",
       "      <th>0</th>\n",
       "      <td>used</td>\n",
       "      <td>Memphis, Tennessee, United States</td>\n",
       "      <td>5YJXCAE25JF089783</td>\n",
       "      <td>Tesla</td>\n",
       "      <td>Model X</td>\n",
       "      <td>2018</td>\n",
       "      <td>256048040264</td>\n",
       "      <td>May 16, 2023</td>\n",
       "      <td>US $48,900.00</td>\n",
       "      <td>Best offer accepted</td>\n",
       "    </tr>\n",
       "    <tr>\n",
       "      <th>1</th>\n",
       "      <td>used</td>\n",
       "      <td>San Diego, California, United States</td>\n",
       "      <td>5YJXCAE49GF001909</td>\n",
       "      <td>Tesla</td>\n",
       "      <td>Model X</td>\n",
       "      <td>2016</td>\n",
       "      <td>155552048142</td>\n",
       "      <td>May 12, 2023</td>\n",
       "      <td>US $42,000.0</td>\n",
       "      <td>None</td>\n",
       "    </tr>\n",
       "    <tr>\n",
       "      <th>2</th>\n",
       "      <td>used</td>\n",
       "      <td>Miami, Florida, United States</td>\n",
       "      <td>5YJXCAE21HF078337</td>\n",
       "      <td>Tesla</td>\n",
       "      <td>Model X</td>\n",
       "      <td>2017</td>\n",
       "      <td>225550054810</td>\n",
       "      <td>May 09, 2023</td>\n",
       "      <td>US $46,900.0</td>\n",
       "      <td>None</td>\n",
       "    </tr>\n",
       "    <tr>\n",
       "      <th>3</th>\n",
       "      <td>used</td>\n",
       "      <td>Hollywood, Florida, United States</td>\n",
       "      <td>5YJXCAE20KF155657</td>\n",
       "      <td>Tesla</td>\n",
       "      <td>Model X</td>\n",
       "      <td>2019</td>\n",
       "      <td>256066075946</td>\n",
       "      <td>May 09, 2023</td>\n",
       "      <td>US $50,500.00</td>\n",
       "      <td>Best offer accepted</td>\n",
       "    </tr>\n",
       "    <tr>\n",
       "      <th>4</th>\n",
       "      <td>used</td>\n",
       "      <td>Owings Mills, Maryland, United States</td>\n",
       "      <td>5YJXCBE22LF271739</td>\n",
       "      <td>Tesla</td>\n",
       "      <td>Model X</td>\n",
       "      <td>2020</td>\n",
       "      <td>295670955949</td>\n",
       "      <td>May 08, 2023</td>\n",
       "      <td>US $63,188.0</td>\n",
       "      <td>winning bid</td>\n",
       "    </tr>\n",
       "  </tbody>\n",
       "</table>\n",
       "</div>"
      ],
      "text/plain": [
       "  condition                             located_in                vin   make  \\\n",
       "0      used      Memphis, Tennessee, United States  5YJXCAE25JF089783  Tesla   \n",
       "1      used   San Diego, California, United States  5YJXCAE49GF001909  Tesla   \n",
       "2      used          Miami, Florida, United States  5YJXCAE21HF078337  Tesla   \n",
       "3      used      Hollywood, Florida, United States  5YJXCAE20KF155657  Tesla   \n",
       "4      used  Owings Mills, Maryland, United States  5YJXCBE22LF271739  Tesla   \n",
       "\n",
       "     model  year  ebay_item_id    date_ended          price  \\\n",
       "0  Model X  2018  256048040264  May 16, 2023  US $48,900.00   \n",
       "1  Model X  2016  155552048142  May 12, 2023   US $42,000.0   \n",
       "2  Model X  2017  225550054810  May 09, 2023   US $46,900.0   \n",
       "3  Model X  2019  256066075946  May 09, 2023  US $50,500.00   \n",
       "4  Model X  2020  295670955949  May 08, 2023   US $63,188.0   \n",
       "\n",
       "            price_type  \n",
       "0  Best offer accepted  \n",
       "1                 None  \n",
       "2                 None  \n",
       "3  Best offer accepted  \n",
       "4          winning bid  "
      ]
     },
     "execution_count": 117,
     "metadata": {},
     "output_type": "execute_result"
    }
   ],
   "source": [
    "df['new_price'] = df[['price','winning_bid']].apply(lambda x: x.price.split('|')[0] if x.price!=None else x.winning_bid,axis=1)\n",
    "\n",
    "def temp(s):\n",
    "    if s.winning_bid!=None:\n",
    "        return 'winning bid'\n",
    "    elif len(s.price.split('|'))>1:\n",
    "        return s.price.split('|')[1]\n",
    "    else:\n",
    "        return None\n",
    "df['price_type'] = df[['price','winning_bid']].apply(temp,axis=1)\n",
    "\n",
    "df.drop(['price','winning_bid'],axis=1,inplace=True)\n",
    "df.rename(columns={'new_price':'price'},inplace=True)\n",
    "\n",
    "df.head()"
   ]
  },
  {
   "cell_type": "code",
   "execution_count": null,
   "metadata": {},
   "outputs": [],
   "source": []
  },
  {
   "cell_type": "code",
   "execution_count": null,
   "metadata": {},
   "outputs": [],
   "source": []
  },
  {
   "cell_type": "markdown",
   "metadata": {},
   "source": [
    "# Write the data"
   ]
  },
  {
   "cell_type": "code",
   "execution_count": 118,
   "metadata": {
    "collapsed": false,
    "jupyter": {
     "outputs_hidden": false
    },
    "pycharm": {
     "name": "#%%\n"
    }
   },
   "outputs": [],
   "source": [
    "df.to_csv('./data/ebay_ev_sales_data_cleaned.csv', index=False)"
   ]
  },
  {
   "cell_type": "code",
   "execution_count": null,
   "metadata": {
    "collapsed": false,
    "jupyter": {
     "outputs_hidden": false
    },
    "pycharm": {
     "name": "#%%\n"
    }
   },
   "outputs": [],
   "source": []
  }
 ],
 "metadata": {
  "kernelspec": {
   "display_name": "Python 3",
   "language": "python",
   "name": "python3"
  },
  "language_info": {
   "codemirror_mode": {
    "name": "ipython",
    "version": 3
   },
   "file_extension": ".py",
   "mimetype": "text/x-python",
   "name": "python",
   "nbconvert_exporter": "python",
   "pygments_lexer": "ipython3",
   "version": "3.8.12"
  }
 },
 "nbformat": 4,
 "nbformat_minor": 4
}