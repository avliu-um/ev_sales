{
 "cells": [
  {
   "cell_type": "markdown",
   "id": "4d650d9a-78fe-4f7a-9357-d7798e994e4c",
   "metadata": {
    "tags": []
   },
   "source": [
    "Sandbox"
   ]
  },
  {
   "cell_type": "markdown",
   "id": "82cab360-4911-4946-acde-837a85fcb02a",
   "metadata": {
    "tags": []
   },
   "source": [
    "Issues\n",
    "- util.py failed path \n",
    "- selenium 4.10.0 changed driver inputs https://stackoverflow.com/questions/76428561/typeerror-webdriver-init-got-multiple-values-for-argument-options\n",
    "- security checks from data centers https://github.com/ultrafunkamsterdam/undetected-chromedriver\n",
    "- chrome compatibility issues https://stackoverflow.com/questions/62155465/sessionnotcreatedexception-this-version-of-chromedriver-only-supports-chrome-ve\n",
    "- old version of chrome for undetected\n",
    "- kbb get_links need to be parameterized with two zips and search Radius\n",
    "- ask Rob about cloud computing repo"
   ]
  },
  {
   "cell_type": "code",
   "execution_count": 1,
   "id": "32bc0e97-9579-4ea8-8683-14b21284e352",
   "metadata": {
    "tags": []
   },
   "outputs": [],
   "source": [
    "from util import get_selenium_driver, append_to_json\n",
    "import pandas as pd\n",
    "import traceback\n",
    "from selenium.webdriver.common.by import By\n",
    "from selenium.webdriver.support import expected_conditions as EC\n",
    "from selenium.webdriver.support.wait import WebDriverWait\n",
    "import time"
   ]
  },
  {
   "cell_type": "code",
   "execution_count": 1,
   "id": "7808a26b-c198-453f-a129-1b458b5da830",
   "metadata": {
    "tags": []
   },
   "outputs": [
    {
     "ename": "NameError",
     "evalue": "name 'get_selenium_driver' is not defined",
     "output_type": "error",
     "traceback": [
      "\u001b[0;31m---------------------------------------------------------------------------\u001b[0m",
      "\u001b[0;31mNameError\u001b[0m                                 Traceback (most recent call last)",
      "Cell \u001b[0;32mIn[1], line 1\u001b[0m\n\u001b[0;32m----> 1\u001b[0m driver \u001b[38;5;241m=\u001b[39m get_selenium_driver()\n",
      "\u001b[0;31mNameError\u001b[0m: name 'get_selenium_driver' is not defined"
     ]
    }
   ],
   "source": [
    "driver = get_selenium_driver()"
   ]
  },
  {
   "cell_type": "markdown",
   "id": "45f33b03-f110-440c-904a-1ba967570d8f",
   "metadata": {},
   "source": []
  }
 ],
 "metadata": {
  "kernelspec": {
   "display_name": "Python 3 (ipykernel)",
   "language": "python",
   "name": "python3"
  },
  "language_info": {
   "codemirror_mode": {
    "name": "ipython",
    "version": 3
   },
   "file_extension": ".py",
   "mimetype": "text/x-python",
   "name": "python",
   "nbconvert_exporter": "python",
   "pygments_lexer": "ipython3",
   "version": "3.11.4"
  }
 },
 "nbformat": 4,
 "nbformat_minor": 5
}
