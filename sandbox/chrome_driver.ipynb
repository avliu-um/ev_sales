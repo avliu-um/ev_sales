{
 "cells": [
  {
   "cell_type": "markdown",
   "id": "acf17542-0c33-426e-86f4-68bc0b115034",
   "metadata": {},
   "source": [
    "Selenium"
   ]
  },
  {
   "cell_type": "code",
   "execution_count": 2,
   "id": "634e8ec9-4d31-4a84-b535-d3c6355eb88a",
   "metadata": {
    "tags": []
   },
   "outputs": [],
   "source": [
    "from selenium import webdriver\n",
    "from selenium.webdriver.common.by import By\n",
    "from webdriver_manager.chrome import ChromeDriverManager\n",
    "from selenium.webdriver.chrome.service import Service\n",
    "import undetected_chromedriver as uc"
   ]
  },
  {
   "cell_type": "code",
   "execution_count": 31,
   "id": "f7027bff-a8fe-4c4f-a29f-e4c2d60c38aa",
   "metadata": {
    "tags": []
   },
   "outputs": [],
   "source": [
    "binpath = \"/Applications/Google Chrome.app/Contents/MacOS/Google Chrome\"\n",
    "\n",
    "service = Service(executable_path=ChromeDriverManager().install())\n",
    "options = webdriver.ChromeOptions()\n",
    "options.binary_location = binpath\n",
    "driver = webdriver.Chrome(service=service, options=options)"
   ]
  },
  {
   "cell_type": "code",
   "execution_count": 35,
   "id": "11b36969-3cf7-4b6f-8a70-f73466bdb78d",
   "metadata": {},
   "outputs": [],
   "source": [
    "url = f'https://www.selenium.dev/selenium/web/web-form.html'\n",
    "driver.get(url)\n",
    "driver.quit()"
   ]
  },
  {
   "cell_type": "code",
   "execution_count": 38,
   "id": "53579487-b5f5-4a13-8b9e-94bf24a0876e",
   "metadata": {
    "tags": []
   },
   "outputs": [],
   "source": [
    "chrome_options = uc.ChromeOptions()\n",
    "driver = uc.Chrome(options=chrome_options)\n",
    "driver.quit()"
   ]
  },
  {
   "cell_type": "code",
   "execution_count": 39,
   "id": "e2b6c6d7-a39a-4284-9a7e-5c3190e57a36",
   "metadata": {
    "tags": []
   },
   "outputs": [],
   "source": [
    "driver = uc.Chrome()"
   ]
  },
  {
   "cell_type": "code",
   "execution_count": 40,
   "id": "d53448c7-d01f-4d91-91cc-573e645480ad",
   "metadata": {
    "tags": []
   },
   "outputs": [],
   "source": [
    "link = 'https://www.selenium.dev/selenium/web/web-form.html'\n",
    "driver.get(link)"
   ]
  },
  {
   "cell_type": "code",
   "execution_count": 41,
   "id": "439284b7-1a48-4529-ad0c-53a57114bb9b",
   "metadata": {
    "tags": []
   },
   "outputs": [],
   "source": [
    "driver.quit()"
   ]
  },
  {
   "cell_type": "code",
   "execution_count": 3,
   "id": "810d5b7e-5da6-4b48-a9d5-6cf854e66132",
   "metadata": {},
   "outputs": [
    {
     "data": {
      "text/plain": [
       "'3.5.0'"
      ]
     },
     "execution_count": 3,
     "metadata": {},
     "output_type": "execute_result"
    }
   ],
   "source": [
    "uc.__version__"
   ]
  },
  {
   "cell_type": "code",
   "execution_count": null,
   "id": "4182994b-1c56-456b-8766-3eca2420f3d8",
   "metadata": {},
   "outputs": [],
   "source": []
  }
 ],
 "metadata": {
  "kernelspec": {
   "display_name": "Python 3 (ipykernel)",
   "language": "python",
   "name": "python3"
  },
  "language_info": {
   "codemirror_mode": {
    "name": "ipython",
    "version": 3
   },
   "file_extension": ".py",
   "mimetype": "text/x-python",
   "name": "python",
   "nbconvert_exporter": "python",
   "pygments_lexer": "ipython3",
   "version": "3.11.4"
  }
 },
 "nbformat": 4,
 "nbformat_minor": 5
}
