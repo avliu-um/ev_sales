{
 "cells": [
  {
   "cell_type": "markdown",
   "id": "b4a0a2e9-e4fb-4a90-bcf9-397c795e85a0",
   "metadata": {},
   "source": [
    "## Ebay"
   ]
  },
  {
   "cell_type": "markdown",
   "id": "a379c720-463d-4127-a1a3-a451e6740e0d",
   "metadata": {},
   "source": [
    "### get_links()"
   ]
  },
  {
   "cell_type": "code",
   "execution_count": 1,
   "id": "5a637b8d-4ec2-4cc6-b294-f9bec5f469b5",
   "metadata": {
    "tags": []
   },
   "outputs": [],
   "source": [
    "def get_soup(url):\n",
    "\n",
    "    success = False\n",
    "    sleep_time = 1\n",
    "    max_sleep_time = 60 * 5\n",
    "\n",
    "    req, html_page = None, None\n",
    "    while not success:\n",
    "        try:\n",
    "            req = Request(url)\n",
    "            html_page = urlopen(req)\n",
    "            success = True\n",
    "        except urllib.error.HTTPError as e:\n",
    "            print(f'error {e.code}')\n",
    "            if 500 <= e.code <= 599 and sleep_time < max_sleep_time:\n",
    "                print(f'server error; sleep {sleep_time} seconds')\n",
    "                time.sleep(sleep_time)\n",
    "                sleep_time *= 2\n",
    "            else:\n",
    "                raise e\n",
    "\n",
    "    soup = BeautifulSoup(html_page, 'html.parser')\n",
    "    return soup\n",
    "\n",
    "\n",
    "def append_to_file(file_name, new_data):\n",
    "    with open(file_name, 'a') as f:\n",
    "        for data in new_data:\n",
    "            f.write(f'{data}\\n')"
   ]
  },
  {
   "cell_type": "code",
   "execution_count": 2,
   "id": "165bfad3-ca8f-4212-bbec-825193ea0c4d",
   "metadata": {
    "tags": []
   },
   "outputs": [
    {
     "name": "stdout",
     "output_type": "stream",
     "text": [
      "https://www.ebay.com/b/Cars-Trucks/6001?mag=1&_fsrp=0&rt=nc&_sacat=6001&LH_ItemCondition=3000&Model%2520Year=2023%7C2022%7C2021%7C2020%7C2019%7C2018%7C2017%7C2016%7C2015%7C2014%7C2013%7C2012%7C2011%7C2010%7C2009%7C2008%7C2007%7C2006%7C2005%7C2004%7C2003%7C2002%7C2001%7C2000&LH_PrefLoc=99&_stpos=48858&_sadis=150&_fspt=1&_pgn=1\n"
     ]
    },
    {
     "ename": "NameError",
     "evalue": "name 'urllib' is not defined",
     "output_type": "error",
     "traceback": [
      "\u001b[0;31m---------------------------------------------------------------------------\u001b[0m",
      "\u001b[0;31mNameError\u001b[0m                                 Traceback (most recent call last)",
      "Cell \u001b[0;32mIn[1], line 10\u001b[0m, in \u001b[0;36mget_soup\u001b[0;34m(url)\u001b[0m\n\u001b[1;32m      9\u001b[0m \u001b[38;5;28;01mtry\u001b[39;00m:\n\u001b[0;32m---> 10\u001b[0m     req \u001b[38;5;241m=\u001b[39m Request(url)\n\u001b[1;32m     11\u001b[0m     html_page \u001b[38;5;241m=\u001b[39m urlopen(req)\n",
      "\u001b[0;31mNameError\u001b[0m: name 'Request' is not defined",
      "\nDuring handling of the above exception, another exception occurred:\n",
      "\u001b[0;31mNameError\u001b[0m                                 Traceback (most recent call last)",
      "Cell \u001b[0;32mIn[2], line 21\u001b[0m\n\u001b[1;32m     15\u001b[0m url \u001b[38;5;241m=\u001b[39m \u001b[38;5;124mf\u001b[39m\u001b[38;5;124m'\u001b[39m\u001b[38;5;124mhttps://www.ebay.com/b/Cars-Trucks/6001?mag=1&_fsrp=0&rt=nc&_sacat=6001&LH_ItemCondition=3000&Model%2520\u001b[39m\u001b[38;5;124m'\u001b[39m \\\n\u001b[1;32m     16\u001b[0m       \u001b[38;5;124mf\u001b[39m\u001b[38;5;124m'\u001b[39m\u001b[38;5;124mYear=2023%7C2022%7C2021%7C2020%7C2019%7C2018%7C2017%7C2016%7C2015%7C2014%7C2013%7C2012%7C2011%7C2010\u001b[39m\u001b[38;5;124m'\u001b[39m \\\n\u001b[1;32m     17\u001b[0m       \u001b[38;5;124mf\u001b[39m\u001b[38;5;124m'\u001b[39m\u001b[38;5;124m%7C2009%7C\u001b[39m\u001b[38;5;124m'\u001b[39m \\\n\u001b[1;32m     18\u001b[0m       \u001b[38;5;124mf\u001b[39m\u001b[38;5;124m'\u001b[39m\u001b[38;5;124m2008%7C2007%7C2006%7C2005%7C2004%7C2003%7C2002%7C2001%7C2000\u001b[39m\u001b[38;5;124m'\u001b[39m \\\n\u001b[1;32m     19\u001b[0m       \u001b[38;5;124mf\u001b[39m\u001b[38;5;124m'\u001b[39m\u001b[38;5;124m&LH_PrefLoc=99&_stpos=\u001b[39m\u001b[38;5;132;01m{\u001b[39;00mcenter_zip\u001b[38;5;132;01m}\u001b[39;00m\u001b[38;5;124m&_sadis=\u001b[39m\u001b[38;5;132;01m{\u001b[39;00mradius\u001b[38;5;132;01m}\u001b[39;00m\u001b[38;5;124m&_fspt=1&_pgn=\u001b[39m\u001b[38;5;132;01m{\u001b[39;00mpage\u001b[38;5;132;01m}\u001b[39;00m\u001b[38;5;124m'\u001b[39m\n\u001b[1;32m     20\u001b[0m \u001b[38;5;28mprint\u001b[39m(url)\n\u001b[0;32m---> 21\u001b[0m soup \u001b[38;5;241m=\u001b[39m get_soup(url)\n\u001b[1;32m     22\u001b[0m link_elements \u001b[38;5;241m=\u001b[39m soup\u001b[38;5;241m.\u001b[39mselect(\u001b[38;5;124m'\u001b[39m\u001b[38;5;124mdiv[class=\u001b[39m\u001b[38;5;124m\"\u001b[39m\u001b[38;5;124ms-item__wrapper clearfix\u001b[39m\u001b[38;5;124m\"\u001b[39m\u001b[38;5;124m] div[class=\u001b[39m\u001b[38;5;124m\"\u001b[39m\u001b[38;5;124ms-item__info clearfix\u001b[39m\u001b[38;5;124m\"\u001b[39m\u001b[38;5;124m] \u001b[39m\u001b[38;5;124m'\u001b[39m\n\u001b[1;32m     23\u001b[0m                             \u001b[38;5;124m'\u001b[39m\u001b[38;5;124ma[class=s-item__link]\u001b[39m\u001b[38;5;124m'\u001b[39m)\n\u001b[1;32m     24\u001b[0m \u001b[38;5;28;01mif\u001b[39;00m \u001b[38;5;28mlen\u001b[39m(link_elements) \u001b[38;5;241m==\u001b[39m \u001b[38;5;241m0\u001b[39m \u001b[38;5;129;01mor\u001b[39;00m page \u001b[38;5;241m>\u001b[39m backstop:\n",
      "Cell \u001b[0;32mIn[1], line 13\u001b[0m, in \u001b[0;36mget_soup\u001b[0;34m(url)\u001b[0m\n\u001b[1;32m     11\u001b[0m     html_page \u001b[38;5;241m=\u001b[39m urlopen(req)\n\u001b[1;32m     12\u001b[0m     success \u001b[38;5;241m=\u001b[39m \u001b[38;5;28;01mTrue\u001b[39;00m\n\u001b[0;32m---> 13\u001b[0m \u001b[38;5;28;01mexcept\u001b[39;00m urllib\u001b[38;5;241m.\u001b[39merror\u001b[38;5;241m.\u001b[39mHTTPError \u001b[38;5;28;01mas\u001b[39;00m e:\n\u001b[1;32m     14\u001b[0m     \u001b[38;5;28mprint\u001b[39m(\u001b[38;5;124mf\u001b[39m\u001b[38;5;124m'\u001b[39m\u001b[38;5;124merror \u001b[39m\u001b[38;5;132;01m{\u001b[39;00me\u001b[38;5;241m.\u001b[39mcode\u001b[38;5;132;01m}\u001b[39;00m\u001b[38;5;124m'\u001b[39m)\n\u001b[1;32m     15\u001b[0m     \u001b[38;5;28;01mif\u001b[39;00m \u001b[38;5;241m500\u001b[39m \u001b[38;5;241m<\u001b[39m\u001b[38;5;241m=\u001b[39m e\u001b[38;5;241m.\u001b[39mcode \u001b[38;5;241m<\u001b[39m\u001b[38;5;241m=\u001b[39m \u001b[38;5;241m599\u001b[39m \u001b[38;5;129;01mand\u001b[39;00m sleep_time \u001b[38;5;241m<\u001b[39m max_sleep_time:\n",
      "\u001b[0;31mNameError\u001b[0m: name 'urllib' is not defined"
     ]
    }
   ],
   "source": [
    "#from util import get_soup, append_to_file\n",
    "\n",
    "center_zip = 48858\n",
    "radius = 150\n",
    "page = 1\n",
    "\n",
    "# Just in case the method used to detect no more results is broken; prevents infinite looping\n",
    "backstop = 500\n",
    "\n",
    "while True:\n",
    "    # itemCondition=3000 means used\n",
    "    # stpos is the center zip code\n",
    "    # sadis is the radius\n",
    "    # we include all the years as a workaround for not being able to see ALL results at once while searching\n",
    "    url = f'https://www.ebay.com/b/Cars-Trucks/6001?mag=1&_fsrp=0&rt=nc&_sacat=6001&LH_ItemCondition=3000&Model%2520' \\\n",
    "          f'Year=2023%7C2022%7C2021%7C2020%7C2019%7C2018%7C2017%7C2016%7C2015%7C2014%7C2013%7C2012%7C2011%7C2010' \\\n",
    "          f'%7C2009%7C' \\\n",
    "          f'2008%7C2007%7C2006%7C2005%7C2004%7C2003%7C2002%7C2001%7C2000' \\\n",
    "          f'&LH_PrefLoc=99&_stpos={center_zip}&_sadis={radius}&_fspt=1&_pgn={page}'\n",
    "    print(url)\n",
    "    soup = get_soup(url)\n",
    "    link_elements = soup.select('div[class=\"s-item__wrapper clearfix\"] div[class=\"s-item__info clearfix\"] '\n",
    "                                'a[class=s-item__link]')\n",
    "    if len(link_elements) == 0 or page > backstop:\n",
    "        break\n",
    "\n",
    "    links = []\n",
    "    for link_elem in link_elements:\n",
    "        if 'href' in link_elem.attrs.keys():\n",
    "            links.append(link_elem['href'])\n",
    "\n",
    "    append_to_file('./data/links.csv', links)\n",
    "\n",
    "    page += 1"
   ]
  },
  {
   "cell_type": "code",
   "execution_count": null,
   "id": "d7c13f40-c742-4e76-bd13-4fc5b00514fd",
   "metadata": {},
   "outputs": [],
   "source": []
  }
 ],
 "metadata": {
  "kernelspec": {
   "display_name": "Python 3 (ipykernel)",
   "language": "python",
   "name": "python3"
  },
  "language_info": {
   "codemirror_mode": {
    "name": "ipython",
    "version": 3
   },
   "file_extension": ".py",
   "mimetype": "text/x-python",
   "name": "python",
   "nbconvert_exporter": "python",
   "pygments_lexer": "ipython3",
   "version": "3.11.4"
  }
 },
 "nbformat": 4,
 "nbformat_minor": 5
}
