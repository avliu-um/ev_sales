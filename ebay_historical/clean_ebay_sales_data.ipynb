{
 "cells": [
  {
   "cell_type": "code",
   "execution_count": 220,
   "metadata": {
    "tags": []
   },
   "outputs": [],
   "source": [
    "import pandas as pd\n",
    "import json\n",
    "from datetime import datetime\n",
    "from thefuzz import fuzz, process"
   ]
  },
  {
   "cell_type": "code",
   "execution_count": 220,
   "metadata": {
    "collapsed": false,
    "jupyter": {
     "outputs_hidden": false
    },
    "pycharm": {
     "name": "#%%\n"
    }
   },
   "outputs": [],
   "source": []
  },
  {
   "cell_type": "code",
   "execution_count": 220,
   "metadata": {
    "collapsed": false,
    "jupyter": {
     "outputs_hidden": false
    },
    "pycharm": {
     "name": "#%%\n"
    }
   },
   "outputs": [],
   "source": []
  },
  {
   "cell_type": "code",
   "execution_count": 220,
   "metadata": {
    "collapsed": false,
    "jupyter": {
     "outputs_hidden": false
    },
    "pycharm": {
     "name": "#%%\n"
    }
   },
   "outputs": [],
   "source": []
  },
  {
   "cell_type": "markdown",
   "metadata": {},
   "source": [
    "# Get the data"
   ]
  },
  {
   "cell_type": "code",
   "execution_count": 221,
   "metadata": {
    "collapsed": false,
    "jupyter": {
     "outputs_hidden": false
    },
    "pycharm": {
     "name": "#%%\n"
    }
   },
   "outputs": [],
   "source": [
    "with open('./data/ebay_ev_sales_data.json') as f:\n",
    "    data = json.load(f)"
   ]
  },
  {
   "cell_type": "code",
   "execution_count": 221,
   "metadata": {
    "collapsed": false,
    "jupyter": {
     "outputs_hidden": false
    },
    "pycharm": {
     "name": "#%%\n"
    }
   },
   "outputs": [],
   "source": []
  },
  {
   "cell_type": "markdown",
   "metadata": {},
   "source": [
    "# Check keys collected for the columns"
   ]
  },
  {
   "cell_type": "code",
   "execution_count": 221,
   "outputs": [],
   "source": [],
   "metadata": {
    "collapsed": false,
    "pycharm": {
     "name": "#%%\n"
    }
   }
  },
  {
   "cell_type": "code",
   "execution_count": 222,
   "metadata": {
    "collapsed": false,
    "jupyter": {
     "outputs_hidden": false
    },
    "pycharm": {
     "name": "#%%\n"
    }
   },
   "outputs": [
    {
     "data": {
      "text/plain": "{'',\n 'Lug Nuts Seat Type',\n 'Stil',\n 'Year of Manufacture',\n 'Bolt Circle Diameter',\n 'Activation Type',\n 'Minimum Pressure',\n 'Reference OE//OEM Number',\n 'Positionnement sur le véhicule',\n 'Important',\n 'Number of Bulbs',\n 'Extended Length',\n 'Publication Month',\n 'Depth (in)',\n 'Country/Region of Manufacture:',\n 'Benennung',\n 'Shipping Service',\n 'Located in',\n 'Fit 4',\n 'LED Quantity(each bulb)',\n 'Required Tool',\n 'Spec',\n 'Specifics',\n 'Gauge',\n 'Flange\\xa0Bolt\\xa0Hole\\xa0Quantity',\n 'Type:',\n 'Power Options',\n 'Model/Series',\n 'Emissions',\n 'Stückzahl',\n 'Unit Count',\n 'Original/Reproduction',\n 'Fits7:',\n 'Warranty Length',\n 'erminals Type',\n 'Quantity Unit',\n 'Battery / Circuit Board / Transponder chip',\n 'Wire Rated Power',\n 'Brake Caliper Bracket Included',\n 'Impedance',\n 'Size',\n 'Country Of Manufacture',\n 'Resistance',\n 'Lifetime',\n 'Unit Size',\n 'Original/Licensed Reproduction',\n '\\u200eIP Rating',\n 'Diagonal Dimension',\n 'Rotor Outside Diameter',\n 'Features 3',\n 'Refund policy',\n 'Fit 1:',\n 'Luminous flux',\n 'Fits3:',\n 'Return shipping',\n 'Fitment4',\n 'Couleur de boîtier',\n 'Country',\n 'Refund will be given as',\n 'Has Engine Oil Cooler',\n 'Primary Color',\n 'FIT 4',\n 'Pressure Sensor Included',\n 'Year of Release',\n 'Power Source',\n 'Color:',\n 'Tuning & styling part',\n 'Fit 2:',\n 'Tipo de vehículo',\n 'Flange Bolt Hole qty',\n 'Mileage',\n 'Maximum Amperage',\n 'Compatible Years',\n 'Flange Offset',\n 'Non-Domestic Product',\n 'Part Type',\n 'Centering',\n 'Car key color',\n 'Ignition Type',\n 'Design',\n 'Feature1',\n 'Compatible Brand',\n 'Logo Type',\n 'Shock Absorber System',\n 'Ausländisches Produkt',\n 'Size(In)',\n 'Product Warranty',\n 'Engine Number',\n 'Pad Sensor Included',\n 'Anzahl der Glühlampen',\n 'Components',\n 'Blade Location',\n 'To Fit 4',\n 'Skill Level',\n 'OEM Tire Size',\n 'Life Cycle Status Description',\n 'Fahrzeugtyp',\n 'Part Number 2',\n 'Component Category',\n 'Designation',\n 'Make & Model:',\n 'Fits8:',\n 'Transmission Type',\n 'Bleeder Port Size',\n 'Filter Media Material',\n 'Marque du véhicule',\n 'Maßeinheit',\n 'Anzahl der Einheiten',\n 'Diagonal Measure (Longest):',\n 'Contact Number',\n 'Technologie',\n 'Fit Model',\n 'Assembly Type',\n 'Compatible car brand',\n 'Inner Plate Length',\n 'Other P/N',\n 'Features',\n 'Money back or item exchange',\n 'Bildschirmgröße',\n 'Coverage Provided',\n '133C , ##133C',\n 'Shipping:',\n 'Model -2',\n 'Package Includes',\n 'Style',\n 'Part Number',\n 'Package',\n 'Item Name',\n 'Number of Seats',\n 'Date of Origin',\n 'Platform',\n 'Additional Info3',\n 'Working Voltage',\n 'Fitment2',\n 'Key protection case',\n 'Thread Pitch',\n '1.For',\n 'Feature 16',\n 'Waterproof Rating',\n 'Fitment(Note)',\n 'Additionals',\n '10I , ##10I',\n 'Number Of Pins',\n 'Push Switch Rated Current',\n 'Teiletyp',\n 'Fit Car',\n 'Battery Info',\n 'Install and Remove type',\n 'Rows',\n 'Light source power:',\n 'Number\\xa0of\\xa0Items',\n 'Bulb Type:',\n 'Note 2',\n 'FIT',\n 'Super Treasure Hunt',\n 'Comparison Number',\n 'Chevy, Honda, BMW, Mercedes-Benz, VW, Marvel, Fiat',\n 'Hitch Class',\n 'Returns Accepted',\n 'Usage',\n 'Center Hole Diameter',\n 'Channels',\n 'Issue Number',\n 'DECAL NAME ORNAMENT LETTERS',\n 'OEM Part Id(s)',\n 'OE Part Number',\n 'Sensors',\n 'Product',\n 'Size(in.)',\n 'Material',\n 'Deals',\n 'Includes',\n 'Bulb size  Options:',\n 'Wire Gauge',\n 'Release Year',\n 'Pickup:',\n 'MAKE',\n 'Vacuum Pump Drive System',\n 'Pays de fabrication',\n 'Placement on Vehicles',\n 'Certification Number',\n 'Reach',\n 'Headlight Style',\n 'Attachment Type',\n 'Friction Material Thickness Inner Pad',\n 'Autocheck Certified',\n 'Ground Electrode Quantity',\n 'Lug Count',\n 'package include',\n 'Fits 1',\n 'Transmission',\n 'Rated Power [W]',\n 'Lichtstrom',\n 'Sensor Quantity',\n 'Weight [kg]',\n 'Activation Type:',\n 'Plug Type',\n 'Modifikationsbeschreibung',\n 'Vehicle Condition',\n 'Core Charge',\n 'Bulb Shape Code',\n 'Referenznummer(n) OEM',\n 'Offre groupée',\n 'Manufacturer Warranty',\n 'Substrate Material',\n 'Anschlussart',\n 'Fit',\n 'Engine-2',\n 'Additional Info5',\n 'Delivery:',\n 'Layers',\n 'Programming',\n 'Pulley Diameter',\n 'Body Material',\n 'Detection Angle',\n 'Original system Retrofit',\n 'Größe',\n 'Additional Info2',\n 'Antenna Technology',\n 'Package Dimensions',\n '\\u200bTerminals',\n 'Width',\n 'Item Type',\n 'Nut Included',\n 'Thème',\n 'Casting Number',\n 'Packaging',\n 'Character',\n 'Reference OE/OEM Part Number',\n 'Transmission Model',\n 'years fitted',\n 'Age Level',\n 'Compatability Note',\n 'Package Dimensions (L x W x H)',\n 'EPA Classification',\n 'Reserve Capacity',\n 'Long Lasting',\n 'Interchangeable Alternate Part Number D',\n 'Car Brand',\n 'Material:',\n 'Feature 4:',\n 'Genuine OEM',\n 'Gasket or Seal Included',\n 'Produktgruppe',\n 'Basic Cars',\n 'Body\\xa0Diameter(mm)',\n 'Badge Type',\n 'Base Coat  and 1K Clear Coat',\n 'Package including',\n 'Bundle Description 1',\n 'Shipment',\n 'Lifepan',\n 'P/N',\n 'OTHER MODELS 9',\n 'Brand Car',\n 'Pad Features 1',\n 'Intercharge Part Number',\n 'Series',\n 'Compressed\\xa0Length',\n 'Date of Creation',\n 'Blade Qty',\n 'LOCATION',\n 'pieces to be send:',\n 'OTHER MODELS 3',\n 'Engine Air Filter Size',\n 'Wire gauge',\n 'Modifizierter Artikel',\n 'Greasable',\n 'Placement on Vehicle',\n 'Compatible for',\n 'Other Part Number1',\n 'Receiver And Tow Hook Hole',\n 'Sub Model',\n 'Model 02',\n 'OEM',\n 'Feature 3',\n 'Information zum Artikel',\n 'Reference OE/OEM Number',\n 'Outer Material',\n 'Amperage',\n 'Thread Size',\n 'Parts Link Number',\n 'Extra Features',\n 'Short Style',\n 'Car Cover Type',\n 'Insulator Type',\n 'Gewinde',\n 'Model 8',\n 'Item Style',\n 'OE Reference Number',\n 'Modell',\n 'Other #',\n 'Net Torque RPM',\n 'Headlight Bulb Type:',\n 'Working\\xa0Voltage',\n 'Speed Limit',\n 'Other Part Nber',\n 'Fahrzeugmodell',\n 'Friction Material Length Inner Pad',\n 'Feature 9',\n 'Hardware',\n 'DOT Date Code',\n 'Brake Pad Clips',\n 'Outlet Gender',\n 'Color Camera',\n 'Input',\n 'Interchange / Part',\n 'Replacement Note',\n 'Fit  2',\n 'Serrated Wheel Stud',\n '1.Fit',\n 'Engine Size2',\n 'fit 7',\n 'Qty Sold',\n \"Tranche d'âge\",\n 'Color Temperature',\n 'Universelle Kompatibilität',\n 'Cold Cranking Amperage',\n 'Model Year Applications',\n 'Clip Type',\n 'Type 1',\n 'Featured Person/Artist',\n 'Shipping time',\n 'other part 1',\n 'Style de phare',\n 'Wheel Width',\n 'Besonderheiten',\n 'other part number',\n 'Wheel Material',\n 'Passend für',\n 'Combined Shipping Discount',\n 'Fisker, Lincoln, Pagani Zonda, Pagani Huayra',\n 'INFO 2:',\n 'Interior Color',\n 'Note 1',\n 'fit 5',\n 'Product fit',\n 'Replaces Part Number',\n 'INFO 1:',\n 'Placement on Vehicle Value',\n '[Headlight] DOT & SAE',\n 'Pin Number',\n 'Options',\n 'Hinweis zur Artikelbeschreibung',\n 'Items Includes',\n 'Model-5',\n 'Simplified Relearn',\n 'Fuse Specification',\n 'Accessory Pack',\n 'Section Width',\n 'Spline Quantity',\n 'Item Feature:',\n 'Cross Reference 1',\n 'Lumen',\n 'Manufacture Part Number',\n 'Number of holes',\n 'Part Name',\n 'Coil Internal Construction',\n 'Warranty',\n 'Tested',\n 'Programming Required',\n 'Tag Number',\n 'OEM Part Number',\n 'Fuel Sending Unit Included',\n 'NOTE',\n 'Labels & Certifications',\n 'Fit 3',\n 'Exterior Color',\n 'Farbe',\n 'Nadelfarbe',\n 'Feature 3:',\n 'INSPECTED-ROAD TESTED',\n 'Publication Year',\n 'Needle Color',\n 'type',\n 'Interchange',\n 'OEM Number',\n 'Fit for 4',\n 'Thread Diameter',\n 'Lumens',\n 'Gender',\n 'Mount Hole Quantity',\n 'Wire Core Material',\n 'Outer Plate Length',\n 'External Testing Certification',\n 'Maximum Flow Rating',\n 'Feature 8',\n 'Garantie du fabricant',\n 'Pad Features 4',\n 'stand',\n 'Scent',\n 'Driver',\n 'Im Lieferumfang enthalten',\n 'ManufacturerPartNumber',\n 'Storage Capacity',\n 'Mirror Pockets',\n 'Compressor type',\n 'Seller Note',\n 'Style Type',\n 'Transmission Oil Cooler',\n 'Pushrod Tube Diameter',\n 'Lug Nuts Surface Finish',\n 'Teeth number',\n 'Approximate Size',\n 'Vintage Part',\n 'Suspension Grade',\n 'Vergleichsnummer',\n 'Wheel Style',\n 'To Fit 10',\n 'Fits 2',\n 'Mars Perseverance Rover, Rodger Dodger, Lamborghini Centenario',\n 'Number in Pack',\n 'Insulator Material',\n 'Shape',\n 'Donor Car #',\n 'Bolt Hole Quantity',\n 'Length:',\n 'Colour:',\n 'Light change mode',\n 'Non Heated seats',\n 'Outside Diameter',\n 'Producer',\n 'Sticker Placement',\n 'ACC Module',\n 'Compatible Wiper Arm',\n 'Height:',\n 'Pad Features 3',\n 'Control Arm Construction',\n 'Compatible Vehicle Make',\n 'Rim Width',\n 'Rim Weight',\n 'Collectable',\n 'Outer Plate Height',\n 'Connector Type',\n 'Keyway',\n 'Theme',\n '2.For',\n 'Size(L*W)',\n 'Standard Dimensions',\n 'Interchange Part Number',\n 'Subscription Length',\n 'Weight(lbs)',\n 'Hardware Included',\n 'Interchange Part Number:',\n '物品状况',\n 'High Beam:',\n 'Inside Spline Quantity',\n 'Item Contains',\n 'Additional Info8',\n 'MODEL-YEAR',\n 'Push Switch Rated Voltage',\n 'Turbo Porsche, Porsche GT3, Techart, Saab, Skoda',\n 'Installation Instruction',\n 'Bulb Fitment Code',\n 'Compatible Makes',\n 'Note:',\n 'Personalize',\n 'Bentley Bentayga, Bentley Arnage, Phantom Rolls Royce',\n 'Material Type',\n 'Gear Material',\n 'Car Fitsments',\n 'Included Part Numbers',\n 'Interchange Part Number 2',\n 'Feature 12',\n 'Package Weight',\n 'Lens Color',\n 'Special Notes',\n 'Lieferumfang',\n 'Upper Mount Style',\n 'Model Name',\n 'Polizei, Feuerwehr, Krankenwagen, Blaulicht, Manga',\n 'Variante',\n 'Fitment Note',\n 'Other LED Kit We Have',\n 'Assembly Status',\n 'Fitment 2',\n 'Years',\n 'Pushrods Length',\n 'Oil Filled',\n 'Opening Temperature',\n 'Number of Fans',\n 'Color Options 1',\n 'The freight',\n 'Operating Temperature',\n 'Cushion Extender',\n 'The Number of Teeth',\n 'Engine Oil Cooler / EOC',\n 'Sump Style',\n 'Use',\n 'Paint Type',\n 'Hub Pilot Diameter',\n 'Wheel Spacer Machine',\n 'Number of Bolts',\n '2021 VOLKSWAGEN ID 4',\n 'Interchangable Part Number',\n 'RAM',\n 'Fit for::',\n 'Fittings Included',\n 'Installation Instructions Included',\n 'Pre-Gap Size',\n 'Sub Type',\n 'Feature 11',\n 'Oil Type',\n 'Sump Location',\n 'Other Part Number(1)',\n 'package size(not item size)',\n 'Type du véhicule',\n 'Fit for 3',\n 'Environmental Standard',\n 'Mounting Options:',\n 'product type',\n 'Compatibility 4',\n 'Product Condition',\n 'Core Height',\n '2-Way Paging',\n 'Origin',\n 'Package Size',\n 'Vented or Solid Rotor:',\n 'Package Contains',\n 'Center Electrode Core Material',\n 'SKU子SKU',\n 'Engine',\n 'Battery/ Transponder chip/ electronic',\n 'system',\n 'Clutch Included',\n 'Length',\n 'Chip',\n 'Maintenance',\n 'Installation',\n 'Mounting Hardware',\n 'Returns Policy',\n 'BCI Group Number',\n 'Screws:',\n 'Modification Description',\n 'Models3',\n 'Cylinders',\n 'Inner Plate Height',\n 'Air & Fuel Sensor Type',\n 'Package Included 2',\n 'Makes',\n 'Collections',\n 'Fitment',\n 'Fits10:',\n 'Features 01',\n 'Compatible/Replacement For',\n 'Interchangeable Alternate Part Number C',\n 'Diameter',\n 'Type 3',\n 'Wheel Brand',\n 'Heat Control',\n 'color',\n 'Thread Length',\n 'Additional Info7',\n 'Rim Material',\n 'Fold Away',\n 'SKU number',\n 'OTHER MODELS 15',\n 'Fitment1',\n 'Screws',\n 'Flange Diameter',\n 'Item Weight',\n 'Fit Type',\n 'Vehicle Interior Trim Code',\n 'Spacer Thickness',\n 'Type of Mounting:',\n 'Plattform',\n 'Features 17',\n 'VIN (Vehicle Identification Number)',\n 'Lumens (Light Flux):',\n 'Motor',\n 'Other Part Numbers',\n 'Availability',\n 'Glühlampensockel',\n 'Brake Piston Count',\n 'Typ',\n 'Anschlussfarbe',\n 'Car system',\n 'Included Install Hardware',\n 'Thema',\n 'Grade Type',\n 'Fit for 5',\n 'Flow Rate',\n 'Total Number of Pieces',\n 'Item Surface',\n 'Fivestar007 Item Number',\n 'NUMBER OF OWNERS',\n 'Please note',\n 'Diameter wheel',\n 'Tesla Charging Cord',\n 'Hole Inner Diameter',\n 'Adhesive',\n 'Interchange Part Number 3',\n 'Bore',\n 'Notes',\n 'Objet modifié',\n 'Lighting Technology',\n 'More LED Kit We Have 2:',\n 'Outer thread [mm]',\n 'Pins Account',\n 'Mounting Location',\n 'Mirror Adjustment Method',\n 'Nissan Skyline',\n 'Depth (Mm)',\n 'Rocker Arm Mounting Style',\n 'Exterior Finish',\n 'Interchangeable Alternate Part Number B',\n 'Bolt Hole MET',\n 'Clutch Disc Style',\n 'Transmission Oil Cooler Included',\n 'Voltage [V]',\n 'Fitment 6',\n 'SAE DOT Compliant',\n 'Rocker Arm Material',\n 'Price',\n 'Remote Programming',\n 'California Prop 65 Warning',\n 'Upper Mount Type',\n 'car key case',\n 'Conditions and Options',\n 'Einbauposition',\n 'Model Number',\n 'Knuckle Bolt Circle Diameter',\n 'Product Package ID',\n 'Pulley Groove Quantity',\n 'Lug Nuts Height',\n 'Type Of Sticker',\n 'Alternate Part Number',\n 'Bulb Size',\n 'Vintage car part',\n 'Fitment Type:',\n 'Product Description',\n '7-Series Plug-in Hybrid',\n 'Quality',\n 'IMPORTANT NOTE',\n 'Year of Issue',\n 'Position',\n 'Matière',\n 'Office Hours',\n 'Ober Surface',\n 'Number of Lugs',\n 'AUTOCHECK CERTIFIED',\n 'Franchise',\n 'Bulbs Included',\n 'Sensor',\n 'Installation Code',\n 'Models2',\n 'Seller rating',\n 'Verify Vehicle Fitment',\n 'Fitment  1',\n 'With Housing',\n 'Width (in)',\n 'Button',\n 'Models4',\n 'Item Diameter',\n 'Part Number1',\n 'Vin',\n 'Buy Now Available',\n 'Placement\\xa0On\\xa0Vehicle',\n 'Stud Type',\n 'Number of Chain Links',\n 'Return Policy',\n 'Wiping Durability',\n 'Notes:',\n 'Questions?',\n 'Dimensions (Height X Length)',\n 'Car Hub Bore',\n 'Weight',\n 'Features 1',\n 'Generic_Keywords 1',\n 'Bolt\\xa0Circle\\xa0Diameter\\xa0Metric',\n 'Matériau',\n 'Qualität',\n 'Fitment Type',\n 'Solidolid or Ventedented Rotor',\n 'Fabricant',\n 'ISO Specification',\n 'Item Hardness',\n 'Bundle Listing',\n 'Brake Pads Interchange Part Number',\n 'Combined Shipping',\n 'Description',\n 'Retail Packaging',\n 'Body Type',\n 'Unit Type',\n 'Autographed',\n 'ABS\\xa0Sensor',\n 'Wheel Diameter',\n 'Media Type',\n \"Emballage d'origine\",\n 'Knuckle Bolt Hole Size',\n 'eBay Product ID (ePID)',\n 'HB SERIES Size Options',\n 'FCC',\n 'wheel\\xa0Stud\\xa0Quantity',\n 'Product Line',\n 'Currency',\n 'Non Heated',\n 'OTHER',\n 'Excludes:\\xa0',\n 'Color2',\n 'Feature 7:',\n 'Quantity Sold',\n 'Type::',\n 'Packing includes',\n 'Application',\n 'Herstellungsjahr',\n 'Altersempfehlung',\n 'Mercedes E, Tesla, Dodge, Toyota, Treasure Hunt',\n 'Scale / Ladder',\n 'Pressure',\n 'Additional Info4',\n 'To Fit',\n 'OTHER MODELS 4',\n 'Mercedes Benz 500 E, 911 Porsche, Acura NSX, Nismo',\n 'Special function',\n 'Large bungee cord net',\n 'Key blade',\n 'STYLE',\n 'Offset (ET)',\n 'Gasket Or Seal Included',\n 'Bushing Material',\n 'SKU',\n 'Inlet Type',\n 'Emblem Type',\n 'Compatibility',\n 'OTHER MODELS 7',\n 'Fuel',\n 'car key Fob Shell',\n 'Manufacturer:',\n 'Lugs Included',\n 'OTHER MODELS 13',\n 'Fitment3',\n 'Rod Thread Size',\n 'Part Order Number',\n 'Free Online Streaming and Browser usage',\n 'Stock',\n 'Exterior Color (Approximate)',\n 'End Year',\n 'Color Name',\n 'OE/OEM Part Number',\n 'Passenger Capacity',\n 'Thickness and material',\n 'Number\\xa0of\\xa0Terminals',\n 'Fitment6',\n 'Package Height',\n 'Installation Instructions',\n 'Fit For',\n 'Cotter Pin Hole',\n 'Road Tested',\n 'Set Includes',\n 'fit 3',\n 'Coil Type',\n 'Maximum Number of Players',\n 'Feature 5:',\n 'Shock Absorber Mounting Type',\n 'Motor Type',\n '900 SERIES Size Option :',\n 'mpn',\n 'Shipping & Handling',\n 'Type 1:',\n 'Connector Color',\n 'Rotor Style',\n 'Copper Washers',\n 'Color  Options',\n 'Style ID',\n 'Number of Settings',\n 'Surface Finish:',\n 'Fahrzeugmarke',\n 'Compatible Phone Models',\n 'Hub Spacers Material',\n 'Attachment Method',\n 'Manufacturer Color Name',\n 'Installation Hole Diameter',\n 'Fit Make',\n 'Product SubType',\n 'Requires External Resistor',\n 'Buttons',\n 'Lift Height',\n 'Composition',\n 'Package Width',\n 'Chilps',\n 'Car key protection shell',\n 'Package List',\n 'GPS Navigation',\n 'Suitable for',\n 'Specific Material',\n 'FREQUENCY',\n 'Inner Overall Pad Assembly Thickness',\n 'Part Brand',\n 'Shell Type',\n 'Car model',\n \"Lug-Nut's:\",\n 'From the Vehicle',\n 'length',\n 'Beschreibung des Paketinhalts',\n 'Thickness',\n 'Technology',\n 'Location on vehicle',\n \"Doesn't Fit\",\n 'Longest Diagonal Dimension - IMPORTANT',\n 'Color3',\n 'Ended',\n 'Modèle',\n 'Superseded Part Number1',\n 'Item location:',\n 'Bolt\\xa0Size',\n 'Item Includes',\n 'Minimum Flow Rating',\n 'Interchange Part Number1',\n 'Input Spline Quantity',\n 'Notice1',\n 'Light Technology',\n 'Outlet Quantity',\n 'Lugs',\n 'Country of manufacture',\n 'Oberflächenfinish',\n 'texture of material',\n 'Inner Liner',\n 'Donor Year',\n 'Restricted States',\n 'Couleur',\n 'CFM',\n 'Package Length',\n 'Mfr Code',\n 'Top & Bottom Tip Style',\n 'Bulbs(Headlight)',\n 'FCC ID',\n 'Feature 2:',\n 'Antenna Length',\n 'Bushing Included',\n 'Lebensdauer der Glühlampe',\n 'Width (Mm)',\n 'Technology:',\n 'OTHER MODELS 8',\n 'Model 03',\n 'Package Content',\n 'Interchange Part Number 6',\n 'Room',\n 'Compatible for:',\n 'OE Spec or Performance/Custom:',\n 'Any questions',\n 'Number of Bulb',\n 'Suitable For',\n 'MSKU',\n 'Tongue Weight Capacity',\n 'Note 4',\n 'Make type',\n 'Friction Material Height Inner Pad',\n 'Signal',\n 'Model Year',\n 'Car make',\n 'Inlet Diameter',\n 'Cotter Pin Included',\n 'Included Hardware',\n 'Superseded Part Number',\n 'Shipping Time',\n 'core charge',\n 'Item Color',\n 'Current',\n 'Hid Xenon Color',\n 'Other Part Number:',\n 'Core Thickness (IN)',\n 'Fit For Vehicle:',\n 'Inlet Header',\n 'Interchange #',\n 'Core Material',\n 'Transponder Chip',\n 'Brand Type',\n 'Number of Terminals',\n 'Shifting Points [bar]',\n 'More Wattage LED Kit We Have',\n 'Adjustable:',\n 'Cab Type (For Trucks Only)',\n 'Model Grade',\n 'Other 2',\n 'Frequence',\n 'Displayed Make',\n 'Memory',\n 'Mounting Type:',\n 'Product Name',\n \"Technologie d'éclairage\",\n 'Car Model',\n 'Sleeve Length',\n 'Manufacturer Category',\n 'Banjo Bolt Included',\n 'Installation type',\n 'Spacer Finish',\n 'Sub Models Availablity',\n 'Packing including',\n 'Packing Included',\n 'Winning bid',\n 'PCD',\n 'Friendly Reminder',\n 'COLOR',\n 'Shipping Fee',\n \"Also won't fit for:\",\n 'Mounting Hardware Included',\n 'Vehicle Model',\n 'Stud Grade',\n 'Key Cutting/Key Programming',\n 'Height (Mm)',\n 'CB',\n 'Battery/ Electronic',\n 'location',\n 'Lower Mount Type',\n 'Orientation',\n 'Merchandise Theme',\n 'Reference Number OE',\n 'fit 2',\n 'Drain Plug Thread Size',\n 'Pinhole Size',\n 'Warning',\n 'OTHER MODELS 6',\n 'Universal Product Code',\n 'Fitement',\n 'Fit vehicle',\n 'Field of View',\n 'Inner Diameter',\n 'Leistung',\n 'Feature 12:',\n 'ABS Sensor Ring Included',\n 'Amp Draw',\n 'For Sale By',\n 'Warranty:',\n 'Quantity of Blade',\n 'Knurl',\n 'Shock Absorber Type',\n 'Regulator Included',\n 'Geeignet für',\n 'Compatible vehicle',\n 'Resistor',\n 'Rocker Arm Ratio',\n 'Compressed Length',\n 'Bolt Size',\n 'Inventory Number',\n 'Placement on Vehicle:',\n 'Circuit Board/ Battery',\n 'Fuel Tank Pressure Sensor Included',\n 'Set or Single Item',\n 'Circuit Board / Blade',\n 'Vehicle Type',\n 'Component',\n 'Configuration',\n 'BUY NOW AVAILABLE',\n 'RPM',\n 'Color/Finish',\n 'Capacity',\n 'Housing Color',\n 'Size Type',\n 'Number of Previous Owners',\n 'Model-4',\n 'Video Instruction Code',\n 'Colour',\n 'stock',\n 'Shipping Cut-off Time',\n 'Internal Or External Strainer',\n 'Dimension',\n 'Hooks',\n 'Pulley Type',\n 'Cabin Air Filter Size',\n 'Package Included 4',\n 'Fit for Part Number (Left)',\n 'Required Assembly',\n 'Lifespan',\n 'Modelo del vehículo',\n 'Any coding required?',\n 'PCD/ Bolt Pattern, CB',\n 'OTHER MODELS 10',\n 'Package includes',\n 'NO RESERVE',\n 'Flange Bolt Hole Quantity',\n 'Connection',\n 'Wire Quantity',\n 'Fit 2',\n 'Länge',\n 'Updated',\n 'Compatible Fastener Seat Type',\n 'Connector',\n 'Payments:',\n 'Angebotspaket',\n 'Input Shaft Diameter',\n 'Application 1',\n 'Type 2',\n 'Nominal Thickness',\n 'Valves Type',\n '1902-2030',\n 'OEM 2',\n 'Warranty Info',\n 'Reference OEM Number',\n 'Doors',\n 'IC',\n 'Finish',\n 'STOCK S',\n 'Partslink',\n 'Mfr Label',\n 'Receiver/Drier Included',\n 'Generic_Keywords 2',\n 'Product Details',\n 'Countyr/Region Of Manufacturer',\n 'Part Link Number',\n ...}"
     },
     "execution_count": 222,
     "metadata": {},
     "output_type": "execute_result"
    }
   ],
   "source": [
    "# repeatedly check here\n",
    "data_keys = set()\n",
    "for d in data:\n",
    "    data_keys.update(d.keys())\n",
    "data_keys"
   ]
  },
  {
   "cell_type": "code",
   "execution_count": 223,
   "metadata": {
    "collapsed": false,
    "jupyter": {
     "outputs_hidden": false
    },
    "pycharm": {
     "name": "#%%\n"
    }
   },
   "outputs": [],
   "source": [
    "# better names to info names\n",
    "columns_map = {\n",
    "    \"Condition\" : \"Condition\",\n",
    "    \"Price\" : \"Price\",\n",
    "    \"Winning bid\" : \"Winning bid\",\n",
    "    \"Location\" : \"Located in\",\n",
    "    \"Ended\" : \"Ended\",\n",
    "    \"VIN\" : 'VIN (Vehicle Identification Number)',\n",
    "    \"Make\" : \"Make\",\n",
    "    \"Model\" : \"Model\",\n",
    "    \"Year\" : \"Year\",\n",
    "    \"Ebay Item ID\": \"ebay_item_id\",\n",
    "}\n",
    "columns = list(columns_map.values())"
   ]
  },
  {
   "cell_type": "code",
   "execution_count": 224,
   "outputs": [
    {
     "name": "stdout",
     "output_type": "stream",
     "text": [
      "\n",
      "Condition\n",
      "['Vehicle Condition', 'Product Condition', 'Conditions and Options', 'Condition and Options', 'Condition', 'Item Condition', 'DescriptionPartCondition', 'Condition:', 'Conditions & Options', 'Condition Description', 'Item condition', 'Position', 'Unit', 'GTIN', 'Activation Type', 'Positionnement sur le véhicule', 'Original/Reproduction', 'Original/Licensed Reproduction', 'Ignition Type', 'Life Cycle Status Description']\n",
      "\n",
      "Price\n",
      "['Price', 'IC', 'Shipping Service', 'pieces to be send:', 'Total Number of Pieces', 'Restricted States', 'Kit or single piece', 'Number of Kit Pieces', 'Number of Piece', 'Number of Pieces', 'Numéro de pièce fabricant', 'Number of pieces', 'Number Of Pieces', 'Number Of Pieces:', 'Numéro de pièce OE/OEM', 'Série', 'Pin', 'Serie', 'Electric', 'Topic']\n",
      "\n",
      "Winning bid\n",
      "['Winning bid', 'ID', 'Warning', 'Vin', 'Wiping Durability', 'VIN #', 'Pin', 'VIN', 'Wiring Harness Included', 'Dimension', 'Tuning & styling part', 'Friction Material Length Inner Pad', 'Cold Cranking Amperage', 'Fuel Sending Unit Included', 'California Prop 65 Warning', '7-Series Plug-in Hybrid', 'Bundle Listing', 'Combined Shipping', 'Mounting Hardware Included', 'Nissan Skyline, Nissan 300ZX, Mitsubishi Evo, Audi RS6, Audi RS4']\n",
      "\n",
      "Location\n",
      "['Blade Location', 'LOCATION', 'Sump Location', 'Mounting Location', 'Location on vehicle', 'Item location:', 'location', 'LOC', 'Installation location', 'Loc', 'Inlet Location', 'Location', 'Outlet Location', 'Vehicle Part Location', 'Publication Month', 'Model Year Applications', 'Publication Year', 'Application', 'Application 1', 'Applications']\n",
      "\n",
      "Ended\n",
      "['Extended Length', 'Ended', 'Included Extended Bolts', 'Extended Length(in)', 'Recommended Surface', 'Intended Use', 'Recommended Age Range', 'Original/Licensed Reproduction', 'Outlet Gender', 'Gender', 'Cushion Extender', 'Vented or Solid Rotor:', 'Solidolid or Ventedented Rotor', 'Superseded Part Number1', 'Superseded Part Number', 'Vented', 'Connector Gender', 'Superseded Part Number(2)', 'Solid or Vented Rotor', 'Superseded Part Number(1)']\n",
      "\n",
      "VIN\n",
      "['Vintage Part', 'VIN (Vehicle Identification Number)', 'Vintage car part', 'Vin', 'Vintage', 'Vintage Car Part', 'VIN #', 'VIN', 'Vintage (Y/N)', 'Activation Type', 'Minimum Pressure', 'Positionnement sur le véhicule', 'Publication Month', 'Depth (in)', 'Country/Region of Manufacture:', 'Shipping Service', 'Located in', 'Power Options', 'Emissions', 'Original/Reproduction']\n",
      "\n",
      "Make\n",
      "['Make & Model:', 'MAKE', 'Compatible Vehicle Make', 'Compatible Makes', 'Makes', 'Fit Make', 'Make type', 'Car make', 'Displayed Make', 'Make & Model', 'Make', 'Compatible Make', 'Compatible Maker', 'Vehicle Make', 'Brake Caliper Bracket Included', 'Filter Media Material', 'Maßeinheit', 'Material', 'Friction Material Thickness Inner Pad', 'Substrate Material']\n",
      "\n",
      "Model\n",
      "['Model/Series', 'Make & Model:', 'Fit Model', 'Model -2', 'Transmission Model', 'OTHER MODELS 9', 'OTHER MODELS 3', 'Sub Model', 'Model 02', 'Model 8', 'Modell', 'Fahrzeugmodell', 'Model Year Applications', 'Model-5', 'MODEL-YEAR', 'Model Name', 'Models3', 'OTHER MODELS 15', 'Model Number', 'Models2']\n",
      "\n",
      "Year\n",
      "['Year of Manufacture', 'Year of Release', 'Compatible Years', 'Release Year', 'years fitted', 'Model Year Applications', 'Publication Year', 'MODEL-YEAR', 'Years', 'Year of Issue', 'End Year', 'Donor Year', 'Model Year', 'Compatible Year', 'Year`', 'Vehicle Year', 'Fit Years', 'Fit Year', 'Year(s) Used', 'YEAR']\n",
      "\n",
      "Ebay Item ID\n",
      "['ID', 'Tema', 'eBay Product ID (ePID)', 'Item Grade', 'FIT', 'Fit', 'OEM', 'Thema', 'Style ID', 'ebay_item_id', 'DIY', 'EAN', 'Era', 'Fit 4', 'Fit 1:', 'FIT 4', 'Fit 2:', 'Badge Type', 'Fit  2', '1.Fit']\n"
     ]
    }
   ],
   "source": [
    "for desired_col in columns_map.keys():\n",
    "    print(f'\\n{desired_col}')\n",
    "    poss = process.extract(desired_col, data_keys, limit=20, scorer=fuzz.partial_token_sort_ratio)\n",
    "    print(list(map(lambda x: x[0], poss)))"
   ],
   "metadata": {
    "collapsed": false,
    "pycharm": {
     "name": "#%%\n"
    }
   }
  },
  {
   "cell_type": "code",
   "execution_count": 225,
   "outputs": [],
   "source": [
    "# consolidated name to list of possible names\n",
    "# USE APPEND NOT REPLACE WHEN APPENDING TO THIS COLUMN!\n",
    "column_mapper = {\n",
    "\n",
    "    'condition': ['Vehicle Condition', 'Product Condition', 'Conditions and Options', 'Condition and Options', 'Condition', 'Item Condition', 'Condition:', 'Conditions & Options', 'Condition Description', 'Item condition'],\n",
    "    'price': ['Price'],\n",
    "    'winning_bid': ['Winning bid'],\n",
    "    'location': ['LOCATION', 'Item location:', 'location', 'Location'],\n",
    "    'ended': ['Ended'],\n",
    "    'vin': ['VIN (Vehicle Identification Number)', 'Vin', 'VIN #', 'VIN'],\n",
    "    'make': ['Make & Model:', 'MAKE', 'Car make', 'Displayed Make', 'Make & Model', 'Make', 'Vehicle Make'],\n",
    "    'model': ['Model/Series', 'Make & Model:', 'Model -2', 'Sub Model', 'Model 02', 'Model 8', 'Modell', 'Model Year Applications', 'Model-5', 'MODEL-YEAR', 'Model Name', 'Models3', 'OTHER MODELS 15', 'Model Number', 'Models2'],\n",
    "    'year': ['year','YEAR'],\n",
    "    \"ebay_item_id\": [\"ebay_item_id\"]\n",
    "\n",
    "}"
   ],
   "metadata": {
    "collapsed": false,
    "pycharm": {
     "name": "#%%\n"
    }
   }
  },
  {
   "cell_type": "code",
   "execution_count": 225,
   "metadata": {
    "collapsed": false,
    "jupyter": {
     "outputs_hidden": false
    },
    "pycharm": {
     "name": "#%%\n"
    }
   },
   "outputs": [],
   "source": []
  },
  {
   "cell_type": "markdown",
   "metadata": {},
   "source": [
    "# Get the data based on the columns\n",
    "- only use rows  with vin (i.e. it is a car)"
   ]
  },
  {
   "cell_type": "code",
   "execution_count": 226,
   "outputs": [],
   "source": [
    "new_data = []\n",
    "for ebay_data in data:\n",
    "    for vin_ebay_col in column_mapper['vin']:\n",
    "        if vin_ebay_col in ebay_data.keys():\n",
    "            new_data.append(ebay_data)\n",
    "            break"
   ],
   "metadata": {
    "collapsed": false,
    "pycharm": {
     "name": "#%%\n"
    }
   }
  },
  {
   "cell_type": "code",
   "execution_count": 227,
   "outputs": [
    {
     "data": {
      "text/plain": "6094"
     },
     "execution_count": 227,
     "metadata": {},
     "output_type": "execute_result"
    }
   ],
   "source": [
    "len(new_data)"
   ],
   "metadata": {
    "collapsed": false,
    "pycharm": {
     "name": "#%%\n"
    }
   }
  },
  {
   "cell_type": "code",
   "execution_count": 228,
   "outputs": [],
   "source": [
    "with open('./data/ebay_ev_sales_data_cars.json','w') as f:\n",
    "    json.dump(new_data, f, indent=4, separators=(',', ': '))"
   ],
   "metadata": {
    "collapsed": false,
    "pycharm": {
     "name": "#%%\n"
    }
   }
  },
  {
   "cell_type": "code",
   "execution_count": 229,
   "outputs": [],
   "source": [
    "data = new_data"
   ],
   "metadata": {
    "collapsed": false,
    "pycharm": {
     "name": "#%%\n"
    }
   }
  },
  {
   "cell_type": "code",
   "execution_count": 229,
   "outputs": [],
   "source": [],
   "metadata": {
    "collapsed": false,
    "pycharm": {
     "name": "#%%\n"
    }
   }
  },
  {
   "cell_type": "code",
   "execution_count": 230,
   "metadata": {
    "collapsed": false,
    "jupyter": {
     "outputs_hidden": false
    },
    "pycharm": {
     "name": "#%%\n"
    }
   },
   "outputs": [],
   "source": [
    "data_arr = []\n",
    "for ebay_data in data:\n",
    "    new_dict = {}\n",
    "    for col, ebay_cols in column_mapper.items():\n",
    "        for ebay_col in ebay_cols:\n",
    "            if ebay_col in ebay_data:\n",
    "                if col in new_dict.keys():\n",
    "                    new_dict[col] += f'{\"|\"}{ebay_data[ebay_col]}'\n",
    "                else:\n",
    "                    new_dict[col] = ebay_data[ebay_col]\n",
    "    data_arr.append(new_dict)"
   ]
  },
  {
   "cell_type": "code",
   "execution_count": 231,
   "metadata": {
    "collapsed": false,
    "jupyter": {
     "outputs_hidden": false
    },
    "pycharm": {
     "name": "#%%\n"
    }
   },
   "outputs": [],
   "source": [
    "df = pd.DataFrame(data_arr)"
   ]
  },
  {
   "cell_type": "code",
   "execution_count": 232,
   "metadata": {
    "collapsed": false,
    "jupyter": {
     "outputs_hidden": false
    },
    "pycharm": {
     "name": "#%%\n"
    }
   },
   "outputs": [
    {
     "data": {
      "text/plain": "                                              condition  \\\n0                                                  Used   \n1     Used: A vehicle is considered used if it has b...   \n2                                                  Used   \n3     Used: A vehicle is considered used if it has b...   \n4     Used: A vehicle is considered used if it has b...   \n...                                                 ...   \n6089  Used: A vehicle is considered used if it has b...   \n6090  Used: A vehicle is considered used if it has b...   \n6091  Used: A vehicle is considered used if it has b...   \n6092  Used: A vehicle is considered used if it has b...   \n6093                                               Used   \n\n                                                  price  \\\n0     |US $48,900.00|Best offer accepted| |This item...   \n1                                       |US $42,000.00|   \n2                                       |US $46,900.00|   \n3     |US $50,500.00|Best offer accepted| |This item...   \n4                                                   NaN   \n...                                                 ...   \n6089                                                NaN   \n6090                                                NaN   \n6091                                                NaN   \n6092                                                NaN   \n6093                                                NaN   \n\n                            ended                vin       make  \\\n0     |May 16, 2023|14:03:36 PDT|  5YJXCAE25JF089783      Tesla   \n1     |May 12, 2023|19:33:22 PDT|  5YJXCAE49GF001909      Tesla   \n2     |May 09, 2023|11:21:20 PDT|  5YJXCAE21HF078337      Tesla   \n3     |May 09, 2023|09:06:01 PDT|  5YJXCAE20KF155657      Tesla   \n4     |May 08, 2023|16:23:57 PDT|  5YJXCBE22LF271739      Tesla   \n...                           ...                ...        ...   \n6089                          NaN  1GCDC14H7EF323237  Chevrolet   \n6090                          NaN  00000000000000000  Chevrolet   \n6091                          NaN      CKR147F469782  Chevrolet   \n6092                          NaN      CKR147F469782  Chevrolet   \n6093                          NaN      TCS142A502611  Chevrolet   \n\n                             model  ebay_item_id     winning_bid  \n0     Model X 100D 295 FULL CHARGE  256048040264             NaN  \n1                              NaN  155552048142             NaN  \n2                              NaN  225550054810             NaN  \n3                              NaN  256066075946             NaN  \n4                              NaN  295670955949  US $63,188.00|  \n...                            ...           ...             ...  \n6089                           NaN  195767015068             NaN  \n6090                        Pickup  185785486080             NaN  \n6091                           NaN  404254562358             NaN  \n6092                           NaN  404236233432             NaN  \n6093                           NaN  256038483848             NaN  \n\n[6094 rows x 8 columns]",
      "text/html": "<div>\n<style scoped>\n    .dataframe tbody tr th:only-of-type {\n        vertical-align: middle;\n    }\n\n    .dataframe tbody tr th {\n        vertical-align: top;\n    }\n\n    .dataframe thead th {\n        text-align: right;\n    }\n</style>\n<table border=\"1\" class=\"dataframe\">\n  <thead>\n    <tr style=\"text-align: right;\">\n      <th></th>\n      <th>condition</th>\n      <th>price</th>\n      <th>ended</th>\n      <th>vin</th>\n      <th>make</th>\n      <th>model</th>\n      <th>ebay_item_id</th>\n      <th>winning_bid</th>\n    </tr>\n  </thead>\n  <tbody>\n    <tr>\n      <th>0</th>\n      <td>Used</td>\n      <td>|US $48,900.00|Best offer accepted| |This item...</td>\n      <td>|May 16, 2023|14:03:36 PDT|</td>\n      <td>5YJXCAE25JF089783</td>\n      <td>Tesla</td>\n      <td>Model X 100D 295 FULL CHARGE</td>\n      <td>256048040264</td>\n      <td>NaN</td>\n    </tr>\n    <tr>\n      <th>1</th>\n      <td>Used: A vehicle is considered used if it has b...</td>\n      <td>|US $42,000.00|</td>\n      <td>|May 12, 2023|19:33:22 PDT|</td>\n      <td>5YJXCAE49GF001909</td>\n      <td>Tesla</td>\n      <td>NaN</td>\n      <td>155552048142</td>\n      <td>NaN</td>\n    </tr>\n    <tr>\n      <th>2</th>\n      <td>Used</td>\n      <td>|US $46,900.00|</td>\n      <td>|May 09, 2023|11:21:20 PDT|</td>\n      <td>5YJXCAE21HF078337</td>\n      <td>Tesla</td>\n      <td>NaN</td>\n      <td>225550054810</td>\n      <td>NaN</td>\n    </tr>\n    <tr>\n      <th>3</th>\n      <td>Used: A vehicle is considered used if it has b...</td>\n      <td>|US $50,500.00|Best offer accepted| |This item...</td>\n      <td>|May 09, 2023|09:06:01 PDT|</td>\n      <td>5YJXCAE20KF155657</td>\n      <td>Tesla</td>\n      <td>NaN</td>\n      <td>256066075946</td>\n      <td>NaN</td>\n    </tr>\n    <tr>\n      <th>4</th>\n      <td>Used: A vehicle is considered used if it has b...</td>\n      <td>NaN</td>\n      <td>|May 08, 2023|16:23:57 PDT|</td>\n      <td>5YJXCBE22LF271739</td>\n      <td>Tesla</td>\n      <td>NaN</td>\n      <td>295670955949</td>\n      <td>US $63,188.00|</td>\n    </tr>\n    <tr>\n      <th>...</th>\n      <td>...</td>\n      <td>...</td>\n      <td>...</td>\n      <td>...</td>\n      <td>...</td>\n      <td>...</td>\n      <td>...</td>\n      <td>...</td>\n    </tr>\n    <tr>\n      <th>6089</th>\n      <td>Used: A vehicle is considered used if it has b...</td>\n      <td>NaN</td>\n      <td>NaN</td>\n      <td>1GCDC14H7EF323237</td>\n      <td>Chevrolet</td>\n      <td>NaN</td>\n      <td>195767015068</td>\n      <td>NaN</td>\n    </tr>\n    <tr>\n      <th>6090</th>\n      <td>Used: A vehicle is considered used if it has b...</td>\n      <td>NaN</td>\n      <td>NaN</td>\n      <td>00000000000000000</td>\n      <td>Chevrolet</td>\n      <td>Pickup</td>\n      <td>185785486080</td>\n      <td>NaN</td>\n    </tr>\n    <tr>\n      <th>6091</th>\n      <td>Used: A vehicle is considered used if it has b...</td>\n      <td>NaN</td>\n      <td>NaN</td>\n      <td>CKR147F469782</td>\n      <td>Chevrolet</td>\n      <td>NaN</td>\n      <td>404254562358</td>\n      <td>NaN</td>\n    </tr>\n    <tr>\n      <th>6092</th>\n      <td>Used: A vehicle is considered used if it has b...</td>\n      <td>NaN</td>\n      <td>NaN</td>\n      <td>CKR147F469782</td>\n      <td>Chevrolet</td>\n      <td>NaN</td>\n      <td>404236233432</td>\n      <td>NaN</td>\n    </tr>\n    <tr>\n      <th>6093</th>\n      <td>Used</td>\n      <td>NaN</td>\n      <td>NaN</td>\n      <td>TCS142A502611</td>\n      <td>Chevrolet</td>\n      <td>NaN</td>\n      <td>256038483848</td>\n      <td>NaN</td>\n    </tr>\n  </tbody>\n</table>\n<p>6094 rows × 8 columns</p>\n</div>"
     },
     "execution_count": 232,
     "metadata": {},
     "output_type": "execute_result"
    }
   ],
   "source": [
    "df"
   ]
  },
  {
   "cell_type": "markdown",
   "metadata": {},
   "source": [
    "# Some light cleaning\n",
    "- drop duplicates and items that weren't cars\n",
    "- just write \"used\""
   ]
  },
  {
   "cell_type": "code",
   "execution_count": 233,
   "outputs": [],
   "source": [
    "#df[~pd.isnull(df.location)]"
   ],
   "metadata": {
    "collapsed": false,
    "pycharm": {
     "name": "#%%\n"
    }
   }
  },
  {
   "cell_type": "code",
   "execution_count": 234,
   "outputs": [
    {
     "data": {
      "text/plain": "(3858, 8)"
     },
     "execution_count": 234,
     "metadata": {},
     "output_type": "execute_result"
    }
   ],
   "source": [
    "df.drop_duplicates(subset=['vin','ebay_item_id'],keep='first',inplace=True)\n",
    "df.shape"
   ],
   "metadata": {
    "collapsed": false,
    "pycharm": {
     "name": "#%%\n"
    }
   }
  },
  {
   "cell_type": "code",
   "execution_count": 235,
   "metadata": {},
   "outputs": [
    {
     "data": {
      "text/plain": "                                           condition  \\\n0                                               Used   \n1  Used: A vehicle is considered used if it has b...   \n2                                               Used   \n3  Used: A vehicle is considered used if it has b...   \n4  Used: A vehicle is considered used if it has b...   \n\n                                               price  \\\n0  US $48,900.00|Best offer accepted| |This item ...   \n1                                       US $42,000.0   \n2                                       US $46,900.0   \n3  US $50,500.00|Best offer accepted| |This item ...   \n4                                                NaN   \n\n                      ended                vin   make  \\\n0  May 16, 2023|14:03:36 PD  5YJXCAE25JF089783  Tesla   \n1  May 12, 2023|19:33:22 PD  5YJXCAE49GF001909  Tesla   \n2  May 09, 2023|11:21:20 PD  5YJXCAE21HF078337  Tesla   \n3  May 09, 2023|09:06:01 PD  5YJXCAE20KF155657  Tesla   \n4  May 08, 2023|16:23:57 PD  5YJXCBE22LF271739  Tesla   \n\n                          model  ebay_item_id   winning_bid  \n0  Model X 100D 295 FULL CHARGE  256048040264           NaN  \n1                           NaN  155552048142           NaN  \n2                           NaN  225550054810           NaN  \n3                           NaN  256066075946           NaN  \n4                           NaN  295670955949  US $63,188.0  ",
      "text/html": "<div>\n<style scoped>\n    .dataframe tbody tr th:only-of-type {\n        vertical-align: middle;\n    }\n\n    .dataframe tbody tr th {\n        vertical-align: top;\n    }\n\n    .dataframe thead th {\n        text-align: right;\n    }\n</style>\n<table border=\"1\" class=\"dataframe\">\n  <thead>\n    <tr style=\"text-align: right;\">\n      <th></th>\n      <th>condition</th>\n      <th>price</th>\n      <th>ended</th>\n      <th>vin</th>\n      <th>make</th>\n      <th>model</th>\n      <th>ebay_item_id</th>\n      <th>winning_bid</th>\n    </tr>\n  </thead>\n  <tbody>\n    <tr>\n      <th>0</th>\n      <td>Used</td>\n      <td>US $48,900.00|Best offer accepted| |This item ...</td>\n      <td>May 16, 2023|14:03:36 PD</td>\n      <td>5YJXCAE25JF089783</td>\n      <td>Tesla</td>\n      <td>Model X 100D 295 FULL CHARGE</td>\n      <td>256048040264</td>\n      <td>NaN</td>\n    </tr>\n    <tr>\n      <th>1</th>\n      <td>Used: A vehicle is considered used if it has b...</td>\n      <td>US $42,000.0</td>\n      <td>May 12, 2023|19:33:22 PD</td>\n      <td>5YJXCAE49GF001909</td>\n      <td>Tesla</td>\n      <td>NaN</td>\n      <td>155552048142</td>\n      <td>NaN</td>\n    </tr>\n    <tr>\n      <th>2</th>\n      <td>Used</td>\n      <td>US $46,900.0</td>\n      <td>May 09, 2023|11:21:20 PD</td>\n      <td>5YJXCAE21HF078337</td>\n      <td>Tesla</td>\n      <td>NaN</td>\n      <td>225550054810</td>\n      <td>NaN</td>\n    </tr>\n    <tr>\n      <th>3</th>\n      <td>Used: A vehicle is considered used if it has b...</td>\n      <td>US $50,500.00|Best offer accepted| |This item ...</td>\n      <td>May 09, 2023|09:06:01 PD</td>\n      <td>5YJXCAE20KF155657</td>\n      <td>Tesla</td>\n      <td>NaN</td>\n      <td>256066075946</td>\n      <td>NaN</td>\n    </tr>\n    <tr>\n      <th>4</th>\n      <td>Used: A vehicle is considered used if it has b...</td>\n      <td>NaN</td>\n      <td>May 08, 2023|16:23:57 PD</td>\n      <td>5YJXCBE22LF271739</td>\n      <td>Tesla</td>\n      <td>NaN</td>\n      <td>295670955949</td>\n      <td>US $63,188.0</td>\n    </tr>\n  </tbody>\n</table>\n</div>"
     },
     "execution_count": 235,
     "metadata": {},
     "output_type": "execute_result"
    }
   ],
   "source": [
    "remove_start = lambda s: s[1:] if pd.notnull(s) and len(s)>1 and s[0]=='|' else s\n",
    "remove_end = lambda s: s[:-2] if pd.notnull(s) and len(s)>1 and s[-1]=='|' else s\n",
    "\n",
    "df = df.apply(lambda x: x.apply(remove_start))\n",
    "df = df.apply(lambda x: x.apply(remove_end))\n",
    "df.head()"
   ]
  },
  {
   "cell_type": "code",
   "execution_count": 236,
   "metadata": {
    "collapsed": false,
    "jupyter": {
     "outputs_hidden": false
    },
    "pycharm": {
     "name": "#%%\n"
    }
   },
   "outputs": [
    {
     "data": {
      "text/plain": "  condition                                              price  \\\n0      used  US $48,900.00|Best offer accepted| |This item ...   \n1      used                                       US $42,000.0   \n2      used                                       US $46,900.0   \n3      used  US $50,500.00|Best offer accepted| |This item ...   \n4      used                                                NaN   \n\n                      ended                vin   make  \\\n0  May 16, 2023|14:03:36 PD  5YJXCAE25JF089783  Tesla   \n1  May 12, 2023|19:33:22 PD  5YJXCAE49GF001909  Tesla   \n2  May 09, 2023|11:21:20 PD  5YJXCAE21HF078337  Tesla   \n3  May 09, 2023|09:06:01 PD  5YJXCAE20KF155657  Tesla   \n4  May 08, 2023|16:23:57 PD  5YJXCBE22LF271739  Tesla   \n\n                          model  ebay_item_id   winning_bid  \n0  Model X 100D 295 FULL CHARGE  256048040264           NaN  \n1                           NaN  155552048142           NaN  \n2                           NaN  225550054810           NaN  \n3                           NaN  256066075946           NaN  \n4                           NaN  295670955949  US $63,188.0  ",
      "text/html": "<div>\n<style scoped>\n    .dataframe tbody tr th:only-of-type {\n        vertical-align: middle;\n    }\n\n    .dataframe tbody tr th {\n        vertical-align: top;\n    }\n\n    .dataframe thead th {\n        text-align: right;\n    }\n</style>\n<table border=\"1\" class=\"dataframe\">\n  <thead>\n    <tr style=\"text-align: right;\">\n      <th></th>\n      <th>condition</th>\n      <th>price</th>\n      <th>ended</th>\n      <th>vin</th>\n      <th>make</th>\n      <th>model</th>\n      <th>ebay_item_id</th>\n      <th>winning_bid</th>\n    </tr>\n  </thead>\n  <tbody>\n    <tr>\n      <th>0</th>\n      <td>used</td>\n      <td>US $48,900.00|Best offer accepted| |This item ...</td>\n      <td>May 16, 2023|14:03:36 PD</td>\n      <td>5YJXCAE25JF089783</td>\n      <td>Tesla</td>\n      <td>Model X 100D 295 FULL CHARGE</td>\n      <td>256048040264</td>\n      <td>NaN</td>\n    </tr>\n    <tr>\n      <th>1</th>\n      <td>used</td>\n      <td>US $42,000.0</td>\n      <td>May 12, 2023|19:33:22 PD</td>\n      <td>5YJXCAE49GF001909</td>\n      <td>Tesla</td>\n      <td>NaN</td>\n      <td>155552048142</td>\n      <td>NaN</td>\n    </tr>\n    <tr>\n      <th>2</th>\n      <td>used</td>\n      <td>US $46,900.0</td>\n      <td>May 09, 2023|11:21:20 PD</td>\n      <td>5YJXCAE21HF078337</td>\n      <td>Tesla</td>\n      <td>NaN</td>\n      <td>225550054810</td>\n      <td>NaN</td>\n    </tr>\n    <tr>\n      <th>3</th>\n      <td>used</td>\n      <td>US $50,500.00|Best offer accepted| |This item ...</td>\n      <td>May 09, 2023|09:06:01 PD</td>\n      <td>5YJXCAE20KF155657</td>\n      <td>Tesla</td>\n      <td>NaN</td>\n      <td>256066075946</td>\n      <td>NaN</td>\n    </tr>\n    <tr>\n      <th>4</th>\n      <td>used</td>\n      <td>NaN</td>\n      <td>May 08, 2023|16:23:57 PD</td>\n      <td>5YJXCBE22LF271739</td>\n      <td>Tesla</td>\n      <td>NaN</td>\n      <td>295670955949</td>\n      <td>US $63,188.0</td>\n    </tr>\n  </tbody>\n</table>\n</div>"
     },
     "execution_count": 236,
     "metadata": {},
     "output_type": "execute_result"
    }
   ],
   "source": [
    "df['condition'] = df['condition'].apply(lambda x: 'used' if pd.notnull(x) and 'used' in x.lower() else x)\n",
    "df.head()"
   ]
  },
  {
   "cell_type": "code",
   "execution_count": 236,
   "metadata": {},
   "outputs": [],
   "source": []
  },
  {
   "cell_type": "markdown",
   "metadata": {},
   "source": [
    "# Write the data"
   ]
  },
  {
   "cell_type": "code",
   "execution_count": 237,
   "metadata": {
    "collapsed": false,
    "jupyter": {
     "outputs_hidden": false
    },
    "pycharm": {
     "name": "#%%\n"
    }
   },
   "outputs": [],
   "source": [
    "df.to_csv('./data/ebay_ev_sales_data_cleaned.csv', index=False)"
   ]
  },
  {
   "cell_type": "code",
   "execution_count": 237,
   "metadata": {
    "collapsed": false,
    "jupyter": {
     "outputs_hidden": false
    },
    "pycharm": {
     "name": "#%%\n"
    }
   },
   "outputs": [],
   "source": []
  }
 ],
 "metadata": {
  "kernelspec": {
   "display_name": "Python 3",
   "language": "python",
   "name": "python3"
  },
  "language_info": {
   "codemirror_mode": {
    "name": "ipython",
    "version": 3
   },
   "file_extension": ".py",
   "mimetype": "text/x-python",
   "name": "python",
   "nbconvert_exporter": "python",
   "pygments_lexer": "ipython3",
   "version": "3.8.12"
  }
 },
 "nbformat": 4,
 "nbformat_minor": 4
}