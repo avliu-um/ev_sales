{
 "cells": [
  {
   "cell_type": "code",
   "execution_count": 2,
   "metadata": {
    "collapsed": true
   },
   "outputs": [
    {
     "name": "stdout",
     "output_type": "stream",
     "text": [
      "Intel MKL WARNING: Support of Intel(R) Streaming SIMD Extensions 4.2 (Intel(R) SSE4.2) enabled only processors has been deprecated. Intel oneAPI Math Kernel Library 2025.0 will require Intel(R) Advanced Vector Extensions (Intel(R) AVX) instructions.\n",
      "Intel MKL WARNING: Support of Intel(R) Streaming SIMD Extensions 4.2 (Intel(R) SSE4.2) enabled only processors has been deprecated. Intel oneAPI Math Kernel Library 2025.0 will require Intel(R) Advanced Vector Extensions (Intel(R) AVX) instructions.\n"
     ]
    }
   ],
   "source": [
    "import pandas as pd"
   ]
  },
  {
   "cell_type": "code",
   "execution_count": 2,
   "outputs": [],
   "source": [],
   "metadata": {
    "collapsed": false,
    "pycharm": {
     "name": "#%%\n"
    }
   }
  },
  {
   "cell_type": "code",
   "execution_count": 4,
   "outputs": [
    {
     "data": {
      "text/plain": "Index(['VIN (1-10)', 'County', 'City', 'State', 'Postal Code', 'Model Year',\n       'Make', 'Model', 'Electric Vehicle Type',\n       'Clean Alternative Fuel Vehicle (CAFV) Eligibility', 'Electric Range',\n       'Base MSRP', 'Legislative District', 'DOL Vehicle ID',\n       'Vehicle Location', 'Electric Utility', '2020 Census Tract'],\n      dtype='object')"
     },
     "execution_count": 4,
     "metadata": {},
     "output_type": "execute_result"
    }
   ],
   "source": [
    "df = pd.read_csv('./data/ev_pop_data.csv')\n",
    "df.columns"
   ],
   "metadata": {
    "collapsed": false,
    "pycharm": {
     "name": "#%%\n"
    }
   }
  },
  {
   "cell_type": "code",
   "execution_count": 10,
   "outputs": [
    {
     "name": "stderr",
     "output_type": "stream",
     "text": [
      "/var/folders/t6/srtzy2f51db8mxxv7g_63f6h0000gr/T/ipykernel_51115/2605588214.py:1: UserWarning: Pandas doesn't allow columns to be created via a new attribute name - see https://pandas.pydata.org/pandas-docs/stable/indexing.html#attribute-access\n",
      "  df.make_model = df[['Make','Model']].apply(lambda x: f\"{x['Make']} {x['Model']}\",axis=1)\n"
     ]
    },
    {
     "data": {
      "text/plain": "array(['TESLA MODEL X', 'HONDA CLARITY', 'TESLA MODEL 3', 'NISSAN LEAF',\n       'TESLA MODEL S', 'FORD FUSION', 'AUDI Q5 E', 'FORD C-MAX',\n       'TESLA MODEL Y', 'KIA NIRO', 'CHEVROLET VOLT', 'CHEVROLET BOLT EV',\n       'SMART FORTWO', 'BMW X5', 'KIA SORENTO', 'TOYOTA PRIUS PRIME',\n       'BMW I3', 'JEEP WRANGLER', 'CHEVROLET SPARK', 'FIAT 500',\n       'VOLVO XC60', 'VOLVO XC90', 'FORD FOCUS', 'KIA SOUL EV', 'AUDI A3',\n       'CHRYSLER PACIFICA', 'KIA OPTIMA', 'LEXUS NX',\n       'TOYOTA PRIUS PLUG-IN', 'FORD MUSTANG MACH-E',\n       'CHEVROLET BOLT EUV', 'PORSCHE CAYENNE', 'CADILLAC ELR', 'BMW X3',\n       'HYUNDAI KONA ELECTRIC', 'BMW 530E', 'MERCEDES-BENZ EQB-CLASS',\n       'RIVIAN R1T', 'FORD TRANSIT', 'VOLKSWAGEN E-GOLF',\n       'VOLKSWAGEN ID.4', 'SMART FORTWO ELECTRIC DRIVE', 'JAGUAR I-PACE',\n       'LINCOLN AVIATOR', 'PORSCHE TAYCAN', 'AUDI E-TRON',\n       'MERCEDES-BENZ C-CLASS', 'MITSUBISHI OUTLANDER', 'KIA SOUL',\n       'HYUNDAI SONATA', 'JEEP GRAND CHEROKEE', 'TOYOTA RAV4 PRIME',\n       'KIA SPORTAGE', 'HYUNDAI IONIQ 5', 'KIA EV6',\n       'MERCEDES-BENZ EQS-CLASS SEDAN', 'RIVIAN R1S', 'BMW IX',\n       'HYUNDAI KONA', 'BMW I8', 'BMW 330E', 'MINI COUNTRYMAN',\n       'VOLVO nan', 'VOLVO S60', 'FORD F-150', 'VOLVO XC40',\n       'HYUNDAI IONIQ', 'AUDI Q5', 'MERCEDES-BENZ GLE-CLASS',\n       'MINI HARDTOP', 'FORD ESCAPE', 'BMW I4', 'MERCEDES-BENZ B-CLASS',\n       'HYUNDAI IONIQ 6', 'HYUNDAI SANTA FE', 'TESLA ROADSTER',\n       'POLESTAR PS2', 'TOYOTA RAV4', 'PORSCHE PANAMERA',\n       'MERCEDES-BENZ GLC-CLASS', 'AUDI Q4', 'VOLVO C40',\n       'LINCOLN CORSAIR', 'VOLVO S90', 'MITSUBISHI I-MIEV',\n       'GENESIS GV60', 'AUDI E-TRON GT', 'SUBARU CROSSTREK',\n       'SUBARU SOLTERRA', 'LUCID AIR', 'NISSAN ARIYA',\n       'AUDI E-TRON SPORTBACK', 'MERCEDES-BENZ EQS-CLASS SUV',\n       'LEXUS RZ 450E', 'CADILLAC LYRIQ', 'HYUNDAI TUCSON',\n       'SMART EQ FORTWO', 'VOLVO V60', 'AUDI RS E-TRON GT', 'TH!NK CITY',\n       'GENESIS G80', 'LAND ROVER RANGE ROVER SPORT', 'TOYOTA BZ4X',\n       'MERCEDES-BENZ EQE-CLASS SEDAN', 'HONDA ACCORD', 'BMW 740E',\n       'LAND ROVER RANGE ROVER', 'FISKER KARMA', 'FORD RANGER',\n       'MERCEDES-BENZ S-CLASS', 'RIVIAN EDV', 'PORSCHE 918', 'AUDI A7',\n       'BMW 745E', 'AZURE DYNAMICS TRANSIT CONNECT ELECTRIC', 'AUDI A8 E',\n       'CADILLAC CT6', 'WHEEGO ELECTRIC CARS WHEEGO',\n       'BENTLEY FLYING SPUR', 'BMW 745LE', 'BENTLEY BENTAYGA',\n       'CHEVROLET S-10 PICKUP'], dtype=object)"
     },
     "execution_count": 10,
     "metadata": {},
     "output_type": "execute_result"
    }
   ],
   "source": [
    "df.make_model = df[['Make','Model']].apply(lambda x: f\"{x['Make']} {x['Model']}\",axis=1)\n",
    "df.make_model.unique()\n"
   ],
   "metadata": {
    "collapsed": false,
    "pycharm": {
     "name": "#%%\n"
    }
   }
  },
  {
   "cell_type": "code",
   "execution_count": 14,
   "outputs": [],
   "source": [
    "all_evs = pd.Series(df.make_model.unique()).rename(\"ev\")\n",
    "all_evs.to_csv('data/all_evs.csv',header=False,index=False)"
   ],
   "metadata": {
    "collapsed": false,
    "pycharm": {
     "name": "#%%\n"
    }
   }
  },
  {
   "cell_type": "code",
   "execution_count": null,
   "outputs": [],
   "source": [],
   "metadata": {
    "collapsed": false,
    "pycharm": {
     "name": "#%%\n"
    }
   }
  }
 ],
 "metadata": {
  "kernelspec": {
   "display_name": "Python 3",
   "language": "python",
   "name": "python3"
  },
  "language_info": {
   "codemirror_mode": {
    "name": "ipython",
    "version": 2
   },
   "file_extension": ".py",
   "mimetype": "text/x-python",
   "name": "python",
   "nbconvert_exporter": "python",
   "pygments_lexer": "ipython2",
   "version": "2.7.6"
  }
 },
 "nbformat": 4,
 "nbformat_minor": 0
}