{
 "cells": [
  {
   "cell_type": "code",
   "execution_count": 2,
   "id": "869b0a53-e73b-4a69-ac07-e2a3094436a7",
   "metadata": {
    "tags": []
   },
   "outputs": [
    {
     "name": "stderr",
     "output_type": "stream",
     "text": [
      "/opt/anaconda3/envs/car_sales/lib/python3.11/site-packages/tqdm/auto.py:21: TqdmWarning: IProgress not found. Please update jupyter and ipywidgets. See https://ipywidgets.readthedocs.io/en/stable/user_install.html\n",
      "  from .autonotebook import tqdm as notebook_tqdm\n"
     ]
    }
   ],
   "source": [
    "import numpy as np\n",
    "import pandas as pd\n",
    "from ydata_profiling import ProfileReport\n",
    "from datetime import datetime\n",
    "import json"
   ]
  },
  {
   "cell_type": "code",
   "execution_count": 4,
   "id": "dc09fa7a-02d8-4837-b74e-cee490328cba",
   "metadata": {
    "tags": []
   },
   "outputs": [],
   "source": [
    "def clean_json(fp, generate_report=False):\n",
    "\n",
    "    with open(fp, 'r') as f:\n",
    "        json_blob = json.load(f)\n",
    "\n",
    "    df = pd.json_normalize(json_blob)\n",
    "    \n",
    "    df['yr_make_model'] = df.other.str.split('|').str[0]\n",
    "    df['year']= df['yr_make_model'].str.split(' ').str[0]\n",
    "    df['post_expire'] = pd.to_datetime(df['post_expire'])\n",
    "    df['post_datetime'] = pd.to_datetime(df['post_datetime'])\n",
    "\n",
    "    col_names = {'offers.availableAtOrFrom.address.addressRegion': 'offers.addressRegion',  #state\n",
    "                 'offers.availableAtOrFrom.address.postalCode': 'offers.postalCode',\n",
    "                 'offers.availableAtOrFrom.address.addressLocality': 'offers.addressLocality',   #city\n",
    "                 'offers.availableAtOrFrom.address.addressCountry': 'offers.addressCountry',\n",
    "                 'offers.availableAtOrFrom.address.streetAddress': 'offers.streetAddress',\n",
    "                 'offers.availableAtOrFrom.geo.longitude': 'offers.longitude',\n",
    "                 'offers.availableAtOrFrom.geo.latitude': 'offers.latitude'\n",
    "                }\n",
    "    df.rename(columns=col_names, inplace=True)\n",
    "\n",
    "    keep_cols = ['post_id', 'post_datetime', 'seller_type',\n",
    "                 'offers.price', 'offers.priceCurrency', 'year', 'yr_make_model',\n",
    "                 'VIN', 'fuel', 'type', 'size', 'odometer', 'cylinders', 'drive',\n",
    "                 'title status', 'transmission', 'paint color',\n",
    "                 'condition', 'offers.addressRegion', 'offers.addressLocality',\n",
    "                 'offers.postalCode', 'offers.addressCountry',\n",
    "                 'offers.streetAddress', 'offers.longitude', 'offers.latitude',\n",
    "                 'post_expire', 'seller_notes', 'url', 'name', 'description'\n",
    "                ]\n",
    "    \n",
    "    df = (df.filter(keep_cols)\n",
    "           .loc[df['offers.addressCountry'] == 'US']\n",
    "           .drop_duplicates()\n",
    "           .sort_values(by='post_datetime', ignore_index=True)\n",
    "          )\n",
    "    \n",
    "    if generate_report:\n",
    "        pass\n",
    "    \n",
    "    return df"
   ]
  },
  {
   "cell_type": "code",
   "execution_count": 106,
   "id": "297d12af-1fc2-411d-9654-3bece2e23012",
   "metadata": {
    "tags": []
   },
   "outputs": [],
   "source": [
    "fp = './data/2023_08_01_lansing_data.json'\n",
    "df = clean_json(fp)\n",
    "#df.to_csv('craigslist_sample.csv', index=False)"
   ]
  },
  {
   "cell_type": "code",
   "execution_count": 7,
   "id": "65c0b204-c694-498d-a865-bf0d4edb6f0e",
   "metadata": {
    "tags": []
   },
   "outputs": [
    {
     "data": {
      "text/plain": [
       "fuel\n",
       "gas       291\n",
       "diesel      8\n",
       "other       5\n",
       "hybrid      3\n",
       "Name: count, dtype: int64"
      ]
     },
     "execution_count": 7,
     "metadata": {},
     "output_type": "execute_result"
    }
   ],
   "source": [
    "fp = './data/2023_08_20_detriot_data.json'\n",
    "df = clean_json(fp)\n",
    "\n",
    "# with open(fp, 'r') as f:\n",
    "#     json_blob = json.load(f)\n",
    "\n",
    "# df = pd.json_normalize(json_blob)\n",
    "# df.columns\n",
    "df.fuel.value_counts()"
   ]
  },
  {
   "cell_type": "code",
   "execution_count": 8,
   "id": "5d3afee4-5883-48d2-86f3-de154849030d",
   "metadata": {
    "tags": []
   },
   "outputs": [
    {
     "data": {
      "text/plain": [
       "fuel\n",
       "gas         280\n",
       "diesel       25\n",
       "hybrid       19\n",
       "electric      6\n",
       "other         2\n",
       "Name: count, dtype: int64"
      ]
     },
     "execution_count": 8,
     "metadata": {},
     "output_type": "execute_result"
    }
   ],
   "source": [
    "fp = './data/2023_08_21_sfbay_data.json'\n",
    "sf_df = clean_json(fp)\n",
    "\n",
    "# with open(fp, 'r') as f:\n",
    "#     json_blob = json.load(f)\n",
    "\n",
    "# df = pd.json_normalize(json_blob)\n",
    "# df.columns\n",
    "sf_df.fuel.value_counts()"
   ]
  },
  {
   "cell_type": "code",
   "execution_count": 9,
   "id": "4d788931-9732-4ea9-a716-9dbbb7fa6b9d",
   "metadata": {
    "tags": []
   },
   "outputs": [],
   "source": [
    "### EV only data pull"
   ]
  },
  {
   "cell_type": "code",
   "execution_count": 14,
   "id": "c9884c9e-91b5-4733-a8c0-0c19ccd0f965",
   "metadata": {
    "tags": []
   },
   "outputs": [],
   "source": [
    "fp = './data/2023_08_21_detriot_data.json'\n",
    "df = clean_json(fp)\n",
    "\n",
    "# with open(fp, 'r') as f:\n",
    "#     json_blob = json.load(f)\n",
    "\n",
    "# df = pd.json_normalize(json_blob)\n",
    "# df.columns\n",
    "len(df)\n",
    "df.to_csv('./data/processed/craigslist_det_ev_sample.csv', index=False)"
   ]
  },
  {
   "cell_type": "code",
   "execution_count": 15,
   "id": "9158401d-79cd-408f-a65c-75000ea81ba7",
   "metadata": {
    "tags": []
   },
   "outputs": [],
   "source": [
    "fp = './data/2023_08_21_sfbay_data.json'\n",
    "sf_df = clean_json(fp)\n",
    "\n",
    "# with open(fp, 'r') as f:\n",
    "#     json_blob = json.load(f)\n",
    "\n",
    "# df = pd.json_normalize(json_blob)\n",
    "# df.columns\n",
    "len(sf_df)\n",
    "sf_df.to_csv('./data/processed/craigslist_sf_ev_sample.csv', index=False)"
   ]
  },
  {
   "cell_type": "markdown",
   "id": "9f36c67f-d707-4b1f-a555-3a5029915aa3",
   "metadata": {},
   "source": [
    "### generate report"
   ]
  },
  {
   "cell_type": "code",
   "execution_count": 120,
   "id": "11afdc6e-3c7f-40f4-9e1e-335da7d32834",
   "metadata": {
    "tags": []
   },
   "outputs": [
    {
     "name": "stderr",
     "output_type": "stream",
     "text": [
      "Summarize dataset: 100%|█████████████| 56/56 [00:21<00:00,  2.59it/s, Completed]\n",
      "Generate report structure: 100%|██████████████████| 1/1 [00:04<00:00,  4.18s/it]\n",
      "Render HTML: 100%|████████████████████████████████| 1/1 [00:02<00:00,  2.03s/it]\n",
      "Export report to file: 100%|█████████████████████| 1/1 [00:00<00:00, 154.42it/s]\n"
     ]
    }
   ],
   "source": [
    "date = datetime.today().strftime('%Y_%m_%d')\n",
    "city='lansing'\n",
    "\n",
    "profile = ProfileReport(df.iloc[:,:20], title=\"Profiling Report\")\n",
    "profile.to_file(f'./reports/{date}_{city}_report.html')"
   ]
  },
  {
   "cell_type": "code",
   "execution_count": 122,
   "id": "e47677d7-0841-43c9-8ab3-a5baf5a18d41",
   "metadata": {
    "tags": []
   },
   "outputs": [],
   "source": [
    "#df.iloc[:,:20]"
   ]
  },
  {
   "cell_type": "code",
   "execution_count": null,
   "id": "a3517df2-7d45-47b2-8183-e5a445ed7ff8",
   "metadata": {},
   "outputs": [],
   "source": []
  }
 ],
 "metadata": {
  "kernelspec": {
   "display_name": "Python 3 (ipykernel)",
   "language": "python",
   "name": "python3"
  },
  "language_info": {
   "codemirror_mode": {
    "name": "ipython",
    "version": 3
   },
   "file_extension": ".py",
   "mimetype": "text/x-python",
   "name": "python",
   "nbconvert_exporter": "python",
   "pygments_lexer": "ipython3",
   "version": "3.11.4"
  }
 },
 "nbformat": 4,
 "nbformat_minor": 5
}
