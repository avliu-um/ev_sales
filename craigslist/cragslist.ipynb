{
 "cells": [
  {
   "cell_type": "markdown",
   "id": "8d763399-3b36-433f-82ae-d8f5de79813f",
   "metadata": {},
   "source": [
    "# Cragslist Platform Notes"
   ]
  },
  {
   "cell_type": "markdown",
   "id": "fa723bcc-707f-4dfe-afb2-09c1d9a18504",
   "metadata": {
    "tags": []
   },
   "source": [
    "### get_links()"
   ]
  },
  {
   "cell_type": "markdown",
   "id": "31f28e4f-2673-4d06-ae2a-2c12352b0b88",
   "metadata": {},
   "source": [
    "`lansing`\n",
    "- https://lansing.craigslist.org/search/cta?postal=48933&search_distance=200#search=1~gallery~0~0\n",
    "\n",
    "- https://lansing.craigslist.org/search/cta?postal=48933&search_distance=200#search=1~gallery~1~0\n",
    "\n",
    "`UP`\n",
    "- https://up.craigslist.org/search/cta?postal=49855&search_distance=200"
   ]
  },
  {
   "cell_type": "markdown",
   "id": "71ed6505-00b4-4589-91b5-3640577281ca",
   "metadata": {},
   "source": [
    "other useful paramaters\n",
    "- `bundleDuplicates`\n",
    "- `postedToday` - might be tricky if it's not 24 hour based, crawl all and filter at the moment\n",
    "- `purveyor` - capturing in get_data() to save a listing call"
   ]
  },
  {
   "cell_type": "markdown",
   "id": "5f2b53c2-1ca8-4dbd-9642-1d2a2a014166",
   "metadata": {},
   "source": [
    "- https://lansing.craigslist.org/search/cta?auto_fuel_type=1&auto_fuel_type=2&auto_fuel_type=3&auto_fuel_type=4&bundleDuplicates=1&postal=48933&postedToday=1&purveyor=dealer&search_distance=200#search=1~gallery~0~0"
   ]
  },
  {
   "cell_type": "code",
   "execution_count": 1,
   "id": "82858c8b-58cb-42fa-bdb8-b8b8fc5ffa08",
   "metadata": {
    "tags": []
   },
   "outputs": [],
   "source": [
    "from util import get_soup\n",
    "from datetime import datetime\n",
    "import requests\n",
    "from bs4 import BeautifulSoup\n",
    "import csv\n",
    "\n",
    "\n",
    "def get_links(date, city, zip_code, radius, max_page, ev=False):\n",
    "    \n",
    "    output_file = f'./data/{date}_{city}_links_p{max_page}.csv'\n",
    "    with open(output_file, 'w') as f:\n",
    "        wtr = csv.writer(f)\n",
    "        wtr.writerow(('url', 'title'))\n",
    "\n",
    "        for page in range(max_page):\n",
    "            if ev:\n",
    "                url = f'https://{city}.craigslist.org/search/cta?auto_fuel_type=4&bundleDuplicates=1' \\\n",
    "                      f'&postal={zip_code}&search_distance={radius}#search=1~gallery~{page}~0'\n",
    "            else:\n",
    "                url = f'https://{city}.craigslist.org/search/cta?bundleDuplicates=1' \\\n",
    "                      f'&postal={zip_code}&search_distance={radius}#search=1~gallery~{page}~0'\n",
    "\n",
    "            #soup = get_soup(url)\n",
    "            data_res = requests.get(url) \n",
    "            if data_res.status_code != 200:\n",
    "                print(f'request failed: {data_res.reason}')\n",
    "                # ADD SAVING FAILED SOUP\n",
    "            else:\n",
    "                #print(f'html retrieved: {url}')\n",
    "                soup = BeautifulSoup(data_res.content, 'html.parser')\n",
    "\n",
    "                cars_css = 'li[class=\"cl-static-search-result\"] a'\n",
    "                cars = soup.select(cars_css) \n",
    "                if cars != []:\n",
    "                    #print(cars[:2])\n",
    "                    buffer = [(car.get('href'), car.select_one('div.title').text) for car in cars]    #### MAKE SET   \n",
    "                    wtr.writerows(buffer)\n",
    "                    print(f'page {page}: {len(buffer)} links added to {output_file}')\n",
    "                else:\n",
    "                    print(f'ERROR: css element for car postings {cars_css} is not captured')\n",
    "            \n",
    "                print(f'finished writing {output_file}')\n",
    "    \n"
   ]
  },
  {
   "cell_type": "markdown",
   "id": "589760b3-344c-4f73-a59a-f62e4371b79e",
   "metadata": {
    "tags": []
   },
   "source": [
    "### get_data()"
   ]
  },
  {
   "cell_type": "code",
   "execution_count": 2,
   "id": "0c78dcba-ce08-4805-874d-e6c00cf726c3",
   "metadata": {
    "tags": []
   },
   "outputs": [],
   "source": [
    "import json\n",
    "import pandas as pd\n",
    "from util import get_soup, get_soup_text, append_to_json\n",
    "import traceback\n",
    "import re\n",
    "\n",
    "# Parse a sales link for the data we require\n",
    "def get_sales_data(link):\n",
    "    soup = get_soup(link)\n",
    "    \n",
    "    info = {}\n",
    "    # adding post metadata - id, timestamp, expire time\n",
    "    id_css = 'div[class=\"postinginfos\"] p[class=\"postinginfo\"]'\n",
    "    info['post_id'] = soup.select_one(id_css).text.split(': ')[1]\n",
    "\n",
    "    \n",
    "    info['post_datetime'] = soup.time.get('datetime')\n",
    "    try:\n",
    "        info['post_expire'] = soup.head.find('meta', {'name': 'robots'}).get('content').split(': ')[1]\n",
    "    except:\n",
    "        # save page source ---- TO DO\n",
    "        print(link)\n",
    "        print(soup.head.find('meta', {'name': 'robots'}).get('content'))\n",
    "    \n",
    "    # get listing attributes\n",
    "    info_list = get_soup_text(soup, 'div[class=mapAndAttrs] p[class=attrgroup] span')\n",
    "    for item in info_list:\n",
    "        sep_idx = item.find(':')\n",
    "        if sep_idx > 0:\n",
    "            info[item[:sep_idx].strip()] = item[sep_idx+1:].strip()\n",
    "        else:\n",
    "            if 'other' in info.keys():\n",
    "                info['other'] += f'|{item}'\n",
    "            else:\n",
    "                info['other'] = item\n",
    "                \n",
    "    \n",
    "    # adding price, listing geo attributes\n",
    "    json_css = 'script[id=\"ld_posting_data\"]'\n",
    "    data = soup.select_one(json_css)\n",
    "    if data is not None:\n",
    "        info.update(json.loads(data.get_text(strip=True)))\n",
    "        \n",
    "    # adding seller type\n",
    "    purveyor_css = 'li[class=\"crumb section\"] a'\n",
    "    text = soup.select_one(purveyor_css).get_text()\n",
    "    if text is not None:\n",
    "        info['seller_type'] = text.split(' ')[-1]\n",
    "    \n",
    "\n",
    "    # adding saler free-form text and url\n",
    "    body_css = 'section[id=\"postingbody\"]'\n",
    "    text = soup.select_one(body_css).get_text()\n",
    "    if text is not None:\n",
    "        info['seller_notes'] = re.sub('[\\\\n]+', ' ', text).strip()\n",
    "\n",
    "    info['url'] = link\n",
    "    \n",
    "    ### LOGIC FOR SAVING FAILED HTML\n",
    "\n",
    "    return info"
   ]
  },
  {
   "cell_type": "code",
   "execution_count": null,
   "id": "95cd7949-c272-41d2-87cc-6111ec33f1fc",
   "metadata": {},
   "outputs": [],
   "source": []
  },
  {
   "cell_type": "markdown",
   "id": "b374d0da-ce44-4938-97df-a2f908d63690",
   "metadata": {},
   "source": [
    "## Runs"
   ]
  },
  {
   "cell_type": "markdown",
   "id": "62edbde5-a982-4af6-8221-0e8021254d27",
   "metadata": {},
   "source": [
    "### US runs"
   ]
  },
  {
   "cell_type": "code",
   "execution_count": 3,
   "id": "6efaf809-2e19-4ae0-b39c-7468b6267528",
   "metadata": {
    "tags": []
   },
   "outputs": [
    {
     "name": "stdout",
     "output_type": "stream",
     "text": [
      "page 0: 15 links added to ./data/2023_09_25_southbend_links_p1.csv\n",
      "finished writing ./data/2023_09_25_southbend_links_p1.csv\n",
      "page 0: 284 links added to ./data/2023_09_25_sfbay_links_p1.csv\n",
      "finished writing ./data/2023_09_25_sfbay_links_p1.csv\n"
     ]
    }
   ],
   "source": [
    "# config\n",
    "\n",
    "city_dict = {'southbend': {'zip': 48226,\n",
    "                         'max_page':1,\n",
    "                         'radius': 50\n",
    "                        },\n",
    "              'sfbay': {'zip': 94103,\n",
    "                     'max_page':1,\n",
    "                     'radius': 50\n",
    "                    }\n",
    "            }\n",
    "\n",
    "date = datetime.today().strftime('%Y_%m_%d')\n",
    "    \n",
    "for city, info in city_dict.items():\n",
    "    get_links(date, city, info['zip'], info['radius'], info['max_page'], ev=True)"
   ]
  },
  {
   "cell_type": "code",
   "execution_count": 5,
   "id": "731a1496-fd23-4116-a01f-efe5190c6a55",
   "metadata": {
    "tags": []
   },
   "outputs": [
    {
     "name": "stdout",
     "output_type": "stream",
     "text": [
      "https://sfbay.craigslist.org/eby/ctd/d/oakland-2015-nissan-leaf-electric/7668836564.html\n",
      "noindex\n",
      "https://sfbay.craigslist.org/eby/ctd/d/albany-2017-fiat-500e-gray-black-loaded/7667537991.html\n",
      "noindex\n",
      "https://sfbay.craigslist.org/eby/ctd/d/albany-2013-nissan-leaf-silver-black/7667537423.html\n",
      "noindex\n",
      "https://sfbay.craigslist.org/eby/ctd/d/albany-2010-tesla-roadster-sport-30/7667537381.html\n",
      "noindex\n",
      "https://sfbay.craigslist.org/eby/ctd/d/albany-2015-ford-focus-electric/7667534217.html\n",
      "noindex\n",
      "https://sfbay.craigslist.org/eby/ctd/d/concord-used-2021-ford-mustang-mach/7667304071.html\n",
      "noindex\n",
      "https://sfbay.craigslist.org/eby/ctd/d/albany-2017-nissan-leaf-white-black/7667090953.html\n",
      "noindex\n",
      "https://sfbay.craigslist.org/sby/ctd/d/san-jose-nissan-leaf-ev-33k-very-low/7666712519.html\n",
      "noindex\n",
      "https://sfbay.craigslist.org/eby/ctd/d/oakland-2021-audi-tron-awd-all-wheel/7666619656.html\n",
      "noindex\n",
      "https://sfbay.craigslist.org/eby/ctd/d/albany-2016-nissan-leaf-black-black-58k/7665741886.html\n",
      "noindex\n",
      "\n",
      "done!\n"
     ]
    }
   ],
   "source": [
    "all_item_links = pd.read_csv('./data/2023_09_25_sfbay_links_p1.csv', \n",
    "                             usecols=['url']\n",
    "                            )\n",
    "\n",
    "for item_link in all_item_links.url:\n",
    "    try:\n",
    "        data_dict = get_sales_data(item_link)\n",
    "        #print(f'data: {data_dict}')\n",
    "        append_to_json(f'data/{date}_sfbay_data.json', data_dict)      # maybe get sales check post date or only new links from day before?\n",
    "    except Exception as e:\n",
    "        print(f'{item_link} failed')\n",
    "        traceback.print_exc()\n",
    "        print(e)\n",
    "\n",
    "print('\\ndone!')"
   ]
  },
  {
   "cell_type": "code",
   "execution_count": 6,
   "id": "a14e0ce5-0cf3-488c-82f5-0dce715000e6",
   "metadata": {
    "tags": []
   },
   "outputs": [
    {
     "name": "stdout",
     "output_type": "stream",
     "text": [
      "https://detroit.craigslist.org/wyn/ctd/d/redford-2018-tesla-75d-super-clean-must/7668580125.html\n",
      "noindex\n",
      "https://detroit.craigslist.org/wyn/ctd/d/redford-2021-tesla-plus-standard-range/7664123923.html\n",
      "noindex\n",
      "\n",
      "done!\n"
     ]
    }
   ],
   "source": [
    "all_item_links = pd.read_csv('./data/2023_09_25_southbend_links_p1.csv', \n",
    "                             usecols=['url']\n",
    "                            )\n",
    "\n",
    "for item_link in all_item_links.url:\n",
    "    try:\n",
    "        data_dict = get_sales_data(item_link)\n",
    "        #print(f'data: {data_dict}')\n",
    "        append_to_json(f'data/{date}_detriot_data.json', data_dict)      # maybe get sales check post date or only new links from day before?\n",
    "    except Exception as e:\n",
    "        print(f'{item_link} failed')\n",
    "        traceback.print_exc()\n",
    "        print(e)\n",
    "\n",
    "print('\\ndone!')"
   ]
  },
  {
   "cell_type": "markdown",
   "id": "a317e371-63db-45fb-a04d-65b913f54415",
   "metadata": {
    "jp-MarkdownHeadingCollapsed": true,
    "tags": []
   },
   "source": [
    "### US run 1"
   ]
  },
  {
   "cell_type": "code",
   "execution_count": 7,
   "id": "3ee32c6a-8dd0-43a8-93d6-92cd56fb4837",
   "metadata": {
    "tags": []
   },
   "outputs": [
    {
     "name": "stdout",
     "output_type": "stream",
     "text": [
      "page 0: 325 links added to ./data/2023_08_20_southbend_links_p1.csv\n",
      "finished writing ./data/2023_08_20_southbend_links_p1.csv\n",
      "page 0: 357 links added to ./data/2023_08_20_sfbay_links_p1.csv\n",
      "finished writing ./data/2023_08_20_sfbay_links_p1.csv\n"
     ]
    }
   ],
   "source": [
    "# config\n",
    "\n",
    "city_dict = {'southbend': {'zip': 48226,\n",
    "                         'max_page':1,\n",
    "                         'radius': 50\n",
    "                        },\n",
    "              'sfbay': {'zip': 94103,\n",
    "                     'max_page':1,\n",
    "                     'radius': 50\n",
    "                    }\n",
    "            }\n",
    "\n",
    "date = datetime.today().strftime('%Y_%m_%d')\n",
    "    \n",
    "for city, info in city_dict.items():\n",
    "    get_links(date, city, info['zip'], info['radius'], info['max_page'])"
   ]
  },
  {
   "cell_type": "code",
   "execution_count": 12,
   "id": "ef71eb43-f00e-41ef-8d71-229f4aa397de",
   "metadata": {
    "tags": []
   },
   "outputs": [
    {
     "name": "stdout",
     "output_type": "stream",
     "text": [
      "https://detroit.craigslist.org/wyn/cto/d/detroit-06-chevy-trailblazer-lt-suv-4x4/7656800612.html failed\n",
      "list index out of range\n"
     ]
    },
    {
     "name": "stderr",
     "output_type": "stream",
     "text": [
      "Traceback (most recent call last):\n",
      "  File \"/var/folders/0d/dxss4k9j18j9pg4ythbk89y40000gn/T/ipykernel_46693/1502061816.py\", line 7, in <module>\n",
      "    data_dict = get_sales_data(item_link)\n",
      "                ^^^^^^^^^^^^^^^^^^^^^^^^^\n",
      "  File \"/var/folders/0d/dxss4k9j18j9pg4ythbk89y40000gn/T/ipykernel_46693/3195065662.py\", line 17, in get_sales_data\n",
      "    info['post_expire'] = soup.head.find('meta', {'name': 'robots'}).get('content').split(': ')[1]\n",
      "                          ~~~~~~~~~~~~~~~~~~~~~~~~~~~~~~~~~~~~~~~~~~~~~~~~~~~~~~~~~~~~~~~~~~~~~^^^\n",
      "IndexError: list index out of range\n"
     ]
    },
    {
     "name": "stdout",
     "output_type": "stream",
     "text": [
      "https://detroit.craigslist.org/wyn/ctd/d/redford-2021-chevrolet-equinox-lt-super/7656662867.html failed\n",
      "list index out of range\n"
     ]
    },
    {
     "name": "stderr",
     "output_type": "stream",
     "text": [
      "Traceback (most recent call last):\n",
      "  File \"/var/folders/0d/dxss4k9j18j9pg4ythbk89y40000gn/T/ipykernel_46693/1502061816.py\", line 7, in <module>\n",
      "    data_dict = get_sales_data(item_link)\n",
      "                ^^^^^^^^^^^^^^^^^^^^^^^^^\n",
      "  File \"/var/folders/0d/dxss4k9j18j9pg4ythbk89y40000gn/T/ipykernel_46693/3195065662.py\", line 17, in get_sales_data\n",
      "    info['post_expire'] = soup.head.find('meta', {'name': 'robots'}).get('content').split(': ')[1]\n",
      "                          ~~~~~~~~~~~~~~~~~~~~~~~~~~~~~~~~~~~~~~~~~~~~~~~~~~~~~~~~~~~~~~~~~~~~~^^^\n",
      "IndexError: list index out of range\n"
     ]
    },
    {
     "name": "stdout",
     "output_type": "stream",
     "text": [
      "https://detroit.craigslist.org/wyn/ctd/d/redford-2019-gmc-terrain-slt-super/7656657568.html failed\n",
      "list index out of range\n"
     ]
    },
    {
     "name": "stderr",
     "output_type": "stream",
     "text": [
      "Traceback (most recent call last):\n",
      "  File \"/var/folders/0d/dxss4k9j18j9pg4ythbk89y40000gn/T/ipykernel_46693/1502061816.py\", line 7, in <module>\n",
      "    data_dict = get_sales_data(item_link)\n",
      "                ^^^^^^^^^^^^^^^^^^^^^^^^^\n",
      "  File \"/var/folders/0d/dxss4k9j18j9pg4ythbk89y40000gn/T/ipykernel_46693/3195065662.py\", line 17, in get_sales_data\n",
      "    info['post_expire'] = soup.head.find('meta', {'name': 'robots'}).get('content').split(': ')[1]\n",
      "                          ~~~~~~~~~~~~~~~~~~~~~~~~~~~~~~~~~~~~~~~~~~~~~~~~~~~~~~~~~~~~~~~~~~~~~^^^\n",
      "IndexError: list index out of range\n"
     ]
    },
    {
     "name": "stdout",
     "output_type": "stream",
     "text": [
      "https://detroit.craigslist.org/wyn/ctd/d/redford-2020-tesla-long-range-super/7656655132.html failed\n",
      "list index out of range\n"
     ]
    },
    {
     "name": "stderr",
     "output_type": "stream",
     "text": [
      "Traceback (most recent call last):\n",
      "  File \"/var/folders/0d/dxss4k9j18j9pg4ythbk89y40000gn/T/ipykernel_46693/1502061816.py\", line 7, in <module>\n",
      "    data_dict = get_sales_data(item_link)\n",
      "                ^^^^^^^^^^^^^^^^^^^^^^^^^\n",
      "  File \"/var/folders/0d/dxss4k9j18j9pg4ythbk89y40000gn/T/ipykernel_46693/3195065662.py\", line 17, in get_sales_data\n",
      "    info['post_expire'] = soup.head.find('meta', {'name': 'robots'}).get('content').split(': ')[1]\n",
      "                          ~~~~~~~~~~~~~~~~~~~~~~~~~~~~~~~~~~~~~~~~~~~~~~~~~~~~~~~~~~~~~~~~~~~~~^^^\n",
      "IndexError: list index out of range\n"
     ]
    },
    {
     "name": "stdout",
     "output_type": "stream",
     "text": [
      "https://detroit.craigslist.org/wyn/ctd/d/redford-2012-ford-edge-limited-super/7656653104.html failed\n",
      "list index out of range\n"
     ]
    },
    {
     "name": "stderr",
     "output_type": "stream",
     "text": [
      "Traceback (most recent call last):\n",
      "  File \"/var/folders/0d/dxss4k9j18j9pg4ythbk89y40000gn/T/ipykernel_46693/1502061816.py\", line 7, in <module>\n",
      "    data_dict = get_sales_data(item_link)\n",
      "                ^^^^^^^^^^^^^^^^^^^^^^^^^\n",
      "  File \"/var/folders/0d/dxss4k9j18j9pg4ythbk89y40000gn/T/ipykernel_46693/3195065662.py\", line 17, in get_sales_data\n",
      "    info['post_expire'] = soup.head.find('meta', {'name': 'robots'}).get('content').split(': ')[1]\n",
      "                          ~~~~~~~~~~~~~~~~~~~~~~~~~~~~~~~~~~~~~~~~~~~~~~~~~~~~~~~~~~~~~~~~~~~~~^^^\n",
      "IndexError: list index out of range\n"
     ]
    },
    {
     "name": "stdout",
     "output_type": "stream",
     "text": [
      "https://detroit.craigslist.org/wyn/ctd/d/redford-2021-ram-1500-big-horn-super/7656650273.html failed\n",
      "list index out of range\n"
     ]
    },
    {
     "name": "stderr",
     "output_type": "stream",
     "text": [
      "Traceback (most recent call last):\n",
      "  File \"/var/folders/0d/dxss4k9j18j9pg4ythbk89y40000gn/T/ipykernel_46693/1502061816.py\", line 7, in <module>\n",
      "    data_dict = get_sales_data(item_link)\n",
      "                ^^^^^^^^^^^^^^^^^^^^^^^^^\n",
      "  File \"/var/folders/0d/dxss4k9j18j9pg4ythbk89y40000gn/T/ipykernel_46693/3195065662.py\", line 17, in get_sales_data\n",
      "    info['post_expire'] = soup.head.find('meta', {'name': 'robots'}).get('content').split(': ')[1]\n",
      "                          ~~~~~~~~~~~~~~~~~~~~~~~~~~~~~~~~~~~~~~~~~~~~~~~~~~~~~~~~~~~~~~~~~~~~~^^^\n",
      "IndexError: list index out of range\n"
     ]
    },
    {
     "name": "stdout",
     "output_type": "stream",
     "text": [
      "\n",
      "done!\n"
     ]
    }
   ],
   "source": [
    "all_item_links = pd.read_csv('./data/2023_08_20_southbend_links_p1.csv', \n",
    "                             usecols=['url']\n",
    "                            )\n",
    "\n",
    "for item_link in all_item_links.url:\n",
    "    try:\n",
    "        data_dict = get_sales_data(item_link)\n",
    "        #print(f'data: {data_dict}')\n",
    "        append_to_json(f'data/{date}_detriot_data.json', data_dict)      # maybe get sales check post date or only new links from day before?\n",
    "    except Exception as e:\n",
    "        print(f'{item_link} failed')\n",
    "        traceback.print_exc()\n",
    "        print(e)\n",
    "\n",
    "print('\\ndone!')"
   ]
  },
  {
   "cell_type": "code",
   "execution_count": 11,
   "id": "1f396dd2-8bef-489f-81d4-31738c3b7862",
   "metadata": {
    "tags": []
   },
   "outputs": [
    {
     "name": "stdout",
     "output_type": "stream",
     "text": [
      "https://sfbay.craigslist.org/sby/ctd/d/santa-clara-2017-ford-mustang-gt/7657063577.html failed\n",
      "list index out of range\n"
     ]
    },
    {
     "name": "stderr",
     "output_type": "stream",
     "text": [
      "Traceback (most recent call last):\n",
      "  File \"/var/folders/0d/dxss4k9j18j9pg4ythbk89y40000gn/T/ipykernel_46693/3319604147.py\", line 7, in <module>\n",
      "    data_dict = get_sales_data(item_link)\n",
      "                ^^^^^^^^^^^^^^^^^^^^^^^^^\n",
      "  File \"/var/folders/0d/dxss4k9j18j9pg4ythbk89y40000gn/T/ipykernel_46693/3195065662.py\", line 17, in get_sales_data\n",
      "    info['post_expire'] = soup.head.find('meta', {'name': 'robots'}).get('content').split(': ')[1]\n",
      "                          ~~~~~~~~~~~~~~~~~~~~~~~~~~~~~~~~~~~~~~~~~~~~~~~~~~~~~~~~~~~~~~~~~~~~~^^^\n",
      "IndexError: list index out of range\n"
     ]
    },
    {
     "name": "stdout",
     "output_type": "stream",
     "text": [
      "https://sfbay.craigslist.org/pen/ctd/d/san-mateo-2008-toyota-avalon-limited/7657055313.html failed\n",
      "list index out of range\n"
     ]
    },
    {
     "name": "stderr",
     "output_type": "stream",
     "text": [
      "Traceback (most recent call last):\n",
      "  File \"/var/folders/0d/dxss4k9j18j9pg4ythbk89y40000gn/T/ipykernel_46693/3319604147.py\", line 7, in <module>\n",
      "    data_dict = get_sales_data(item_link)\n",
      "                ^^^^^^^^^^^^^^^^^^^^^^^^^\n",
      "  File \"/var/folders/0d/dxss4k9j18j9pg4ythbk89y40000gn/T/ipykernel_46693/3195065662.py\", line 17, in get_sales_data\n",
      "    info['post_expire'] = soup.head.find('meta', {'name': 'robots'}).get('content').split(': ')[1]\n",
      "                          ~~~~~~~~~~~~~~~~~~~~~~~~~~~~~~~~~~~~~~~~~~~~~~~~~~~~~~~~~~~~~~~~~~~~~^^^\n",
      "IndexError: list index out of range\n"
     ]
    },
    {
     "name": "stdout",
     "output_type": "stream",
     "text": [
      "https://sfbay.craigslist.org/eby/ctd/d/fairfield-2002-lexus-sc430-luxury-sport/7656966828.html failed\n",
      "list index out of range\n"
     ]
    },
    {
     "name": "stderr",
     "output_type": "stream",
     "text": [
      "Traceback (most recent call last):\n",
      "  File \"/var/folders/0d/dxss4k9j18j9pg4ythbk89y40000gn/T/ipykernel_46693/3319604147.py\", line 7, in <module>\n",
      "    data_dict = get_sales_data(item_link)\n",
      "                ^^^^^^^^^^^^^^^^^^^^^^^^^\n",
      "  File \"/var/folders/0d/dxss4k9j18j9pg4ythbk89y40000gn/T/ipykernel_46693/3195065662.py\", line 17, in get_sales_data\n",
      "    info['post_expire'] = soup.head.find('meta', {'name': 'robots'}).get('content').split(': ')[1]\n",
      "                          ~~~~~~~~~~~~~~~~~~~~~~~~~~~~~~~~~~~~~~~~~~~~~~~~~~~~~~~~~~~~~~~~~~~~~^^^\n",
      "IndexError: list index out of range\n"
     ]
    },
    {
     "name": "stdout",
     "output_type": "stream",
     "text": [
      "https://sfbay.craigslist.org/sby/cto/d/san-jose-1964-cutlass-f85/7656959725.html failed\n",
      "list index out of range\n"
     ]
    },
    {
     "name": "stderr",
     "output_type": "stream",
     "text": [
      "Traceback (most recent call last):\n",
      "  File \"/var/folders/0d/dxss4k9j18j9pg4ythbk89y40000gn/T/ipykernel_46693/3319604147.py\", line 7, in <module>\n",
      "    data_dict = get_sales_data(item_link)\n",
      "                ^^^^^^^^^^^^^^^^^^^^^^^^^\n",
      "  File \"/var/folders/0d/dxss4k9j18j9pg4ythbk89y40000gn/T/ipykernel_46693/3195065662.py\", line 17, in get_sales_data\n",
      "    info['post_expire'] = soup.head.find('meta', {'name': 'robots'}).get('content').split(': ')[1]\n",
      "                          ~~~~~~~~~~~~~~~~~~~~~~~~~~~~~~~~~~~~~~~~~~~~~~~~~~~~~~~~~~~~~~~~~~~~~^^^\n",
      "IndexError: list index out of range\n"
     ]
    },
    {
     "name": "stdout",
     "output_type": "stream",
     "text": [
      "\n",
      "done!\n"
     ]
    }
   ],
   "source": [
    "all_item_links = pd.read_csv('./data/2023_08_20_sfbay_links_p1.csv', \n",
    "                             usecols=['url']\n",
    "                            )\n",
    "\n",
    "for item_link in all_item_links.url:\n",
    "    try:\n",
    "        data_dict = get_sales_data(item_link)\n",
    "        #print(f'data: {data_dict}')\n",
    "        append_to_json(f'data/{date}_sfbay_data.json', data_dict)      # maybe get sales check post date or only new links from day before?\n",
    "    except Exception as e:\n",
    "        print(f'{item_link} failed')\n",
    "        traceback.print_exc()\n",
    "        print(e)\n",
    "\n",
    "print('\\ndone!')"
   ]
  },
  {
   "cell_type": "markdown",
   "id": "764c91eb-6568-4fbd-ad70-15fbeda58fed",
   "metadata": {
    "tags": []
   },
   "source": [
    "### Lansing runs"
   ]
  },
  {
   "cell_type": "code",
   "execution_count": 28,
   "id": "ac60b97e-bcca-4a30-991a-50292c3c729d",
   "metadata": {
    "tags": []
   },
   "outputs": [],
   "source": [
    "# config\n",
    "\n",
    "city_dict = {'lansing': {'zip': 48933,\n",
    "                         'max_page':1\n",
    "                        },\n",
    "              'up': {'zip': 49855,\n",
    "                       'max_page':1\n",
    "                    }\n",
    "            }\n",
    "\n",
    "radius = 200\n",
    "\n",
    "date = datetime.today().strftime('%Y_%m_%d')\n",
    "    \n",
    "for city, info in city_dict.items():\n",
    "    get_links(date, city, info['zip'], radius, info['max_page'])"
   ]
  },
  {
   "cell_type": "code",
   "execution_count": 355,
   "id": "ca3c8c16-07ec-45e2-bb2b-c4ed2524de40",
   "metadata": {
    "tags": []
   },
   "outputs": [
    {
     "name": "stdout",
     "output_type": "stream",
     "text": [
      "https://chicago.craigslist.org/nch/ctd/d/kenilworth-1965-ford-thunderbird/7650101836.html failed\n",
      "'NoneType' object has no attribute 'get_text'\n"
     ]
    },
    {
     "name": "stderr",
     "output_type": "stream",
     "text": [
      "Traceback (most recent call last):\n",
      "  File \"/var/folders/0d/dxss4k9j18j9pg4ythbk89y40000gn/T/ipykernel_23206/3961468879.py\", line 7, in <module>\n",
      "    data_dict = get_sales_data(item_link)\n",
      "                ^^^^^^^^^^^^^^^^^^^^^^^^^\n",
      "  File \"/var/folders/0d/dxss4k9j18j9pg4ythbk89y40000gn/T/ipykernel_23206/273795941.py\", line 34, in get_sales_data\n",
      "    info.update(json.loads(data.get_text(strip=True)))\n",
      "                           ^^^^^^^^^^^^^\n",
      "AttributeError: 'NoneType' object has no attribute 'get_text'\n"
     ]
    },
    {
     "name": "stdout",
     "output_type": "stream",
     "text": [
      "https://chicago.craigslist.org/nch/ctd/d/libertyville-377-mo-ford-edge-titanium/7650020784.html failed\n",
      "'NoneType' object has no attribute 'get_text'\n"
     ]
    },
    {
     "name": "stderr",
     "output_type": "stream",
     "text": [
      "Traceback (most recent call last):\n",
      "  File \"/var/folders/0d/dxss4k9j18j9pg4ythbk89y40000gn/T/ipykernel_23206/3961468879.py\", line 7, in <module>\n",
      "    data_dict = get_sales_data(item_link)\n",
      "                ^^^^^^^^^^^^^^^^^^^^^^^^^\n",
      "  File \"/var/folders/0d/dxss4k9j18j9pg4ythbk89y40000gn/T/ipykernel_23206/273795941.py\", line 34, in get_sales_data\n",
      "    info.update(json.loads(data.get_text(strip=True)))\n",
      "                           ^^^^^^^^^^^^^\n",
      "AttributeError: 'NoneType' object has no attribute 'get_text'\n"
     ]
    },
    {
     "name": "stdout",
     "output_type": "stream",
     "text": [
      "https://chicago.craigslist.org/chc/cto/d/schaumburg-2013-volkswagen-jetta/7650000456.html failed\n",
      "list index out of range\n"
     ]
    },
    {
     "name": "stderr",
     "output_type": "stream",
     "text": [
      "Traceback (most recent call last):\n",
      "  File \"/var/folders/0d/dxss4k9j18j9pg4ythbk89y40000gn/T/ipykernel_23206/3961468879.py\", line 7, in <module>\n",
      "    data_dict = get_sales_data(item_link)\n",
      "                ^^^^^^^^^^^^^^^^^^^^^^^^^\n",
      "  File \"/var/folders/0d/dxss4k9j18j9pg4ythbk89y40000gn/T/ipykernel_23206/273795941.py\", line 16, in get_sales_data\n",
      "    info['post_expire'] = soup.head.find('meta', {'name': 'robots'}).get('content').split(': ')[1]\n",
      "                          ~~~~~~~~~~~~~~~~~~~~~~~~~~~~~~~~~~~~~~~~~~~~~~~~~~~~~~~~~~~~~~~~~~~~~^^^\n",
      "IndexError: list index out of range\n"
     ]
    },
    {
     "name": "stdout",
     "output_type": "stream",
     "text": [
      "https://monroemi.craigslist.org/ctd/d/highland-park-2017-dodge-grand-caravan/7649992995.html failed\n",
      "'NoneType' object has no attribute 'get_text'\n"
     ]
    },
    {
     "name": "stderr",
     "output_type": "stream",
     "text": [
      "Traceback (most recent call last):\n",
      "  File \"/var/folders/0d/dxss4k9j18j9pg4ythbk89y40000gn/T/ipykernel_23206/3961468879.py\", line 7, in <module>\n",
      "    data_dict = get_sales_data(item_link)\n",
      "                ^^^^^^^^^^^^^^^^^^^^^^^^^\n",
      "  File \"/var/folders/0d/dxss4k9j18j9pg4ythbk89y40000gn/T/ipykernel_23206/273795941.py\", line 34, in get_sales_data\n",
      "    info.update(json.loads(data.get_text(strip=True)))\n",
      "                           ^^^^^^^^^^^^^\n",
      "AttributeError: 'NoneType' object has no attribute 'get_text'\n"
     ]
    },
    {
     "name": "stdout",
     "output_type": "stream",
     "text": [
      "https://chicago.craigslist.org/nch/ctd/d/kenilworth-1965-ford-thunderbird/7650101836.html failed\n",
      "'NoneType' object has no attribute 'get_text'\n"
     ]
    },
    {
     "name": "stderr",
     "output_type": "stream",
     "text": [
      "Traceback (most recent call last):\n",
      "  File \"/var/folders/0d/dxss4k9j18j9pg4ythbk89y40000gn/T/ipykernel_23206/3961468879.py\", line 7, in <module>\n",
      "    data_dict = get_sales_data(item_link)\n",
      "                ^^^^^^^^^^^^^^^^^^^^^^^^^\n",
      "  File \"/var/folders/0d/dxss4k9j18j9pg4ythbk89y40000gn/T/ipykernel_23206/273795941.py\", line 34, in get_sales_data\n",
      "    info.update(json.loads(data.get_text(strip=True)))\n",
      "                           ^^^^^^^^^^^^^\n",
      "AttributeError: 'NoneType' object has no attribute 'get_text'\n"
     ]
    },
    {
     "name": "stdout",
     "output_type": "stream",
     "text": [
      "https://chicago.craigslist.org/nch/ctd/d/libertyville-377-mo-ford-edge-titanium/7650020784.html failed\n",
      "'NoneType' object has no attribute 'get_text'\n"
     ]
    },
    {
     "name": "stderr",
     "output_type": "stream",
     "text": [
      "Traceback (most recent call last):\n",
      "  File \"/var/folders/0d/dxss4k9j18j9pg4ythbk89y40000gn/T/ipykernel_23206/3961468879.py\", line 7, in <module>\n",
      "    data_dict = get_sales_data(item_link)\n",
      "                ^^^^^^^^^^^^^^^^^^^^^^^^^\n",
      "  File \"/var/folders/0d/dxss4k9j18j9pg4ythbk89y40000gn/T/ipykernel_23206/273795941.py\", line 34, in get_sales_data\n",
      "    info.update(json.loads(data.get_text(strip=True)))\n",
      "                           ^^^^^^^^^^^^^\n",
      "AttributeError: 'NoneType' object has no attribute 'get_text'\n"
     ]
    },
    {
     "name": "stdout",
     "output_type": "stream",
     "text": [
      "https://chicago.craigslist.org/chc/cto/d/schaumburg-2013-volkswagen-jetta/7650000456.html failed\n",
      "list index out of range\n"
     ]
    },
    {
     "name": "stderr",
     "output_type": "stream",
     "text": [
      "Traceback (most recent call last):\n",
      "  File \"/var/folders/0d/dxss4k9j18j9pg4ythbk89y40000gn/T/ipykernel_23206/3961468879.py\", line 7, in <module>\n",
      "    data_dict = get_sales_data(item_link)\n",
      "                ^^^^^^^^^^^^^^^^^^^^^^^^^\n",
      "  File \"/var/folders/0d/dxss4k9j18j9pg4ythbk89y40000gn/T/ipykernel_23206/273795941.py\", line 16, in get_sales_data\n",
      "    info['post_expire'] = soup.head.find('meta', {'name': 'robots'}).get('content').split(': ')[1]\n",
      "                          ~~~~~~~~~~~~~~~~~~~~~~~~~~~~~~~~~~~~~~~~~~~~~~~~~~~~~~~~~~~~~~~~~~~~~^^^\n",
      "IndexError: list index out of range\n"
     ]
    },
    {
     "name": "stdout",
     "output_type": "stream",
     "text": [
      "https://monroemi.craigslist.org/ctd/d/highland-park-2017-dodge-grand-caravan/7649992995.html failed\n",
      "'NoneType' object has no attribute 'get_text'\n"
     ]
    },
    {
     "name": "stderr",
     "output_type": "stream",
     "text": [
      "Traceback (most recent call last):\n",
      "  File \"/var/folders/0d/dxss4k9j18j9pg4ythbk89y40000gn/T/ipykernel_23206/3961468879.py\", line 7, in <module>\n",
      "    data_dict = get_sales_data(item_link)\n",
      "                ^^^^^^^^^^^^^^^^^^^^^^^^^\n",
      "  File \"/var/folders/0d/dxss4k9j18j9pg4ythbk89y40000gn/T/ipykernel_23206/273795941.py\", line 34, in get_sales_data\n",
      "    info.update(json.loads(data.get_text(strip=True)))\n",
      "                           ^^^^^^^^^^^^^\n",
      "AttributeError: 'NoneType' object has no attribute 'get_text'\n"
     ]
    },
    {
     "name": "stdout",
     "output_type": "stream",
     "text": [
      "https://chicago.craigslist.org/nch/ctd/d/kenilworth-1965-ford-thunderbird/7650101836.html failed\n",
      "'NoneType' object has no attribute 'get_text'\n"
     ]
    },
    {
     "name": "stderr",
     "output_type": "stream",
     "text": [
      "Traceback (most recent call last):\n",
      "  File \"/var/folders/0d/dxss4k9j18j9pg4ythbk89y40000gn/T/ipykernel_23206/3961468879.py\", line 7, in <module>\n",
      "    data_dict = get_sales_data(item_link)\n",
      "                ^^^^^^^^^^^^^^^^^^^^^^^^^\n",
      "  File \"/var/folders/0d/dxss4k9j18j9pg4ythbk89y40000gn/T/ipykernel_23206/273795941.py\", line 34, in get_sales_data\n",
      "    info.update(json.loads(data.get_text(strip=True)))\n",
      "                           ^^^^^^^^^^^^^\n",
      "AttributeError: 'NoneType' object has no attribute 'get_text'\n"
     ]
    },
    {
     "name": "stdout",
     "output_type": "stream",
     "text": [
      "https://chicago.craigslist.org/nch/ctd/d/libertyville-377-mo-ford-edge-titanium/7650020784.html failed\n",
      "'NoneType' object has no attribute 'get_text'\n"
     ]
    },
    {
     "name": "stderr",
     "output_type": "stream",
     "text": [
      "Traceback (most recent call last):\n",
      "  File \"/var/folders/0d/dxss4k9j18j9pg4ythbk89y40000gn/T/ipykernel_23206/3961468879.py\", line 7, in <module>\n",
      "    data_dict = get_sales_data(item_link)\n",
      "                ^^^^^^^^^^^^^^^^^^^^^^^^^\n",
      "  File \"/var/folders/0d/dxss4k9j18j9pg4ythbk89y40000gn/T/ipykernel_23206/273795941.py\", line 34, in get_sales_data\n",
      "    info.update(json.loads(data.get_text(strip=True)))\n",
      "                           ^^^^^^^^^^^^^\n",
      "AttributeError: 'NoneType' object has no attribute 'get_text'\n"
     ]
    },
    {
     "name": "stdout",
     "output_type": "stream",
     "text": [
      "https://chicago.craigslist.org/chc/cto/d/schaumburg-2013-volkswagen-jetta/7650000456.html failed\n",
      "list index out of range\n"
     ]
    },
    {
     "name": "stderr",
     "output_type": "stream",
     "text": [
      "Traceback (most recent call last):\n",
      "  File \"/var/folders/0d/dxss4k9j18j9pg4ythbk89y40000gn/T/ipykernel_23206/3961468879.py\", line 7, in <module>\n",
      "    data_dict = get_sales_data(item_link)\n",
      "                ^^^^^^^^^^^^^^^^^^^^^^^^^\n",
      "  File \"/var/folders/0d/dxss4k9j18j9pg4ythbk89y40000gn/T/ipykernel_23206/273795941.py\", line 16, in get_sales_data\n",
      "    info['post_expire'] = soup.head.find('meta', {'name': 'robots'}).get('content').split(': ')[1]\n",
      "                          ~~~~~~~~~~~~~~~~~~~~~~~~~~~~~~~~~~~~~~~~~~~~~~~~~~~~~~~~~~~~~~~~~~~~~^^^\n",
      "IndexError: list index out of range\n"
     ]
    },
    {
     "name": "stdout",
     "output_type": "stream",
     "text": [
      "https://monroemi.craigslist.org/ctd/d/highland-park-2017-dodge-grand-caravan/7649992995.html failed\n",
      "'NoneType' object has no attribute 'get_text'\n"
     ]
    },
    {
     "name": "stderr",
     "output_type": "stream",
     "text": [
      "Traceback (most recent call last):\n",
      "  File \"/var/folders/0d/dxss4k9j18j9pg4ythbk89y40000gn/T/ipykernel_23206/3961468879.py\", line 7, in <module>\n",
      "    data_dict = get_sales_data(item_link)\n",
      "                ^^^^^^^^^^^^^^^^^^^^^^^^^\n",
      "  File \"/var/folders/0d/dxss4k9j18j9pg4ythbk89y40000gn/T/ipykernel_23206/273795941.py\", line 34, in get_sales_data\n",
      "    info.update(json.loads(data.get_text(strip=True)))\n",
      "                           ^^^^^^^^^^^^^\n",
      "AttributeError: 'NoneType' object has no attribute 'get_text'\n"
     ]
    },
    {
     "name": "stdout",
     "output_type": "stream",
     "text": [
      "\n",
      "done!\n"
     ]
    }
   ],
   "source": [
    "all_item_links = pd.read_csv('./data/2023_08_01_lansing_links_p3.csv', \n",
    "                             usecols=['url']\n",
    "                            )\n",
    "\n",
    "for item_link in all_item_links.url:\n",
    "    try:\n",
    "        data_dict = get_sales_data(item_link)\n",
    "        #print(f'data: {data_dict}')\n",
    "        append_to_json(f'data/{date}_lansing_data.json', data_dict)      # maybe get sales check post date or only new links from day before?\n",
    "    except Exception as e:\n",
    "        print(f'{item_link} failed')\n",
    "        traceback.print_exc()\n",
    "        print(e)\n",
    "\n",
    "print('\\ndone!')"
   ]
  },
  {
   "cell_type": "markdown",
   "id": "ed9f131b-8fcb-42c1-a103-3d4a9d3e310b",
   "metadata": {
    "jp-MarkdownHeadingCollapsed": true,
    "tags": []
   },
   "source": [
    "### Pagination Testing"
   ]
  },
  {
   "cell_type": "code",
   "execution_count": 52,
   "id": "908c0310-097b-497a-bfca-1074baf10ada",
   "metadata": {
    "tags": []
   },
   "outputs": [],
   "source": [
    "def get_soup(url):\n",
    "    data_res = requests.get(url) \n",
    "    if data_res.status_code != 200:\n",
    "        print(f'request failed: {data_res.reason}')\n",
    "    else:\n",
    "        print(f'html retrieved: {url}')\n",
    "        soup = BeautifulSoup(data_res.content, 'html.parser')\n",
    "        return soup\n",
    "#soup"
   ]
  },
  {
   "cell_type": "code",
   "execution_count": 54,
   "id": "96e0394f-14b4-4146-a19b-c43241426c67",
   "metadata": {
    "tags": []
   },
   "outputs": [],
   "source": [
    "cars_css = 'li[class=\"cl-static-search-result\"] a'"
   ]
  },
  {
   "cell_type": "code",
   "execution_count": 62,
   "id": "46fb7ce9-bee6-4746-be47-03a6415b4f08",
   "metadata": {
    "tags": []
   },
   "outputs": [
    {
     "name": "stdout",
     "output_type": "stream",
     "text": [
      "html retrieved: https://lansing.craigslist.org/search/cta?bundleDuplicates=1&postal=48933&search_distance=200#search=1~list~1~0\n"
     ]
    },
    {
     "data": {
      "text/plain": [
       "[<a href=\"https://chicago.craigslist.org/wcl/cto/d/hines-2006-cadillac-dts/7652250157.html\">\n",
       " <div class=\"title\">2006 Cadillac DTS</div>\n",
       " <div class=\"details\">\n",
       " <div class=\"price\">$5,000</div>\n",
       " <div class=\"location\">\n",
       "                         Westchester\n",
       "                     </div>\n",
       " </div>\n",
       " </a>,\n",
       " <a href=\"https://cleveland.craigslist.org/cto/d/cleveland-1979-chevrolet-camaro/7652249578.html\">\n",
       " <div class=\"title\">1979 Chevrolet Camaro</div>\n",
       " <div class=\"details\">\n",
       " <div class=\"price\">$17,500</div>\n",
       " <div class=\"location\">\n",
       "                         Parma\n",
       "                     </div>\n",
       " </div>\n",
       " </a>]"
      ]
     },
     "execution_count": 62,
     "metadata": {},
     "output_type": "execute_result"
    }
   ],
   "source": [
    "url_1 = 'https://lansing.craigslist.org/search/cta?bundleDuplicates=1&postal=48933&search_distance=200#search=1~list~1~0'\n",
    "soup = get_soup(url_1)\n",
    "cars = soup.select(cars_css) \n",
    "cars[:2]"
   ]
  },
  {
   "cell_type": "code",
   "execution_count": 63,
   "id": "d4d4f911-dcd1-4564-847e-5ed2d544b396",
   "metadata": {
    "tags": []
   },
   "outputs": [
    {
     "name": "stdout",
     "output_type": "stream",
     "text": [
      "html retrieved: https://lansing.craigslist.org/search/cta?bundleDuplicates=1&postal=48933&search_distance=200#search=1~list~2~0\n"
     ]
    },
    {
     "data": {
      "text/plain": [
       "[<a href=\"https://chicago.craigslist.org/wcl/cto/d/hines-2006-cadillac-dts/7652250157.html\">\n",
       " <div class=\"title\">2006 Cadillac DTS</div>\n",
       " <div class=\"details\">\n",
       " <div class=\"price\">$5,000</div>\n",
       " <div class=\"location\">\n",
       "                         Westchester\n",
       "                     </div>\n",
       " </div>\n",
       " </a>,\n",
       " <a href=\"https://cleveland.craigslist.org/cto/d/cleveland-1979-chevrolet-camaro/7652249578.html\">\n",
       " <div class=\"title\">1979 Chevrolet Camaro</div>\n",
       " <div class=\"details\">\n",
       " <div class=\"price\">$17,500</div>\n",
       " <div class=\"location\">\n",
       "                         Parma\n",
       "                     </div>\n",
       " </div>\n",
       " </a>]"
      ]
     },
     "execution_count": 63,
     "metadata": {},
     "output_type": "execute_result"
    }
   ],
   "source": [
    "url_1 = 'https://lansing.craigslist.org/search/cta?bundleDuplicates=1&postal=48933&search_distance=200#search=1~list~2~0'\n",
    "soup = get_soup(url_1)\n",
    "cars = soup.select(cars_css) \n",
    "cars[:2]"
   ]
  },
  {
   "cell_type": "code",
   "execution_count": 61,
   "id": "463da680-31da-4c9b-a3f8-69207ba74dce",
   "metadata": {
    "tags": []
   },
   "outputs": [
    {
     "name": "stdout",
     "output_type": "stream",
     "text": [
      "html retrieved: https://lansing.craigslist.org/search/cta?bundleDuplicates=1&postal=48933&search_distance=200#search=1\n"
     ]
    },
    {
     "data": {
      "text/plain": [
       "[<a href=\"https://milwaukee.craigslist.org/ctd/d/milwaukee-2018-isuzu-npr-hd-16-box/7652239352.html\">\n",
       " <div class=\"title\">2018 Isuzu NPR HD 16 Box</div>\n",
       " <div class=\"details\">\n",
       " <div class=\"price\">$27,999</div>\n",
       " <div class=\"location\">\n",
       "                         Milwaukee\n",
       "                     </div>\n",
       " </div>\n",
       " </a>,\n",
       " <a href=\"https://detroit.craigslist.org/okl/cto/d/lincoln-park-jaguar/7652238832.html\">\n",
       " <div class=\"title\">Jaguar</div>\n",
       " <div class=\"details\">\n",
       " <div class=\"price\">$11,800</div>\n",
       " <div class=\"location\">\n",
       "                         Downriver\n",
       "                     </div>\n",
       " </div>\n",
       " </a>]"
      ]
     },
     "execution_count": 61,
     "metadata": {},
     "output_type": "execute_result"
    }
   ],
   "source": [
    "url_1 = 'https://lansing.craigslist.org/search/cta?bundleDuplicates=1&postal=48933&search_distance=200#search=1'\n",
    "soup = get_soup(url_1)\n",
    "cars = soup.select(cars_css) \n",
    "cars[:2]"
   ]
  },
  {
   "cell_type": "code",
   "execution_count": 49,
   "id": "679a2f84-4aca-44fa-b782-65973b229554",
   "metadata": {
    "tags": []
   },
   "outputs": [
    {
     "name": "stdout",
     "output_type": "stream",
     "text": [
      "html retrieved: https://lansing.craigslist.org/search/cta?bundleDuplicates=1&postal=48933&search_distance=200#search=1~gallery~0~0\n",
      "[<a href=\"https://chicago.craigslist.org/nwc/ctd/d/chicago-2022-nissan-altima-for-285-mo/7652233232.html\">\n",
      "<div class=\"title\">2022 Nissan Altima  for $285/mo BAD CREDIT &amp; NO MONEY DOWN</div>\n",
      "<div class=\"details\">\n",
      "<div class=\"price\">$285</div>\n",
      "<div class=\"location\">\n",
      "                        BAD CREDIT OK!\n",
      "                    </div>\n",
      "</div>\n",
      "</a>, <a href=\"https://chicago.craigslist.org/chc/cto/d/romeoville-2008-pontiac-torrent/7652232917.html\">\n",
      "<div class=\"title\">2008 Pontiac torrent</div>\n",
      "<div class=\"details\">\n",
      "<div class=\"price\">$3,400</div>\n",
      "<div class=\"location\">\n",
      "                        city of chicago\n",
      "                    </div>\n",
      "</div>\n",
      "</a>]\n",
      "page 0: 319 links added to ./data/2023_08_07_lansing_links_p3.csv\n",
      "finished writing ./data/2023_08_07_lansing_links_p3.csv\n",
      "html retrieved: https://lansing.craigslist.org/search/cta?bundleDuplicates=1&postal=48933&search_distance=200#search=1~gallery~1~0\n",
      "[<a href=\"https://chicago.craigslist.org/nwc/ctd/d/chicago-2022-nissan-altima-for-285-mo/7652233232.html\">\n",
      "<div class=\"title\">2022 Nissan Altima  for $285/mo BAD CREDIT &amp; NO MONEY DOWN</div>\n",
      "<div class=\"details\">\n",
      "<div class=\"price\">$285</div>\n",
      "<div class=\"location\">\n",
      "                        BAD CREDIT OK!\n",
      "                    </div>\n",
      "</div>\n",
      "</a>, <a href=\"https://chicago.craigslist.org/chc/cto/d/romeoville-2008-pontiac-torrent/7652232917.html\">\n",
      "<div class=\"title\">2008 Pontiac torrent</div>\n",
      "<div class=\"details\">\n",
      "<div class=\"price\">$3,400</div>\n",
      "<div class=\"location\">\n",
      "                        city of chicago\n",
      "                    </div>\n",
      "</div>\n",
      "</a>]\n",
      "page 1: 319 links added to ./data/2023_08_07_lansing_links_p3.csv\n",
      "finished writing ./data/2023_08_07_lansing_links_p3.csv\n"
     ]
    },
    {
     "ename": "KeyboardInterrupt",
     "evalue": "",
     "output_type": "error",
     "traceback": [
      "\u001b[0;31m---------------------------------------------------------------------------\u001b[0m",
      "\u001b[0;31mKeyboardInterrupt\u001b[0m                         Traceback (most recent call last)",
      "Cell \u001b[0;32mIn[49], line 4\u001b[0m\n\u001b[1;32m      1\u001b[0m date \u001b[38;5;241m=\u001b[39m datetime\u001b[38;5;241m.\u001b[39mtoday()\u001b[38;5;241m.\u001b[39mstrftime(\u001b[38;5;124m'\u001b[39m\u001b[38;5;124m%\u001b[39m\u001b[38;5;124mY_\u001b[39m\u001b[38;5;124m%\u001b[39m\u001b[38;5;124mm_\u001b[39m\u001b[38;5;132;01m%d\u001b[39;00m\u001b[38;5;124m'\u001b[39m)\n\u001b[1;32m      3\u001b[0m \u001b[38;5;28;01mfor\u001b[39;00m city, info \u001b[38;5;129;01min\u001b[39;00m city_dict\u001b[38;5;241m.\u001b[39mitems():\n\u001b[0;32m----> 4\u001b[0m     get_links(date, city, info[\u001b[38;5;124m'\u001b[39m\u001b[38;5;124mzip\u001b[39m\u001b[38;5;124m'\u001b[39m], radius, info[\u001b[38;5;124m'\u001b[39m\u001b[38;5;124mmax_page\u001b[39m\u001b[38;5;124m'\u001b[39m])\n",
      "Cell \u001b[0;32mIn[47], line 21\u001b[0m, in \u001b[0;36mget_links\u001b[0;34m(date, city, zip_code, radius, max_page)\u001b[0m\n\u001b[1;32m     16\u001b[0m url \u001b[38;5;241m=\u001b[39m \u001b[38;5;124mf\u001b[39m\u001b[38;5;124m'\u001b[39m\u001b[38;5;124mhttps://\u001b[39m\u001b[38;5;132;01m{\u001b[39;00mcity\u001b[38;5;132;01m}\u001b[39;00m\u001b[38;5;124m.craigslist.org/search/cta?bundleDuplicates=1\u001b[39m\u001b[38;5;124m'\u001b[39m \\\n\u001b[1;32m     17\u001b[0m       \u001b[38;5;124mf\u001b[39m\u001b[38;5;124m'\u001b[39m\u001b[38;5;124m&postal=\u001b[39m\u001b[38;5;132;01m{\u001b[39;00mzip_code\u001b[38;5;132;01m}\u001b[39;00m\u001b[38;5;124m&search_distance=\u001b[39m\u001b[38;5;132;01m{\u001b[39;00mradius\u001b[38;5;132;01m}\u001b[39;00m\u001b[38;5;124m#search=1~gallery~\u001b[39m\u001b[38;5;132;01m{\u001b[39;00mpage\u001b[38;5;132;01m}\u001b[39;00m\u001b[38;5;124m~0\u001b[39m\u001b[38;5;124m'\u001b[39m\n\u001b[1;32m     19\u001b[0m \u001b[38;5;66;03m#soup = get_soup(url)\u001b[39;00m\n\u001b[0;32m---> 21\u001b[0m data_res \u001b[38;5;241m=\u001b[39m requests\u001b[38;5;241m.\u001b[39mget(url) \n\u001b[1;32m     22\u001b[0m \u001b[38;5;28;01mif\u001b[39;00m data_res\u001b[38;5;241m.\u001b[39mstatus_code \u001b[38;5;241m!=\u001b[39m \u001b[38;5;241m200\u001b[39m:\n\u001b[1;32m     23\u001b[0m     \u001b[38;5;28mprint\u001b[39m(\u001b[38;5;124mf\u001b[39m\u001b[38;5;124m'\u001b[39m\u001b[38;5;124mrequest failed: \u001b[39m\u001b[38;5;132;01m{\u001b[39;00mdata_res\u001b[38;5;241m.\u001b[39mreason\u001b[38;5;132;01m}\u001b[39;00m\u001b[38;5;124m'\u001b[39m)\n",
      "File \u001b[0;32m/opt/anaconda3/envs/car_sales/lib/python3.11/site-packages/requests/api.py:73\u001b[0m, in \u001b[0;36mget\u001b[0;34m(url, params, **kwargs)\u001b[0m\n\u001b[1;32m     62\u001b[0m \u001b[38;5;28;01mdef\u001b[39;00m \u001b[38;5;21mget\u001b[39m(url, params\u001b[38;5;241m=\u001b[39m\u001b[38;5;28;01mNone\u001b[39;00m, \u001b[38;5;241m*\u001b[39m\u001b[38;5;241m*\u001b[39mkwargs):\n\u001b[1;32m     63\u001b[0m \u001b[38;5;250m    \u001b[39m\u001b[38;5;124mr\u001b[39m\u001b[38;5;124;03m\"\"\"Sends a GET request.\u001b[39;00m\n\u001b[1;32m     64\u001b[0m \n\u001b[1;32m     65\u001b[0m \u001b[38;5;124;03m    :param url: URL for the new :class:`Request` object.\u001b[39;00m\n\u001b[0;32m   (...)\u001b[0m\n\u001b[1;32m     70\u001b[0m \u001b[38;5;124;03m    :rtype: requests.Response\u001b[39;00m\n\u001b[1;32m     71\u001b[0m \u001b[38;5;124;03m    \"\"\"\u001b[39;00m\n\u001b[0;32m---> 73\u001b[0m     \u001b[38;5;28;01mreturn\u001b[39;00m request(\u001b[38;5;124m\"\u001b[39m\u001b[38;5;124mget\u001b[39m\u001b[38;5;124m\"\u001b[39m, url, params\u001b[38;5;241m=\u001b[39mparams, \u001b[38;5;241m*\u001b[39m\u001b[38;5;241m*\u001b[39mkwargs)\n",
      "File \u001b[0;32m/opt/anaconda3/envs/car_sales/lib/python3.11/site-packages/requests/api.py:59\u001b[0m, in \u001b[0;36mrequest\u001b[0;34m(method, url, **kwargs)\u001b[0m\n\u001b[1;32m     55\u001b[0m \u001b[38;5;66;03m# By using the 'with' statement we are sure the session is closed, thus we\u001b[39;00m\n\u001b[1;32m     56\u001b[0m \u001b[38;5;66;03m# avoid leaving sockets open which can trigger a ResourceWarning in some\u001b[39;00m\n\u001b[1;32m     57\u001b[0m \u001b[38;5;66;03m# cases, and look like a memory leak in others.\u001b[39;00m\n\u001b[1;32m     58\u001b[0m \u001b[38;5;28;01mwith\u001b[39;00m sessions\u001b[38;5;241m.\u001b[39mSession() \u001b[38;5;28;01mas\u001b[39;00m session:\n\u001b[0;32m---> 59\u001b[0m     \u001b[38;5;28;01mreturn\u001b[39;00m session\u001b[38;5;241m.\u001b[39mrequest(method\u001b[38;5;241m=\u001b[39mmethod, url\u001b[38;5;241m=\u001b[39murl, \u001b[38;5;241m*\u001b[39m\u001b[38;5;241m*\u001b[39mkwargs)\n",
      "File \u001b[0;32m/opt/anaconda3/envs/car_sales/lib/python3.11/site-packages/requests/sessions.py:587\u001b[0m, in \u001b[0;36mSession.request\u001b[0;34m(self, method, url, params, data, headers, cookies, files, auth, timeout, allow_redirects, proxies, hooks, stream, verify, cert, json)\u001b[0m\n\u001b[1;32m    582\u001b[0m send_kwargs \u001b[38;5;241m=\u001b[39m {\n\u001b[1;32m    583\u001b[0m     \u001b[38;5;124m\"\u001b[39m\u001b[38;5;124mtimeout\u001b[39m\u001b[38;5;124m\"\u001b[39m: timeout,\n\u001b[1;32m    584\u001b[0m     \u001b[38;5;124m\"\u001b[39m\u001b[38;5;124mallow_redirects\u001b[39m\u001b[38;5;124m\"\u001b[39m: allow_redirects,\n\u001b[1;32m    585\u001b[0m }\n\u001b[1;32m    586\u001b[0m send_kwargs\u001b[38;5;241m.\u001b[39mupdate(settings)\n\u001b[0;32m--> 587\u001b[0m resp \u001b[38;5;241m=\u001b[39m \u001b[38;5;28mself\u001b[39m\u001b[38;5;241m.\u001b[39msend(prep, \u001b[38;5;241m*\u001b[39m\u001b[38;5;241m*\u001b[39msend_kwargs)\n\u001b[1;32m    589\u001b[0m \u001b[38;5;28;01mreturn\u001b[39;00m resp\n",
      "File \u001b[0;32m/opt/anaconda3/envs/car_sales/lib/python3.11/site-packages/requests/sessions.py:745\u001b[0m, in \u001b[0;36mSession.send\u001b[0;34m(self, request, **kwargs)\u001b[0m\n\u001b[1;32m    742\u001b[0m         \u001b[38;5;28;01mpass\u001b[39;00m\n\u001b[1;32m    744\u001b[0m \u001b[38;5;28;01mif\u001b[39;00m \u001b[38;5;129;01mnot\u001b[39;00m stream:\n\u001b[0;32m--> 745\u001b[0m     r\u001b[38;5;241m.\u001b[39mcontent\n\u001b[1;32m    747\u001b[0m \u001b[38;5;28;01mreturn\u001b[39;00m r\n",
      "File \u001b[0;32m/opt/anaconda3/envs/car_sales/lib/python3.11/site-packages/requests/models.py:899\u001b[0m, in \u001b[0;36mResponse.content\u001b[0;34m(self)\u001b[0m\n\u001b[1;32m    897\u001b[0m         \u001b[38;5;28mself\u001b[39m\u001b[38;5;241m.\u001b[39m_content \u001b[38;5;241m=\u001b[39m \u001b[38;5;28;01mNone\u001b[39;00m\n\u001b[1;32m    898\u001b[0m     \u001b[38;5;28;01melse\u001b[39;00m:\n\u001b[0;32m--> 899\u001b[0m         \u001b[38;5;28mself\u001b[39m\u001b[38;5;241m.\u001b[39m_content \u001b[38;5;241m=\u001b[39m \u001b[38;5;124mb\u001b[39m\u001b[38;5;124m\"\u001b[39m\u001b[38;5;124m\"\u001b[39m\u001b[38;5;241m.\u001b[39mjoin(\u001b[38;5;28mself\u001b[39m\u001b[38;5;241m.\u001b[39miter_content(CONTENT_CHUNK_SIZE)) \u001b[38;5;129;01mor\u001b[39;00m \u001b[38;5;124mb\u001b[39m\u001b[38;5;124m\"\u001b[39m\u001b[38;5;124m\"\u001b[39m\n\u001b[1;32m    901\u001b[0m \u001b[38;5;28mself\u001b[39m\u001b[38;5;241m.\u001b[39m_content_consumed \u001b[38;5;241m=\u001b[39m \u001b[38;5;28;01mTrue\u001b[39;00m\n\u001b[1;32m    902\u001b[0m \u001b[38;5;66;03m# don't need to release the connection; that's been handled by urllib3\u001b[39;00m\n\u001b[1;32m    903\u001b[0m \u001b[38;5;66;03m# since we exhausted the data.\u001b[39;00m\n",
      "File \u001b[0;32m/opt/anaconda3/envs/car_sales/lib/python3.11/site-packages/requests/models.py:816\u001b[0m, in \u001b[0;36mResponse.iter_content.<locals>.generate\u001b[0;34m()\u001b[0m\n\u001b[1;32m    814\u001b[0m \u001b[38;5;28;01mif\u001b[39;00m \u001b[38;5;28mhasattr\u001b[39m(\u001b[38;5;28mself\u001b[39m\u001b[38;5;241m.\u001b[39mraw, \u001b[38;5;124m\"\u001b[39m\u001b[38;5;124mstream\u001b[39m\u001b[38;5;124m\"\u001b[39m):\n\u001b[1;32m    815\u001b[0m     \u001b[38;5;28;01mtry\u001b[39;00m:\n\u001b[0;32m--> 816\u001b[0m         \u001b[38;5;28;01myield from\u001b[39;00m \u001b[38;5;28mself\u001b[39m\u001b[38;5;241m.\u001b[39mraw\u001b[38;5;241m.\u001b[39mstream(chunk_size, decode_content\u001b[38;5;241m=\u001b[39m\u001b[38;5;28;01mTrue\u001b[39;00m)\n\u001b[1;32m    817\u001b[0m     \u001b[38;5;28;01mexcept\u001b[39;00m ProtocolError \u001b[38;5;28;01mas\u001b[39;00m e:\n\u001b[1;32m    818\u001b[0m         \u001b[38;5;28;01mraise\u001b[39;00m ChunkedEncodingError(e)\n",
      "File \u001b[0;32m/opt/anaconda3/envs/car_sales/lib/python3.11/site-packages/urllib3/response.py:628\u001b[0m, in \u001b[0;36mHTTPResponse.stream\u001b[0;34m(self, amt, decode_content)\u001b[0m\n\u001b[1;32m    626\u001b[0m \u001b[38;5;28;01melse\u001b[39;00m:\n\u001b[1;32m    627\u001b[0m     \u001b[38;5;28;01mwhile\u001b[39;00m \u001b[38;5;129;01mnot\u001b[39;00m is_fp_closed(\u001b[38;5;28mself\u001b[39m\u001b[38;5;241m.\u001b[39m_fp):\n\u001b[0;32m--> 628\u001b[0m         data \u001b[38;5;241m=\u001b[39m \u001b[38;5;28mself\u001b[39m\u001b[38;5;241m.\u001b[39mread(amt\u001b[38;5;241m=\u001b[39mamt, decode_content\u001b[38;5;241m=\u001b[39mdecode_content)\n\u001b[1;32m    630\u001b[0m         \u001b[38;5;28;01mif\u001b[39;00m data:\n\u001b[1;32m    631\u001b[0m             \u001b[38;5;28;01myield\u001b[39;00m data\n",
      "File \u001b[0;32m/opt/anaconda3/envs/car_sales/lib/python3.11/site-packages/urllib3/response.py:567\u001b[0m, in \u001b[0;36mHTTPResponse.read\u001b[0;34m(self, amt, decode_content, cache_content)\u001b[0m\n\u001b[1;32m    564\u001b[0m fp_closed \u001b[38;5;241m=\u001b[39m \u001b[38;5;28mgetattr\u001b[39m(\u001b[38;5;28mself\u001b[39m\u001b[38;5;241m.\u001b[39m_fp, \u001b[38;5;124m\"\u001b[39m\u001b[38;5;124mclosed\u001b[39m\u001b[38;5;124m\"\u001b[39m, \u001b[38;5;28;01mFalse\u001b[39;00m)\n\u001b[1;32m    566\u001b[0m \u001b[38;5;28;01mwith\u001b[39;00m \u001b[38;5;28mself\u001b[39m\u001b[38;5;241m.\u001b[39m_error_catcher():\n\u001b[0;32m--> 567\u001b[0m     data \u001b[38;5;241m=\u001b[39m \u001b[38;5;28mself\u001b[39m\u001b[38;5;241m.\u001b[39m_fp_read(amt) \u001b[38;5;28;01mif\u001b[39;00m \u001b[38;5;129;01mnot\u001b[39;00m fp_closed \u001b[38;5;28;01melse\u001b[39;00m \u001b[38;5;124mb\u001b[39m\u001b[38;5;124m\"\u001b[39m\u001b[38;5;124m\"\u001b[39m\n\u001b[1;32m    568\u001b[0m     \u001b[38;5;28;01mif\u001b[39;00m amt \u001b[38;5;129;01mis\u001b[39;00m \u001b[38;5;28;01mNone\u001b[39;00m:\n\u001b[1;32m    569\u001b[0m         flush_decoder \u001b[38;5;241m=\u001b[39m \u001b[38;5;28;01mTrue\u001b[39;00m\n",
      "File \u001b[0;32m/opt/anaconda3/envs/car_sales/lib/python3.11/site-packages/urllib3/response.py:533\u001b[0m, in \u001b[0;36mHTTPResponse._fp_read\u001b[0;34m(self, amt)\u001b[0m\n\u001b[1;32m    530\u001b[0m     \u001b[38;5;28;01mreturn\u001b[39;00m buffer\u001b[38;5;241m.\u001b[39mgetvalue()\n\u001b[1;32m    531\u001b[0m \u001b[38;5;28;01melse\u001b[39;00m:\n\u001b[1;32m    532\u001b[0m     \u001b[38;5;66;03m# StringIO doesn't like amt=None\u001b[39;00m\n\u001b[0;32m--> 533\u001b[0m     \u001b[38;5;28;01mreturn\u001b[39;00m \u001b[38;5;28mself\u001b[39m\u001b[38;5;241m.\u001b[39m_fp\u001b[38;5;241m.\u001b[39mread(amt) \u001b[38;5;28;01mif\u001b[39;00m amt \u001b[38;5;129;01mis\u001b[39;00m \u001b[38;5;129;01mnot\u001b[39;00m \u001b[38;5;28;01mNone\u001b[39;00m \u001b[38;5;28;01melse\u001b[39;00m \u001b[38;5;28mself\u001b[39m\u001b[38;5;241m.\u001b[39m_fp\u001b[38;5;241m.\u001b[39mread()\n",
      "File \u001b[0;32m/opt/anaconda3/envs/car_sales/lib/python3.11/http/client.py:466\u001b[0m, in \u001b[0;36mHTTPResponse.read\u001b[0;34m(self, amt)\u001b[0m\n\u001b[1;32m    463\u001b[0m \u001b[38;5;28;01mif\u001b[39;00m \u001b[38;5;28mself\u001b[39m\u001b[38;5;241m.\u001b[39mlength \u001b[38;5;129;01mis\u001b[39;00m \u001b[38;5;129;01mnot\u001b[39;00m \u001b[38;5;28;01mNone\u001b[39;00m \u001b[38;5;129;01mand\u001b[39;00m amt \u001b[38;5;241m>\u001b[39m \u001b[38;5;28mself\u001b[39m\u001b[38;5;241m.\u001b[39mlength:\n\u001b[1;32m    464\u001b[0m     \u001b[38;5;66;03m# clip the read to the \"end of response\"\u001b[39;00m\n\u001b[1;32m    465\u001b[0m     amt \u001b[38;5;241m=\u001b[39m \u001b[38;5;28mself\u001b[39m\u001b[38;5;241m.\u001b[39mlength\n\u001b[0;32m--> 466\u001b[0m s \u001b[38;5;241m=\u001b[39m \u001b[38;5;28mself\u001b[39m\u001b[38;5;241m.\u001b[39mfp\u001b[38;5;241m.\u001b[39mread(amt)\n\u001b[1;32m    467\u001b[0m \u001b[38;5;28;01mif\u001b[39;00m \u001b[38;5;129;01mnot\u001b[39;00m s \u001b[38;5;129;01mand\u001b[39;00m amt:\n\u001b[1;32m    468\u001b[0m     \u001b[38;5;66;03m# Ideally, we would raise IncompleteRead if the content-length\u001b[39;00m\n\u001b[1;32m    469\u001b[0m     \u001b[38;5;66;03m# wasn't satisfied, but it might break compatibility.\u001b[39;00m\n\u001b[1;32m    470\u001b[0m     \u001b[38;5;28mself\u001b[39m\u001b[38;5;241m.\u001b[39m_close_conn()\n",
      "File \u001b[0;32m/opt/anaconda3/envs/car_sales/lib/python3.11/socket.py:706\u001b[0m, in \u001b[0;36mSocketIO.readinto\u001b[0;34m(self, b)\u001b[0m\n\u001b[1;32m    704\u001b[0m \u001b[38;5;28;01mwhile\u001b[39;00m \u001b[38;5;28;01mTrue\u001b[39;00m:\n\u001b[1;32m    705\u001b[0m     \u001b[38;5;28;01mtry\u001b[39;00m:\n\u001b[0;32m--> 706\u001b[0m         \u001b[38;5;28;01mreturn\u001b[39;00m \u001b[38;5;28mself\u001b[39m\u001b[38;5;241m.\u001b[39m_sock\u001b[38;5;241m.\u001b[39mrecv_into(b)\n\u001b[1;32m    707\u001b[0m     \u001b[38;5;28;01mexcept\u001b[39;00m timeout:\n\u001b[1;32m    708\u001b[0m         \u001b[38;5;28mself\u001b[39m\u001b[38;5;241m.\u001b[39m_timeout_occurred \u001b[38;5;241m=\u001b[39m \u001b[38;5;28;01mTrue\u001b[39;00m\n",
      "File \u001b[0;32m/opt/anaconda3/envs/car_sales/lib/python3.11/ssl.py:1278\u001b[0m, in \u001b[0;36mSSLSocket.recv_into\u001b[0;34m(self, buffer, nbytes, flags)\u001b[0m\n\u001b[1;32m   1274\u001b[0m     \u001b[38;5;28;01mif\u001b[39;00m flags \u001b[38;5;241m!=\u001b[39m \u001b[38;5;241m0\u001b[39m:\n\u001b[1;32m   1275\u001b[0m         \u001b[38;5;28;01mraise\u001b[39;00m \u001b[38;5;167;01mValueError\u001b[39;00m(\n\u001b[1;32m   1276\u001b[0m           \u001b[38;5;124m\"\u001b[39m\u001b[38;5;124mnon-zero flags not allowed in calls to recv_into() on \u001b[39m\u001b[38;5;132;01m%s\u001b[39;00m\u001b[38;5;124m\"\u001b[39m \u001b[38;5;241m%\u001b[39m\n\u001b[1;32m   1277\u001b[0m           \u001b[38;5;28mself\u001b[39m\u001b[38;5;241m.\u001b[39m\u001b[38;5;18m__class__\u001b[39m)\n\u001b[0;32m-> 1278\u001b[0m     \u001b[38;5;28;01mreturn\u001b[39;00m \u001b[38;5;28mself\u001b[39m\u001b[38;5;241m.\u001b[39mread(nbytes, buffer)\n\u001b[1;32m   1279\u001b[0m \u001b[38;5;28;01melse\u001b[39;00m:\n\u001b[1;32m   1280\u001b[0m     \u001b[38;5;28;01mreturn\u001b[39;00m \u001b[38;5;28msuper\u001b[39m()\u001b[38;5;241m.\u001b[39mrecv_into(buffer, nbytes, flags)\n",
      "File \u001b[0;32m/opt/anaconda3/envs/car_sales/lib/python3.11/ssl.py:1134\u001b[0m, in \u001b[0;36mSSLSocket.read\u001b[0;34m(self, len, buffer)\u001b[0m\n\u001b[1;32m   1132\u001b[0m \u001b[38;5;28;01mtry\u001b[39;00m:\n\u001b[1;32m   1133\u001b[0m     \u001b[38;5;28;01mif\u001b[39;00m buffer \u001b[38;5;129;01mis\u001b[39;00m \u001b[38;5;129;01mnot\u001b[39;00m \u001b[38;5;28;01mNone\u001b[39;00m:\n\u001b[0;32m-> 1134\u001b[0m         \u001b[38;5;28;01mreturn\u001b[39;00m \u001b[38;5;28mself\u001b[39m\u001b[38;5;241m.\u001b[39m_sslobj\u001b[38;5;241m.\u001b[39mread(\u001b[38;5;28mlen\u001b[39m, buffer)\n\u001b[1;32m   1135\u001b[0m     \u001b[38;5;28;01melse\u001b[39;00m:\n\u001b[1;32m   1136\u001b[0m         \u001b[38;5;28;01mreturn\u001b[39;00m \u001b[38;5;28mself\u001b[39m\u001b[38;5;241m.\u001b[39m_sslobj\u001b[38;5;241m.\u001b[39mread(\u001b[38;5;28mlen\u001b[39m)\n",
      "\u001b[0;31mKeyboardInterrupt\u001b[0m: "
     ]
    }
   ],
   "source": [
    "date = datetime.today().strftime('%Y_%m_%d')\n",
    "    \n",
    "for city, info in city_dict.items():\n",
    "    get_links(date, city, info['zip'], radius, info['max_page'])"
   ]
  },
  {
   "cell_type": "markdown",
   "id": "2039566d-dfa6-43db-9feb-cf0341580b8c",
   "metadata": {
    "jp-MarkdownHeadingCollapsed": true,
    "tags": []
   },
   "source": [
    "## get_links()"
   ]
  },
  {
   "cell_type": "code",
   "execution_count": null,
   "id": "5388e530-b0fc-494a-82d7-44e5cd5cc353",
   "metadata": {},
   "outputs": [],
   "source": [
    "\n",
    "def get_search_page(city, zip_code, radius, page):\n",
    "    \n",
    "    url = f'https://{city}.craigslist.org/search/cta?postal={zip_code}&search_distance={radius}#search=1~gallery~{page}~0'\n",
    "    response = requests.get(url) \n",
    "    if response.status_code == 200:\n",
    "        soup = BeautifulSoup(response.content, 'html.parser')\n",
    "        \n",
    "        # -------- get links.csv for search results --------\n",
    "        cars_css = 'li[class=\"cl-static-search-result\"] a'\n",
    "        cars = soup.select(cars_css) \n",
    "        if cars != []:\n",
    "            buffer = [car.get('href') for car in cars]     \n",
    "            \n",
    "            output_file = f'./data/{city}_links_p{page}.csv'\n",
    "            with open(output_file, 'w') as f:\n",
    "                wtr = csv.writer(f)\n",
    "                wtr.writerow(('url'))\n",
    "                wtr.writerows(buffer)\n",
    "                print(f'finished writing {output_file}')\n",
    "        else:\n",
    "            print(f'ERROR: css element for car postings {cars_css} is no longer available')\n",
    "        \n",
    "#         # -------- get data.json for search results --------\n",
    "#         json_css = 'script[id=\"ld_searchpage_results\"]'\n",
    "#         data = soup.select(json_css) \n",
    "#         if data != []:\n",
    "#             json_blob = json.loads(data[0].text)\n",
    "            \n",
    "#             output_file = f'./data/{city}_data_p{page}.json'\n",
    "#             with open(output_file, 'w') as f:\n",
    "#                 json.dump(json_blob[\"itemListElement\"], f)\n",
    "#                 print(f'finished writing {output_file}')\n",
    "#         else:\n",
    "#             print(f'ERROR: css element for car posting JSON {json_css} is no longer available')\n",
    "        \n",
    "    else:\n",
    "         print(response.status_code, response.reason) "
   ]
  },
  {
   "cell_type": "code",
   "execution_count": 4,
   "id": "f92cb7b7-83fd-467f-aec3-72e8cb1f51b0",
   "metadata": {
    "tags": []
   },
   "outputs": [],
   "source": [
    "def get_search_page(city, zip_code, radius, page):\n",
    "    \n",
    "    url = f'https://{city}.craigslist.org/search/cta?postal={zip_code}&search_distance={radius}#search=1~gallery~{page}~0'\n",
    "    resp = requests.get(url)\n",
    "    \n",
    "    return resp"
   ]
  },
  {
   "cell_type": "code",
   "execution_count": 51,
   "id": "8ce361a2-5f47-4c7d-8088-64684b7fd6cc",
   "metadata": {
    "tags": []
   },
   "outputs": [],
   "source": [
    "response = get_search_page('lansing', city_zip['lansing'], radius, 0)"
   ]
  },
  {
   "cell_type": "code",
   "execution_count": 180,
   "id": "2ffad23b-6560-4be4-8178-cbcdfc4fefdd",
   "metadata": {
    "tags": []
   },
   "outputs": [
    {
     "data": {
      "text/plain": [
       "200"
      ]
     },
     "execution_count": 180,
     "metadata": {},
     "output_type": "execute_result"
    }
   ],
   "source": [
    "response.status_code"
   ]
  },
  {
   "cell_type": "code",
   "execution_count": 212,
   "id": "fa27003d-5a11-4083-893c-3d2cee1d4336",
   "metadata": {
    "tags": []
   },
   "outputs": [
    {
     "data": {
      "text/plain": [
       "'OK'"
      ]
     },
     "execution_count": 212,
     "metadata": {},
     "output_type": "execute_result"
    }
   ],
   "source": [
    "response.reason"
   ]
  },
  {
   "cell_type": "code",
   "execution_count": 56,
   "id": "4e2c197e-62cb-4229-87e8-c23aa6732629",
   "metadata": {
    "tags": []
   },
   "outputs": [],
   "source": [
    "if response.status_code == 200:\n",
    "    soup = BeautifulSoup(response.content, 'html.parser')"
   ]
  },
  {
   "cell_type": "code",
   "execution_count": 57,
   "id": "3a80f808-3396-482d-9083-81a6c591cf65",
   "metadata": {
    "tags": []
   },
   "outputs": [
    {
     "data": {
      "text/plain": [
       "288"
      ]
     },
     "execution_count": 57,
     "metadata": {},
     "output_type": "execute_result"
    }
   ],
   "source": [
    "#len(soup.find_all('li', class_='cl-static-search-result')) "
   ]
  },
  {
   "cell_type": "code",
   "execution_count": 58,
   "id": "5e755db7-83cb-477b-85a0-5b9c3d190efb",
   "metadata": {
    "tags": []
   },
   "outputs": [],
   "source": [
    "#  <li class=\"cl-static-search-result\" \n",
    "#elements = soup.find_all('li', class_='cl-static-search-result') #titlestring"
   ]
  },
  {
   "cell_type": "code",
   "execution_count": 173,
   "id": "ddf7d6e9-2033-46f4-9c7b-615e9f7d84be",
   "metadata": {
    "tags": []
   },
   "outputs": [],
   "source": [
    "#cars_css = 'li.cl-static-search-result'\n",
    "cars_css = 'li[class=\"cl-static-search-result\"] a'\n",
    "cars = soup.select(cars_css) #titlestring li.cl-static-search-result"
   ]
  },
  {
   "cell_type": "code",
   "execution_count": 174,
   "id": "7bb5feab-6941-4f26-9ad9-ea1b1afc1ee1",
   "metadata": {
    "tags": []
   },
   "outputs": [
    {
     "data": {
      "text/plain": [
       "[<a href=\"https://chicago.craigslist.org/chc/cto/d/chicago-2017-bmw-m240i-drive/7649950932.html\">\n",
       " <div class=\"title\">2017 BMW M240i X drive</div>\n",
       " <div class=\"details\">\n",
       " <div class=\"price\">$25,500</div>\n",
       " <div class=\"location\">\n",
       "                         Chicago\n",
       "                     </div>\n",
       " </div>\n",
       " </a>,\n",
       " <a href=\"https://detroit.craigslist.org/wyn/cto/d/garden-city-2007-toyota-prius-hybrid/7649950719.html\">\n",
       " <div class=\"title\">2007 Toyota Prius Hybrid</div>\n",
       " <div class=\"details\">\n",
       " <div class=\"price\">$3,450</div>\n",
       " <div class=\"location\">\n",
       "                         Westland\n",
       "                     </div>\n",
       " </div>\n",
       " </a>]"
      ]
     },
     "execution_count": 174,
     "metadata": {},
     "output_type": "execute_result"
    }
   ],
   "source": [
    "cars[:2]"
   ]
  },
  {
   "cell_type": "code",
   "execution_count": 195,
   "id": "f8681774-062b-46e8-9092-5ec16d68d16f",
   "metadata": {
    "tags": []
   },
   "outputs": [
    {
     "data": {
      "text/plain": [
       "288"
      ]
     },
     "execution_count": 195,
     "metadata": {},
     "output_type": "execute_result"
    }
   ],
   "source": [
    "len(cars)"
   ]
  },
  {
   "cell_type": "code",
   "execution_count": 198,
   "id": "75f76310-99de-4581-9b90-fc50e6d60338",
   "metadata": {
    "tags": []
   },
   "outputs": [
    {
     "data": {
      "text/plain": [
       "[<a href=\"https://fortwayne.craigslist.org/ctd/d/montpelier-2015-jeep-compass-4d-suv-4wd/7649878846.html\">\n",
       " <div class=\"title\">2015 Jeep Compass 4d SUV 4WD High Altitude</div>\n",
       " <div class=\"details\">\n",
       " <div class=\"price\">$11,695</div>\n",
       " <div class=\"location\">\n",
       "                         + AutoSmart Montpelier\n",
       "                     </div>\n",
       " </div>\n",
       " </a>,\n",
       " <a href=\"https://akroncanton.craigslist.org/ctd/d/cleveland-2004-toyota-camry-le/7649878779.html\">\n",
       " <div class=\"title\">2004 TOYOTA CAMRY LE</div>\n",
       " <div class=\"details\">\n",
       " <div class=\"price\">$8,272</div>\n",
       " <div class=\"location\">\n",
       "                         + Cherry Auto Group\n",
       "                     </div>\n",
       " </div>\n",
       " </a>,\n",
       " <a href=\"https://limaohio.craigslist.org/ctd/d/hamler-2019-ram-wd-crew-cab-big-horn/7649878742.html\">\n",
       " <div class=\"title\">2019 Ram 1500 4WD Crew Cab Big Horn/Lone Star</div>\n",
       " <div class=\"details\">\n",
       " <div class=\"price\">$35,995</div>\n",
       " <div class=\"location\">\n",
       "                         + AutoSmart Hamler\n",
       "                     </div>\n",
       " </div>\n",
       " </a>]"
      ]
     },
     "execution_count": 198,
     "metadata": {},
     "output_type": "execute_result"
    }
   ],
   "source": [
    "cars[-3:]"
   ]
  },
  {
   "cell_type": "code",
   "execution_count": 209,
   "id": "f25fddb6-5f04-4907-8a9a-c6ea5c59fac2",
   "metadata": {
    "tags": []
   },
   "outputs": [],
   "source": [
    "if cars != []:\n",
    "    buffer = [(car.get('href'), car.select('div.title')[0].text) for car in cars] \n",
    "    link_df = pd.DataFrame(buffer, columns=['url','title'])\n",
    "else:\n",
    "    print(f'WARNING: css element for car postings {cars_css} is no longer available')"
   ]
  },
  {
   "cell_type": "code",
   "execution_count": 201,
   "id": "ae0ee169-773e-42de-a873-29c7da25213f",
   "metadata": {
    "tags": []
   },
   "outputs": [],
   "source": [
    "if cars != []:\n",
    "    buffer = []\n",
    "    for car in cars:\n",
    "        link = car.get('href')\n",
    "        title = car.select('div.title')[0].text\n",
    "        #price = car.select('div.price')[0].text\n",
    "        #location = car.select('div.location')[0].text\n",
    "        #print(link, title)\n",
    "        buffer.append((link, title))\n",
    "    link_df = pd.DataFrame(buffer, columns=['url','title'])\n",
    "else:\n",
    "    print(f'WARNING: css element for car postings {cars_css} is no longer available')"
   ]
  },
  {
   "cell_type": "code",
   "execution_count": 210,
   "id": "694dfc19-39eb-445c-80d0-3a57537bac04",
   "metadata": {
    "tags": []
   },
   "outputs": [
    {
     "data": {
      "text/html": [
       "<div>\n",
       "<style scoped>\n",
       "    .dataframe tbody tr th:only-of-type {\n",
       "        vertical-align: middle;\n",
       "    }\n",
       "\n",
       "    .dataframe tbody tr th {\n",
       "        vertical-align: top;\n",
       "    }\n",
       "\n",
       "    .dataframe thead th {\n",
       "        text-align: right;\n",
       "    }\n",
       "</style>\n",
       "<table border=\"1\" class=\"dataframe\">\n",
       "  <thead>\n",
       "    <tr style=\"text-align: right;\">\n",
       "      <th></th>\n",
       "      <th>url</th>\n",
       "      <th>title</th>\n",
       "    </tr>\n",
       "  </thead>\n",
       "  <tbody>\n",
       "    <tr>\n",
       "      <th>0</th>\n",
       "      <td>https://chicago.craigslist.org/chc/cto/d/chica...</td>\n",
       "      <td>2017 BMW M240i X drive</td>\n",
       "    </tr>\n",
       "    <tr>\n",
       "      <th>1</th>\n",
       "      <td>https://detroit.craigslist.org/wyn/cto/d/garde...</td>\n",
       "      <td>2007 Toyota Prius Hybrid</td>\n",
       "    </tr>\n",
       "    <tr>\n",
       "      <th>2</th>\n",
       "      <td>https://chicago.craigslist.org/chc/cto/d/carpe...</td>\n",
       "      <td>2017 Cadillac Escalade Luxury 3rd Row Navi w/B...</td>\n",
       "    </tr>\n",
       "    <tr>\n",
       "      <th>3</th>\n",
       "      <td>https://flint.craigslist.org/ctd/d/redford-202...</td>\n",
       "      <td>2021 Nissan SENTRA SV FOR ONLY</td>\n",
       "    </tr>\n",
       "    <tr>\n",
       "      <th>4</th>\n",
       "      <td>https://grandrapids.craigslist.org/ctd/d/redfo...</td>\n",
       "      <td>2019 Chevrolet EQUINOX LT FOR ONLY</td>\n",
       "    </tr>\n",
       "  </tbody>\n",
       "</table>\n",
       "</div>"
      ],
      "text/plain": [
       "                                                 url  \\\n",
       "0  https://chicago.craigslist.org/chc/cto/d/chica...   \n",
       "1  https://detroit.craigslist.org/wyn/cto/d/garde...   \n",
       "2  https://chicago.craigslist.org/chc/cto/d/carpe...   \n",
       "3  https://flint.craigslist.org/ctd/d/redford-202...   \n",
       "4  https://grandrapids.craigslist.org/ctd/d/redfo...   \n",
       "\n",
       "                                               title  \n",
       "0                             2017 BMW M240i X drive  \n",
       "1                           2007 Toyota Prius Hybrid  \n",
       "2  2017 Cadillac Escalade Luxury 3rd Row Navi w/B...  \n",
       "3                     2021 Nissan SENTRA SV FOR ONLY  \n",
       "4                 2019 Chevrolet EQUINOX LT FOR ONLY  "
      ]
     },
     "execution_count": 210,
     "metadata": {},
     "output_type": "execute_result"
    }
   ],
   "source": [
    "link_df.head()"
   ]
  },
  {
   "cell_type": "code",
   "execution_count": 202,
   "id": "e0746cdc-7c85-457b-ac41-c22e7dfdc865",
   "metadata": {
    "tags": []
   },
   "outputs": [
    {
     "data": {
      "text/html": [
       "<div>\n",
       "<style scoped>\n",
       "    .dataframe tbody tr th:only-of-type {\n",
       "        vertical-align: middle;\n",
       "    }\n",
       "\n",
       "    .dataframe tbody tr th {\n",
       "        vertical-align: top;\n",
       "    }\n",
       "\n",
       "    .dataframe thead th {\n",
       "        text-align: right;\n",
       "    }\n",
       "</style>\n",
       "<table border=\"1\" class=\"dataframe\">\n",
       "  <thead>\n",
       "    <tr style=\"text-align: right;\">\n",
       "      <th></th>\n",
       "      <th>url</th>\n",
       "      <th>title</th>\n",
       "    </tr>\n",
       "  </thead>\n",
       "  <tbody>\n",
       "    <tr>\n",
       "      <th>0</th>\n",
       "      <td>https://chicago.craigslist.org/chc/cto/d/chica...</td>\n",
       "      <td>2017 BMW M240i X drive</td>\n",
       "    </tr>\n",
       "    <tr>\n",
       "      <th>1</th>\n",
       "      <td>https://detroit.craigslist.org/wyn/cto/d/garde...</td>\n",
       "      <td>2007 Toyota Prius Hybrid</td>\n",
       "    </tr>\n",
       "    <tr>\n",
       "      <th>2</th>\n",
       "      <td>https://chicago.craigslist.org/chc/cto/d/carpe...</td>\n",
       "      <td>2017 Cadillac Escalade Luxury 3rd Row Navi w/B...</td>\n",
       "    </tr>\n",
       "    <tr>\n",
       "      <th>3</th>\n",
       "      <td>https://flint.craigslist.org/ctd/d/redford-202...</td>\n",
       "      <td>2021 Nissan SENTRA SV FOR ONLY</td>\n",
       "    </tr>\n",
       "    <tr>\n",
       "      <th>4</th>\n",
       "      <td>https://grandrapids.craigslist.org/ctd/d/redfo...</td>\n",
       "      <td>2019 Chevrolet EQUINOX LT FOR ONLY</td>\n",
       "    </tr>\n",
       "  </tbody>\n",
       "</table>\n",
       "</div>"
      ],
      "text/plain": [
       "                                                 url  \\\n",
       "0  https://chicago.craigslist.org/chc/cto/d/chica...   \n",
       "1  https://detroit.craigslist.org/wyn/cto/d/garde...   \n",
       "2  https://chicago.craigslist.org/chc/cto/d/carpe...   \n",
       "3  https://flint.craigslist.org/ctd/d/redford-202...   \n",
       "4  https://grandrapids.craigslist.org/ctd/d/redfo...   \n",
       "\n",
       "                                               title  \n",
       "0                             2017 BMW M240i X drive  \n",
       "1                           2007 Toyota Prius Hybrid  \n",
       "2  2017 Cadillac Escalade Luxury 3rd Row Navi w/B...  \n",
       "3                     2021 Nissan SENTRA SV FOR ONLY  \n",
       "4                 2019 Chevrolet EQUINOX LT FOR ONLY  "
      ]
     },
     "execution_count": 202,
     "metadata": {},
     "output_type": "execute_result"
    }
   ],
   "source": [
    "link_df.head()"
   ]
  },
  {
   "cell_type": "code",
   "execution_count": 203,
   "id": "74197f28-45c1-47fa-a0bf-202611e4fd70",
   "metadata": {
    "tags": []
   },
   "outputs": [
    {
     "data": {
      "text/plain": [
       "288"
      ]
     },
     "execution_count": 203,
     "metadata": {},
     "output_type": "execute_result"
    }
   ],
   "source": [
    "len(link_df)"
   ]
  },
  {
   "cell_type": "code",
   "execution_count": 204,
   "id": "2ae58475-5842-4417-b747-db2a729df93c",
   "metadata": {
    "tags": []
   },
   "outputs": [],
   "source": [
    "json_css = 'script[id=\"ld_searchpage_results\"]'\n",
    "data = soup.select(json_css) \n",
    "if data != []:\n",
    "    json_blob = json.loads(data[0].text)"
   ]
  },
  {
   "cell_type": "code",
   "execution_count": 205,
   "id": "7f88f563-2c32-459c-a41a-1cee82fef856",
   "metadata": {
    "tags": []
   },
   "outputs": [
    {
     "data": {
      "text/html": [
       "<div>\n",
       "<style scoped>\n",
       "    .dataframe tbody tr th:only-of-type {\n",
       "        vertical-align: middle;\n",
       "    }\n",
       "\n",
       "    .dataframe tbody tr th {\n",
       "        vertical-align: top;\n",
       "    }\n",
       "\n",
       "    .dataframe thead th {\n",
       "        text-align: right;\n",
       "    }\n",
       "</style>\n",
       "<table border=\"1\" class=\"dataframe\">\n",
       "  <thead>\n",
       "    <tr style=\"text-align: right;\">\n",
       "      <th></th>\n",
       "      <th>position</th>\n",
       "      <th>@type</th>\n",
       "      <th>item.image</th>\n",
       "      <th>item.name</th>\n",
       "      <th>item.description</th>\n",
       "      <th>item.offers.availableAtOrFrom.address.addressLocality</th>\n",
       "      <th>item.offers.availableAtOrFrom.address.@type</th>\n",
       "      <th>item.offers.availableAtOrFrom.address.addressRegion</th>\n",
       "      <th>item.offers.availableAtOrFrom.address.addressCountry</th>\n",
       "      <th>item.offers.availableAtOrFrom.address.streetAddress</th>\n",
       "      <th>item.offers.availableAtOrFrom.address.postalCode</th>\n",
       "      <th>item.offers.availableAtOrFrom.geo.longitude</th>\n",
       "      <th>item.offers.availableAtOrFrom.geo.@type</th>\n",
       "      <th>item.offers.availableAtOrFrom.geo.latitude</th>\n",
       "      <th>item.offers.availableAtOrFrom.@type</th>\n",
       "      <th>item.offers.@type</th>\n",
       "      <th>item.offers.priceCurrency</th>\n",
       "      <th>item.offers.price</th>\n",
       "      <th>item.@context</th>\n",
       "      <th>item.@type</th>\n",
       "    </tr>\n",
       "  </thead>\n",
       "  <tbody>\n",
       "    <tr>\n",
       "      <th>0</th>\n",
       "      <td>0</td>\n",
       "      <td>ListItem</td>\n",
       "      <td>[https://images.craigslist.org/00G0G_arb5SHvM0...</td>\n",
       "      <td>2017 BMW M240i X drive</td>\n",
       "      <td></td>\n",
       "      <td>Chicago</td>\n",
       "      <td>PostalAddress</td>\n",
       "      <td>IL</td>\n",
       "      <td></td>\n",
       "      <td></td>\n",
       "      <td></td>\n",
       "      <td>-87.759598</td>\n",
       "      <td>GeoCoordinates</td>\n",
       "      <td>41.993000</td>\n",
       "      <td>Place</td>\n",
       "      <td>Offer</td>\n",
       "      <td>USD</td>\n",
       "      <td>25500.00</td>\n",
       "      <td>http://schema.org</td>\n",
       "      <td>Product</td>\n",
       "    </tr>\n",
       "    <tr>\n",
       "      <th>1</th>\n",
       "      <td>1</td>\n",
       "      <td>ListItem</td>\n",
       "      <td>[https://images.craigslist.org/00K0K_8ZrM1LrAh...</td>\n",
       "      <td>2007 Toyota Prius Hybrid</td>\n",
       "      <td></td>\n",
       "      <td>Garden City</td>\n",
       "      <td>PostalAddress</td>\n",
       "      <td>MI</td>\n",
       "      <td></td>\n",
       "      <td></td>\n",
       "      <td></td>\n",
       "      <td>-83.332331</td>\n",
       "      <td>GeoCoordinates</td>\n",
       "      <td>42.327153</td>\n",
       "      <td>Place</td>\n",
       "      <td>Offer</td>\n",
       "      <td>USD</td>\n",
       "      <td>3450.00</td>\n",
       "      <td>http://schema.org</td>\n",
       "      <td>Product</td>\n",
       "    </tr>\n",
       "    <tr>\n",
       "      <th>2</th>\n",
       "      <td>2</td>\n",
       "      <td>ListItem</td>\n",
       "      <td>[https://images.craigslist.org/00G0G_aV7krRQpR...</td>\n",
       "      <td>2017 Cadillac Escalade Luxury 3rd Row Navi w/B...</td>\n",
       "      <td></td>\n",
       "      <td>Carpentersville</td>\n",
       "      <td>PostalAddress</td>\n",
       "      <td>IL</td>\n",
       "      <td></td>\n",
       "      <td></td>\n",
       "      <td></td>\n",
       "      <td>-88.260596</td>\n",
       "      <td>GeoCoordinates</td>\n",
       "      <td>42.122998</td>\n",
       "      <td>Place</td>\n",
       "      <td>Offer</td>\n",
       "      <td>USD</td>\n",
       "      <td>18000.00</td>\n",
       "      <td>http://schema.org</td>\n",
       "      <td>Product</td>\n",
       "    </tr>\n",
       "    <tr>\n",
       "      <th>3</th>\n",
       "      <td>3</td>\n",
       "      <td>ListItem</td>\n",
       "      <td>[https://images.craigslist.org/01010_gWdln1TNs...</td>\n",
       "      <td>2021 Nissan SENTRA SV FOR ONLY</td>\n",
       "      <td></td>\n",
       "      <td>Redford</td>\n",
       "      <td>PostalAddress</td>\n",
       "      <td>MI</td>\n",
       "      <td></td>\n",
       "      <td></td>\n",
       "      <td></td>\n",
       "      <td>-83.321935</td>\n",
       "      <td>GeoCoordinates</td>\n",
       "      <td>42.441836</td>\n",
       "      <td>Place</td>\n",
       "      <td>Offer</td>\n",
       "      <td>USD</td>\n",
       "      <td>19970.00</td>\n",
       "      <td>http://schema.org</td>\n",
       "      <td>Product</td>\n",
       "    </tr>\n",
       "    <tr>\n",
       "      <th>4</th>\n",
       "      <td>4</td>\n",
       "      <td>ListItem</td>\n",
       "      <td>[https://images.craigslist.org/00O0O_9Kw2fqGqN...</td>\n",
       "      <td>2019 Chevrolet EQUINOX LT FOR ONLY</td>\n",
       "      <td></td>\n",
       "      <td>Redford</td>\n",
       "      <td>PostalAddress</td>\n",
       "      <td>MI</td>\n",
       "      <td></td>\n",
       "      <td></td>\n",
       "      <td></td>\n",
       "      <td>-83.321935</td>\n",
       "      <td>GeoCoordinates</td>\n",
       "      <td>42.441836</td>\n",
       "      <td>Place</td>\n",
       "      <td>Offer</td>\n",
       "      <td>USD</td>\n",
       "      <td>24870.00</td>\n",
       "      <td>http://schema.org</td>\n",
       "      <td>Product</td>\n",
       "    </tr>\n",
       "    <tr>\n",
       "      <th>...</th>\n",
       "      <td>...</td>\n",
       "      <td>...</td>\n",
       "      <td>...</td>\n",
       "      <td>...</td>\n",
       "      <td>...</td>\n",
       "      <td>...</td>\n",
       "      <td>...</td>\n",
       "      <td>...</td>\n",
       "      <td>...</td>\n",
       "      <td>...</td>\n",
       "      <td>...</td>\n",
       "      <td>...</td>\n",
       "      <td>...</td>\n",
       "      <td>...</td>\n",
       "      <td>...</td>\n",
       "      <td>...</td>\n",
       "      <td>...</td>\n",
       "      <td>...</td>\n",
       "      <td>...</td>\n",
       "      <td>...</td>\n",
       "    </tr>\n",
       "    <tr>\n",
       "      <th>262</th>\n",
       "      <td>262</td>\n",
       "      <td>ListItem</td>\n",
       "      <td>[https://images.craigslist.org/00000_3Xvb7PH74...</td>\n",
       "      <td>1966 Triumph Spitfire Mk2</td>\n",
       "      <td></td>\n",
       "      <td>Kenosha</td>\n",
       "      <td>PostalAddress</td>\n",
       "      <td>WI</td>\n",
       "      <td></td>\n",
       "      <td></td>\n",
       "      <td></td>\n",
       "      <td>-87.876203</td>\n",
       "      <td>GeoCoordinates</td>\n",
       "      <td>42.605801</td>\n",
       "      <td>Place</td>\n",
       "      <td>Offer</td>\n",
       "      <td>USD</td>\n",
       "      <td>2500.00</td>\n",
       "      <td>http://schema.org</td>\n",
       "      <td>Product</td>\n",
       "    </tr>\n",
       "    <tr>\n",
       "      <th>263</th>\n",
       "      <td>263</td>\n",
       "      <td>ListItem</td>\n",
       "      <td>[https://images.craigslist.org/00I0I_4SuFPAdnp...</td>\n",
       "      <td>2014 TOYOTA TACOMA *4WD*</td>\n",
       "      <td></td>\n",
       "      <td>Cleveland</td>\n",
       "      <td>PostalAddress</td>\n",
       "      <td>OH</td>\n",
       "      <td></td>\n",
       "      <td></td>\n",
       "      <td></td>\n",
       "      <td>-81.527413</td>\n",
       "      <td>GeoCoordinates</td>\n",
       "      <td>41.428321</td>\n",
       "      <td>Place</td>\n",
       "      <td>Offer</td>\n",
       "      <td>USD</td>\n",
       "      <td>27976.00</td>\n",
       "      <td>http://schema.org</td>\n",
       "      <td>Product</td>\n",
       "    </tr>\n",
       "    <tr>\n",
       "      <th>264</th>\n",
       "      <td>264</td>\n",
       "      <td>ListItem</td>\n",
       "      <td>[https://images.craigslist.org/01717_kKqR1xJ2j...</td>\n",
       "      <td>2015 Jeep Compass 4d SUV 4WD High Altitude</td>\n",
       "      <td></td>\n",
       "      <td>Montpelier</td>\n",
       "      <td>PostalAddress</td>\n",
       "      <td>OH</td>\n",
       "      <td></td>\n",
       "      <td></td>\n",
       "      <td></td>\n",
       "      <td>-84.614699</td>\n",
       "      <td>GeoCoordinates</td>\n",
       "      <td>41.598202</td>\n",
       "      <td>Place</td>\n",
       "      <td>Offer</td>\n",
       "      <td>USD</td>\n",
       "      <td>11695.00</td>\n",
       "      <td>http://schema.org</td>\n",
       "      <td>Product</td>\n",
       "    </tr>\n",
       "    <tr>\n",
       "      <th>265</th>\n",
       "      <td>265</td>\n",
       "      <td>ListItem</td>\n",
       "      <td>[https://images.craigslist.org/00R0R_3VKxf4PvI...</td>\n",
       "      <td>2004 TOYOTA CAMRY LE</td>\n",
       "      <td></td>\n",
       "      <td>Cleveland</td>\n",
       "      <td>PostalAddress</td>\n",
       "      <td>OH</td>\n",
       "      <td></td>\n",
       "      <td></td>\n",
       "      <td></td>\n",
       "      <td>-81.527413</td>\n",
       "      <td>GeoCoordinates</td>\n",
       "      <td>41.428321</td>\n",
       "      <td>Place</td>\n",
       "      <td>Offer</td>\n",
       "      <td>USD</td>\n",
       "      <td>8272.00</td>\n",
       "      <td>http://schema.org</td>\n",
       "      <td>Product</td>\n",
       "    </tr>\n",
       "    <tr>\n",
       "      <th>266</th>\n",
       "      <td>266</td>\n",
       "      <td>ListItem</td>\n",
       "      <td>[https://images.craigslist.org/00T0T_9aVOAEiJM...</td>\n",
       "      <td>2019 Ram 1500 4WD Crew Cab Big Horn/Lone Star</td>\n",
       "      <td></td>\n",
       "      <td>Hamler</td>\n",
       "      <td>PostalAddress</td>\n",
       "      <td>OH</td>\n",
       "      <td></td>\n",
       "      <td></td>\n",
       "      <td></td>\n",
       "      <td>-84.034099</td>\n",
       "      <td>GeoCoordinates</td>\n",
       "      <td>41.229201</td>\n",
       "      <td>Place</td>\n",
       "      <td>Offer</td>\n",
       "      <td>USD</td>\n",
       "      <td>35995.00</td>\n",
       "      <td>http://schema.org</td>\n",
       "      <td>Product</td>\n",
       "    </tr>\n",
       "  </tbody>\n",
       "</table>\n",
       "<p>267 rows × 20 columns</p>\n",
       "</div>"
      ],
      "text/plain": [
       "    position     @type                                         item.image  \\\n",
       "0          0  ListItem  [https://images.craigslist.org/00G0G_arb5SHvM0...   \n",
       "1          1  ListItem  [https://images.craigslist.org/00K0K_8ZrM1LrAh...   \n",
       "2          2  ListItem  [https://images.craigslist.org/00G0G_aV7krRQpR...   \n",
       "3          3  ListItem  [https://images.craigslist.org/01010_gWdln1TNs...   \n",
       "4          4  ListItem  [https://images.craigslist.org/00O0O_9Kw2fqGqN...   \n",
       "..       ...       ...                                                ...   \n",
       "262      262  ListItem  [https://images.craigslist.org/00000_3Xvb7PH74...   \n",
       "263      263  ListItem  [https://images.craigslist.org/00I0I_4SuFPAdnp...   \n",
       "264      264  ListItem  [https://images.craigslist.org/01717_kKqR1xJ2j...   \n",
       "265      265  ListItem  [https://images.craigslist.org/00R0R_3VKxf4PvI...   \n",
       "266      266  ListItem  [https://images.craigslist.org/00T0T_9aVOAEiJM...   \n",
       "\n",
       "                                             item.name item.description  \\\n",
       "0                               2017 BMW M240i X drive                    \n",
       "1                             2007 Toyota Prius Hybrid                    \n",
       "2    2017 Cadillac Escalade Luxury 3rd Row Navi w/B...                    \n",
       "3                       2021 Nissan SENTRA SV FOR ONLY                    \n",
       "4                   2019 Chevrolet EQUINOX LT FOR ONLY                    \n",
       "..                                                 ...              ...   \n",
       "262                          1966 Triumph Spitfire Mk2                    \n",
       "263                           2014 TOYOTA TACOMA *4WD*                    \n",
       "264         2015 Jeep Compass 4d SUV 4WD High Altitude                    \n",
       "265                               2004 TOYOTA CAMRY LE                    \n",
       "266      2019 Ram 1500 4WD Crew Cab Big Horn/Lone Star                    \n",
       "\n",
       "    item.offers.availableAtOrFrom.address.addressLocality  \\\n",
       "0                                              Chicago      \n",
       "1                                          Garden City      \n",
       "2                                      Carpentersville      \n",
       "3                                              Redford      \n",
       "4                                              Redford      \n",
       "..                                                 ...      \n",
       "262                                            Kenosha      \n",
       "263                                          Cleveland      \n",
       "264                                         Montpelier      \n",
       "265                                          Cleveland      \n",
       "266                                             Hamler      \n",
       "\n",
       "    item.offers.availableAtOrFrom.address.@type  \\\n",
       "0                                 PostalAddress   \n",
       "1                                 PostalAddress   \n",
       "2                                 PostalAddress   \n",
       "3                                 PostalAddress   \n",
       "4                                 PostalAddress   \n",
       "..                                          ...   \n",
       "262                               PostalAddress   \n",
       "263                               PostalAddress   \n",
       "264                               PostalAddress   \n",
       "265                               PostalAddress   \n",
       "266                               PostalAddress   \n",
       "\n",
       "    item.offers.availableAtOrFrom.address.addressRegion  \\\n",
       "0                                                   IL    \n",
       "1                                                   MI    \n",
       "2                                                   IL    \n",
       "3                                                   MI    \n",
       "4                                                   MI    \n",
       "..                                                 ...    \n",
       "262                                                 WI    \n",
       "263                                                 OH    \n",
       "264                                                 OH    \n",
       "265                                                 OH    \n",
       "266                                                 OH    \n",
       "\n",
       "    item.offers.availableAtOrFrom.address.addressCountry  \\\n",
       "0                                                          \n",
       "1                                                          \n",
       "2                                                          \n",
       "3                                                          \n",
       "4                                                          \n",
       "..                                                 ...     \n",
       "262                                                        \n",
       "263                                                        \n",
       "264                                                        \n",
       "265                                                        \n",
       "266                                                        \n",
       "\n",
       "    item.offers.availableAtOrFrom.address.streetAddress  \\\n",
       "0                                                         \n",
       "1                                                         \n",
       "2                                                         \n",
       "3                                                         \n",
       "4                                                         \n",
       "..                                                 ...    \n",
       "262                                                       \n",
       "263                                                       \n",
       "264                                                       \n",
       "265                                                       \n",
       "266                                                       \n",
       "\n",
       "    item.offers.availableAtOrFrom.address.postalCode  \\\n",
       "0                                                      \n",
       "1                                                      \n",
       "2                                                      \n",
       "3                                                      \n",
       "4                                                      \n",
       "..                                               ...   \n",
       "262                                                    \n",
       "263                                                    \n",
       "264                                                    \n",
       "265                                                    \n",
       "266                                                    \n",
       "\n",
       "     item.offers.availableAtOrFrom.geo.longitude  \\\n",
       "0                                     -87.759598   \n",
       "1                                     -83.332331   \n",
       "2                                     -88.260596   \n",
       "3                                     -83.321935   \n",
       "4                                     -83.321935   \n",
       "..                                           ...   \n",
       "262                                   -87.876203   \n",
       "263                                   -81.527413   \n",
       "264                                   -84.614699   \n",
       "265                                   -81.527413   \n",
       "266                                   -84.034099   \n",
       "\n",
       "    item.offers.availableAtOrFrom.geo.@type  \\\n",
       "0                            GeoCoordinates   \n",
       "1                            GeoCoordinates   \n",
       "2                            GeoCoordinates   \n",
       "3                            GeoCoordinates   \n",
       "4                            GeoCoordinates   \n",
       "..                                      ...   \n",
       "262                          GeoCoordinates   \n",
       "263                          GeoCoordinates   \n",
       "264                          GeoCoordinates   \n",
       "265                          GeoCoordinates   \n",
       "266                          GeoCoordinates   \n",
       "\n",
       "     item.offers.availableAtOrFrom.geo.latitude  \\\n",
       "0                                     41.993000   \n",
       "1                                     42.327153   \n",
       "2                                     42.122998   \n",
       "3                                     42.441836   \n",
       "4                                     42.441836   \n",
       "..                                          ...   \n",
       "262                                   42.605801   \n",
       "263                                   41.428321   \n",
       "264                                   41.598202   \n",
       "265                                   41.428321   \n",
       "266                                   41.229201   \n",
       "\n",
       "    item.offers.availableAtOrFrom.@type item.offers.@type  \\\n",
       "0                                 Place             Offer   \n",
       "1                                 Place             Offer   \n",
       "2                                 Place             Offer   \n",
       "3                                 Place             Offer   \n",
       "4                                 Place             Offer   \n",
       "..                                  ...               ...   \n",
       "262                               Place             Offer   \n",
       "263                               Place             Offer   \n",
       "264                               Place             Offer   \n",
       "265                               Place             Offer   \n",
       "266                               Place             Offer   \n",
       "\n",
       "    item.offers.priceCurrency item.offers.price      item.@context item.@type  \n",
       "0                         USD          25500.00  http://schema.org    Product  \n",
       "1                         USD           3450.00  http://schema.org    Product  \n",
       "2                         USD          18000.00  http://schema.org    Product  \n",
       "3                         USD          19970.00  http://schema.org    Product  \n",
       "4                         USD          24870.00  http://schema.org    Product  \n",
       "..                        ...               ...                ...        ...  \n",
       "262                       USD           2500.00  http://schema.org    Product  \n",
       "263                       USD          27976.00  http://schema.org    Product  \n",
       "264                       USD          11695.00  http://schema.org    Product  \n",
       "265                       USD           8272.00  http://schema.org    Product  \n",
       "266                       USD          35995.00  http://schema.org    Product  \n",
       "\n",
       "[267 rows x 20 columns]"
      ]
     },
     "execution_count": 205,
     "metadata": {},
     "output_type": "execute_result"
    }
   ],
   "source": [
    "pd.json_normalize(json_blob[\"itemListElement\"])"
   ]
  },
  {
   "cell_type": "code",
   "execution_count": 224,
   "id": "ab903806-e497-496b-af5e-b50ecd550b5b",
   "metadata": {
    "tags": []
   },
   "outputs": [],
   "source": [
    "#print(soup.prettify())"
   ]
  },
  {
   "cell_type": "code",
   "execution_count": null,
   "id": "088be2a2-8f7e-470a-aa3c-1ec45ce4142e",
   "metadata": {},
   "outputs": [],
   "source": []
  },
  {
   "cell_type": "markdown",
   "id": "04d3ab2f-e196-488d-8c3e-9a538ff8a1d9",
   "metadata": {
    "jp-MarkdownHeadingCollapsed": true,
    "tags": []
   },
   "source": [
    "## get_data()"
   ]
  },
  {
   "cell_type": "code",
   "execution_count": 16,
   "id": "4a2669ae-bef8-4817-a88b-a1e27115bf76",
   "metadata": {
    "tags": []
   },
   "outputs": [
    {
     "name": "stdout",
     "output_type": "stream",
     "text": [
      "html retrieved\n"
     ]
    }
   ],
   "source": [
    "data_url = 'https://lansing.craigslist.org/cto/d/lansing-2010-chevy-cobalt-runs-and/7652215941.html'\n",
    "# \"https://monroemi.craigslist.org/ctd/d/highland-park-2017-dodge-grand-caravan/7649992995.html\"\n",
    "#https://muncie.craigslist.org/ctd/d/daleville-2004-infinity-qx56-suv/7650052229.html\n",
    "\n",
    "data_res = requests.get(data_url) \n",
    "if data_res.status_code == 200:\n",
    "    print('html retrieved')\n",
    "    soup = BeautifulSoup(data_res.content, 'html.parser')"
   ]
  },
  {
   "cell_type": "code",
   "execution_count": 6,
   "id": "8574b8bc-8468-451e-b73d-4cf3faabea5b",
   "metadata": {
    "tags": []
   },
   "outputs": [
    {
     "data": {
      "text/plain": [
       "410"
      ]
     },
     "execution_count": 6,
     "metadata": {},
     "output_type": "execute_result"
    }
   ],
   "source": [
    "data_res.status_code  # GONE - deleted post"
   ]
  },
  {
   "cell_type": "code",
   "execution_count": 279,
   "id": "76b5ba69-358e-4f41-a1ac-10938d74a9b8",
   "metadata": {
    "tags": []
   },
   "outputs": [],
   "source": [
    "import re\n",
    "# Get all the text within elements found using search_str\n",
    "def get_soup_text(soup: BeautifulSoup, search_str: str, one=False):\n",
    "    if one:\n",
    "        return format_str(soup.select_one(search_str).text)\n",
    "    else:\n",
    "        return list(map(lambda x: format_str(x.text), soup.select(search_str)))\n",
    "    \n",
    "    \n",
    "# Replace newlines/tabs with the symbol |\n",
    "def format_str(s):\n",
    "    return re.sub(\"[\\n\\t\\r]+\", '|', s)"
   ]
  },
  {
   "cell_type": "code",
   "execution_count": 318,
   "id": "952a37cf-f034-4f27-b97d-e74ffa32444c",
   "metadata": {
    "tags": []
   },
   "outputs": [],
   "source": [
    "def get_data(soup, link):\n",
    "    info = {}\n",
    "\n",
    "    # adding post metadata - id, timestamp, expire time\n",
    "    id_css = 'div[class=\"postinginfos\"] p[class=\"postinginfo\"]'\n",
    "    info['post_id'] = soup.select_one(id_css).text.split(': ')[1]\n",
    "    \n",
    "    info['post_datetime'] = soup.time.get('datetime')\n",
    "    info['post_expire'] = soup.head.find('meta', {'name': 'robots'}).get('content').split(': ')[1]\n",
    "    \n",
    "    # get listing attributes\n",
    "    info_list = get_soup_text(soup, 'div[class=mapAndAttrs] p[class=attrgroup] span')\n",
    "    for item in info_list:\n",
    "        sep_idx = item.find(':')\n",
    "        if sep_idx > 0:\n",
    "            info[item[:sep_idx].strip()] = item[sep_idx+1:].strip()\n",
    "        else:\n",
    "            if 'other' in info.keys():\n",
    "                info['other'] += f'|{item}'   #Q for Alex !!! this seems to be make, model and year\n",
    "            else:\n",
    "                info['other'] = item\n",
    "                \n",
    "    \n",
    "    # adding price, listing geo attributes\n",
    "    json_css = 'script[id=\"ld_posting_data\"]'\n",
    "    data = soup.select_one(json_css)\n",
    "    info.update(json.loads(data.get_text(strip=True)))\n",
    "    \n",
    "    # adding saler free-form text and url\n",
    "    body_css = 'section[id=\"postingbody\"]'\n",
    "    text = soup.select_one(body_css).get_text()\n",
    "    info['seller_notes'] = re.sub('[\\\\n]+', ' ', text).strip()\n",
    "\n",
    "    info['url'] = link\n",
    "  \n",
    "    return info"
   ]
  },
  {
   "cell_type": "code",
   "execution_count": 319,
   "id": "aa75a7f3-48b3-4d94-9ab0-46f7bc96f11d",
   "metadata": {
    "tags": []
   },
   "outputs": [
    {
     "data": {
      "text/html": [
       "<div>\n",
       "<style scoped>\n",
       "    .dataframe tbody tr th:only-of-type {\n",
       "        vertical-align: middle;\n",
       "    }\n",
       "\n",
       "    .dataframe tbody tr th {\n",
       "        vertical-align: top;\n",
       "    }\n",
       "\n",
       "    .dataframe thead th {\n",
       "        text-align: right;\n",
       "    }\n",
       "</style>\n",
       "<table border=\"1\" class=\"dataframe\">\n",
       "  <thead>\n",
       "    <tr style=\"text-align: right;\">\n",
       "      <th></th>\n",
       "      <th>0</th>\n",
       "    </tr>\n",
       "  </thead>\n",
       "  <tbody>\n",
       "    <tr>\n",
       "      <th>post_id</th>\n",
       "      <td>7650052424</td>\n",
       "    </tr>\n",
       "    <tr>\n",
       "      <th>post_datetime</th>\n",
       "      <td>2023-08-01T19:11:56-0500</td>\n",
       "    </tr>\n",
       "    <tr>\n",
       "      <th>post_expire</th>\n",
       "      <td>2023-09-01T00:11:56Z</td>\n",
       "    </tr>\n",
       "    <tr>\n",
       "      <th>other</th>\n",
       "      <td>2016 toyota camry hybrid</td>\n",
       "    </tr>\n",
       "    <tr>\n",
       "      <th>condition</th>\n",
       "      <td>excellent</td>\n",
       "    </tr>\n",
       "    <tr>\n",
       "      <th>cylinders</th>\n",
       "      <td>4 cylinders</td>\n",
       "    </tr>\n",
       "    <tr>\n",
       "      <th>drive</th>\n",
       "      <td>fwd</td>\n",
       "    </tr>\n",
       "    <tr>\n",
       "      <th>fuel</th>\n",
       "      <td>hybrid</td>\n",
       "    </tr>\n",
       "    <tr>\n",
       "      <th>odometer</th>\n",
       "      <td>62000</td>\n",
       "    </tr>\n",
       "    <tr>\n",
       "      <th>paint color</th>\n",
       "      <td>grey</td>\n",
       "    </tr>\n",
       "    <tr>\n",
       "      <th>size</th>\n",
       "      <td>full-size</td>\n",
       "    </tr>\n",
       "    <tr>\n",
       "      <th>title status</th>\n",
       "      <td>clean</td>\n",
       "    </tr>\n",
       "    <tr>\n",
       "      <th>transmission</th>\n",
       "      <td>automatic</td>\n",
       "    </tr>\n",
       "    <tr>\n",
       "      <th>type</th>\n",
       "      <td>sedan</td>\n",
       "    </tr>\n",
       "    <tr>\n",
       "      <th>description</th>\n",
       "      <td>Clean Carfax &amp;amp; Title! Rides and looks grea...</td>\n",
       "    </tr>\n",
       "    <tr>\n",
       "      <th>image</th>\n",
       "      <td>[https://images.craigslist.org/00v0v_iXpkgn8Q6...</td>\n",
       "    </tr>\n",
       "    <tr>\n",
       "      <th>@type</th>\n",
       "      <td>Product</td>\n",
       "    </tr>\n",
       "    <tr>\n",
       "      <th>@context</th>\n",
       "      <td>http://schema.org</td>\n",
       "    </tr>\n",
       "    <tr>\n",
       "      <th>name</th>\n",
       "      <td>2016 Camry Hybrid 62,000 Miles</td>\n",
       "    </tr>\n",
       "    <tr>\n",
       "      <th>seller_notes</th>\n",
       "      <td>QR Code Link to This Post Clean Carfax &amp; Title...</td>\n",
       "    </tr>\n",
       "    <tr>\n",
       "      <th>url</th>\n",
       "      <td>https://chicago.craigslist.org/nch/cto/d/buffa...</td>\n",
       "    </tr>\n",
       "    <tr>\n",
       "      <th>offers.priceCurrency</th>\n",
       "      <td>USD</td>\n",
       "    </tr>\n",
       "    <tr>\n",
       "      <th>offers.price</th>\n",
       "      <td>20000.00</td>\n",
       "    </tr>\n",
       "    <tr>\n",
       "      <th>offers.@type</th>\n",
       "      <td>Offer</td>\n",
       "    </tr>\n",
       "    <tr>\n",
       "      <th>offers.availableAtOrFrom.address.streetAddress</th>\n",
       "      <td></td>\n",
       "    </tr>\n",
       "    <tr>\n",
       "      <th>offers.availableAtOrFrom.address.addressRegion</th>\n",
       "      <td>IL</td>\n",
       "    </tr>\n",
       "    <tr>\n",
       "      <th>offers.availableAtOrFrom.address.addressLocality</th>\n",
       "      <td>Buffalo Grove</td>\n",
       "    </tr>\n",
       "    <tr>\n",
       "      <th>offers.availableAtOrFrom.address.postalCode</th>\n",
       "      <td>60089</td>\n",
       "    </tr>\n",
       "    <tr>\n",
       "      <th>offers.availableAtOrFrom.address.@type</th>\n",
       "      <td>PostalAddress</td>\n",
       "    </tr>\n",
       "    <tr>\n",
       "      <th>offers.availableAtOrFrom.address.addressCountry</th>\n",
       "      <td>US</td>\n",
       "    </tr>\n",
       "    <tr>\n",
       "      <th>offers.availableAtOrFrom.@type</th>\n",
       "      <td>Place</td>\n",
       "    </tr>\n",
       "    <tr>\n",
       "      <th>offers.availableAtOrFrom.geo.latitude</th>\n",
       "      <td>42.159800</td>\n",
       "    </tr>\n",
       "    <tr>\n",
       "      <th>offers.availableAtOrFrom.geo.@type</th>\n",
       "      <td>GeoCoordinates</td>\n",
       "    </tr>\n",
       "    <tr>\n",
       "      <th>offers.availableAtOrFrom.geo.longitude</th>\n",
       "      <td>-87.964400</td>\n",
       "    </tr>\n",
       "  </tbody>\n",
       "</table>\n",
       "</div>"
      ],
      "text/plain": [
       "                                                                                                  0\n",
       "post_id                                                                                  7650052424\n",
       "post_datetime                                                              2023-08-01T19:11:56-0500\n",
       "post_expire                                                                    2023-09-01T00:11:56Z\n",
       "other                                                                      2016 toyota camry hybrid\n",
       "condition                                                                                 excellent\n",
       "cylinders                                                                               4 cylinders\n",
       "drive                                                                                           fwd\n",
       "fuel                                                                                         hybrid\n",
       "odometer                                                                                      62000\n",
       "paint color                                                                                    grey\n",
       "size                                                                                      full-size\n",
       "title status                                                                                  clean\n",
       "transmission                                                                              automatic\n",
       "type                                                                                          sedan\n",
       "description                                       Clean Carfax &amp; Title! Rides and looks grea...\n",
       "image                                             [https://images.craigslist.org/00v0v_iXpkgn8Q6...\n",
       "@type                                                                                       Product\n",
       "@context                                                                          http://schema.org\n",
       "name                                                                 2016 Camry Hybrid 62,000 Miles\n",
       "seller_notes                                      QR Code Link to This Post Clean Carfax & Title...\n",
       "url                                               https://chicago.craigslist.org/nch/cto/d/buffa...\n",
       "offers.priceCurrency                                                                            USD\n",
       "offers.price                                                                               20000.00\n",
       "offers.@type                                                                                  Offer\n",
       "offers.availableAtOrFrom.address.streetAddress                                                     \n",
       "offers.availableAtOrFrom.address.addressRegion                                                   IL\n",
       "offers.availableAtOrFrom.address.addressLocality                                      Buffalo Grove\n",
       "offers.availableAtOrFrom.address.postalCode                                                   60089\n",
       "offers.availableAtOrFrom.address.@type                                                PostalAddress\n",
       "offers.availableAtOrFrom.address.addressCountry                                                  US\n",
       "offers.availableAtOrFrom.@type                                                                Place\n",
       "offers.availableAtOrFrom.geo.latitude                                                     42.159800\n",
       "offers.availableAtOrFrom.geo.@type                                                   GeoCoordinates\n",
       "offers.availableAtOrFrom.geo.longitude                                                   -87.964400"
      ]
     },
     "execution_count": 319,
     "metadata": {},
     "output_type": "execute_result"
    }
   ],
   "source": [
    "pd.json_normalize(get_data(soup, data_url)).T"
   ]
  },
  {
   "cell_type": "code",
   "execution_count": 18,
   "id": "5d2eda1d-b853-4c49-b8a9-60beda6cc32b",
   "metadata": {
    "tags": []
   },
   "outputs": [
    {
     "data": {
      "text/plain": [
       "<a href=\"/search/sss?purveyor=owner\">for sale by owner</a>"
      ]
     },
     "execution_count": 18,
     "metadata": {},
     "output_type": "execute_result"
    }
   ],
   "source": [
    "purveyor_css = 'li[class=\"crumb section\"] a'\n",
    "soup.select_one(purveyor_css)"
   ]
  },
  {
   "cell_type": "code",
   "execution_count": 15,
   "id": "99881f8f-e373-4e0a-8195-2f310ba94953",
   "metadata": {
    "tags": []
   },
   "outputs": [
    {
     "data": {
      "text/plain": [
       "'dealer'"
      ]
     },
     "execution_count": 15,
     "metadata": {},
     "output_type": "execute_result"
    }
   ],
   "source": [
    "purveyor_css = 'li[class=\"crumb section\"] a'\n",
    "text = soup.select_one(purveyor_css).get_text()\n",
    "if text is not None:\n",
    "    purveyor = text.split(' ')[-1]\n",
    "    \n",
    "purveyor"
   ]
  },
  {
   "cell_type": "code",
   "execution_count": 235,
   "id": "afcc3ab7-1171-4c1b-8dc9-5c4b500b4cd9",
   "metadata": {
    "tags": []
   },
   "outputs": [
    {
     "data": {
      "text/plain": [
       "'2023-08-01T19:11:56-0500'"
      ]
     },
     "execution_count": 235,
     "metadata": {},
     "output_type": "execute_result"
    }
   ],
   "source": [
    "# time \n",
    "soup.time.get('datetime')"
   ]
  },
  {
   "cell_type": "code",
   "execution_count": 273,
   "id": "958a7131-e5b1-4e2d-ad9d-ee9765176b4a",
   "metadata": {
    "tags": []
   },
   "outputs": [
    {
     "data": {
      "text/plain": [
       "[<span><b>2016 toyota camry hybrid</b></span>,\n",
       " <span>condition: <b>excellent</b></span>,\n",
       " <span>cylinders: <b>4 cylinders</b></span>,\n",
       " <span>drive: <b>fwd</b></span>,\n",
       " <span>fuel: <b>hybrid</b></span>,\n",
       " <span>odometer: <b>62000</b></span>,\n",
       " <span>paint color: <b>grey</b></span>,\n",
       " <span>size: <b>full-size</b></span>,\n",
       " <span>title status: <b>clean</b></span>,\n",
       " <span>transmission: <b>automatic</b></span>,\n",
       " <span>type: <b>sedan</b></span>]"
      ]
     },
     "execution_count": 273,
     "metadata": {},
     "output_type": "execute_result"
    }
   ],
   "source": [
    "attr_css = 'div[class=mapAndAttrs] p[class=attrgroup] span'\n",
    "soup.select(attr_css)"
   ]
  },
  {
   "cell_type": "code",
   "execution_count": 271,
   "id": "adab9697-83e7-4c57-b6c2-63764c3dd1f8",
   "metadata": {
    "tags": []
   },
   "outputs": [
    {
     "data": {
      "text/plain": [
       "{'description': 'Clean Carfax &amp; Title! Rides and looks great! No accidents or smokers! Just had a mechanic inspect the whole vehicle and no issues. Hey large folks, 2016 was the last year Toyota offered the full size front seats! 43/39 City/Highway MPG. Would be a perfect choice for Uber/Lyft or delivery drivers.    Bluetooth Audio, Push to Start, Back up Camera, New Tires, Good Brakes, Good Battery, Two Original Key Fobs. Remote Keyless Entry, The car is in exceptional shape, it drives and shifts very well....',\n",
       " 'image': ['https://images.craigslist.org/00v0v_iXpkgn8Q6lq_0CI0t2_600x450.jpg',\n",
       "  'https://images.craigslist.org/00000_hTcrwavXJZP_0CI0s3_600x450.jpg',\n",
       "  'https://images.craigslist.org/00000_hJdc7puPwM5_0tQ0t2_600x450.jpg',\n",
       "  'https://images.craigslist.org/00303_gxXDEJwJcKi_0CI0t2_600x450.jpg',\n",
       "  'https://images.craigslist.org/01616_gufBYJM5fXw_0ww0oo_600x450.jpg',\n",
       "  'https://images.craigslist.org/00p0p_eVLOsaLIm9Q_0ww0oo_600x450.jpg',\n",
       "  'https://images.craigslist.org/00i0i_4d40mMdi1kn_0oo0ww_600x450.jpg',\n",
       "  'https://images.craigslist.org/00R0R_gY7Sda84s4C_0oo0ww_600x450.jpg',\n",
       "  'https://images.craigslist.org/00R0R_94smsEKR0dU_0tu0h8_600x450.jpg'],\n",
       " '@type': 'Product',\n",
       " '@context': 'http://schema.org',\n",
       " 'name': '2016 Camry Hybrid 62,000 Miles',\n",
       " 'offers': {'priceCurrency': 'USD',\n",
       "  'price': '20000.00',\n",
       "  '@type': 'Offer',\n",
       "  'availableAtOrFrom': {'address': {'streetAddress': '',\n",
       "    'addressRegion': 'IL',\n",
       "    'addressLocality': 'Buffalo Grove',\n",
       "    'postalCode': '60089',\n",
       "    '@type': 'PostalAddress',\n",
       "    'addressCountry': 'US'},\n",
       "   '@type': 'Place',\n",
       "   'geo': {'latitude': '42.159800',\n",
       "    '@type': 'GeoCoordinates',\n",
       "    'longitude': '-87.964400'}}}}"
      ]
     },
     "execution_count": 271,
     "metadata": {},
     "output_type": "execute_result"
    }
   ],
   "source": [
    "json_css = 'script[id=\"ld_posting_data\"]'\n",
    "data = soup.select_one(json_css)\n",
    "json.loads(data.get_text(strip=True))"
   ]
  },
  {
   "cell_type": "code",
   "execution_count": 265,
   "id": "b80dfa94-022f-43dc-8ec8-7afebe8a59b2",
   "metadata": {
    "tags": []
   },
   "outputs": [
    {
     "data": {
      "text/plain": [
       "'7650052424'"
      ]
     },
     "execution_count": 265,
     "metadata": {},
     "output_type": "execute_result"
    }
   ],
   "source": [
    "id_css = 'div[class=\"postinginfos\"] p[class=\"postinginfo\"]'\n",
    "soup.select_one(id_css).text.split(': ')[1]"
   ]
  },
  {
   "cell_type": "code",
   "execution_count": 359,
   "id": "4e5405d0-8cd4-4b05-9a02-815bdbef86fa",
   "metadata": {
    "tags": []
   },
   "outputs": [
    {
     "data": {
      "text/plain": [
       "'QR Code Link to This Post Clean Carfax & Title! Rides and looks great! No accidents or smokers! Just had a mechanic inspect the whole vehicle and no issues. Hey large folks, 2016 was the last year Toyota offered the full size front seats! 43/39 City/Highway MPG. Would be a perfect choice for Uber/Lyft or delivery drivers. Bluetooth Audio, Push to Start, Back up Camera, New Tires, Good Brakes, Good Battery, Two Original Key Fobs. Remote Keyless Entry, The car is in exceptional shape, it drives and shifts very well.  2016 4D Sedan Toyota Camry LE Predawn Gray Mica FWD 2.5L I4 SMPI DOHC 6-Speed Automatic ABS brakes, Electronic Stability Control, Heated door mirrors, Illuminated entry, Low tire pressure warning, Traction control. Odometer is 52900 miles, below market average! AWARDS: * 2016 KBB.com 5-Year Cost to Own Awards * 2016 KBB.com 10 Most Comfortable Cars Under $30,000 * 2016 KBB.com Best Buy Awards Finalist * 2016 KBB.com 10 Best UberX Candidates * 2016 KBB.com 10 Most Awarded Cars * 2016 KBB.com 10 Best Used Cars Under $15,000 * 2016 KBB.com 10 Best Sedans Under $25,000'"
      ]
     },
     "execution_count": 359,
     "metadata": {},
     "output_type": "execute_result"
    }
   ],
   "source": [
    "body_css = 'section[id=\"postingbody\"]'\n",
    "text = soup.select_one(body_css).get_text()\n",
    "re.sub('[\\\\n]+', ' ', text).strip()"
   ]
  },
  {
   "cell_type": "code",
   "execution_count": 263,
   "id": "f6802594-2400-448d-822d-7b3cbcdf8785",
   "metadata": {
    "tags": []
   },
   "outputs": [
    {
     "data": {
      "text/plain": [
       "[]"
      ]
     },
     "execution_count": 263,
     "metadata": {},
     "output_type": "execute_result"
    }
   ],
   "source": [
    "#soup.find_all('p', {'class':'postinginfo'}, string=r'post id:')"
   ]
  },
  {
   "cell_type": "code",
   "execution_count": 317,
   "id": "0a1d30c5-9efc-4614-b0c8-31727ad61332",
   "metadata": {
    "tags": []
   },
   "outputs": [],
   "source": [
    "unavail = soup.head.find('meta', {'name': 'robots'}).get('content').split(': ')[1]"
   ]
  },
  {
   "cell_type": "code",
   "execution_count": null,
   "id": "25474033-ee1b-48e1-b573-917a2c312bbc",
   "metadata": {},
   "outputs": [],
   "source": []
  },
  {
   "cell_type": "code",
   "execution_count": 320,
   "id": "ec2a8a5a-eba9-41b1-857b-363c98b83cba",
   "metadata": {
    "tags": []
   },
   "outputs": [],
   "source": [
    "#print(soup.head.prettify())"
   ]
  },
  {
   "cell_type": "code",
   "execution_count": 321,
   "id": "f9480f6c-2336-4fd1-bb29-75ceb608d28e",
   "metadata": {
    "tags": []
   },
   "outputs": [],
   "source": [
    "#print(soup.prettify())"
   ]
  }
 ],
 "metadata": {
  "kernelspec": {
   "display_name": "Python 3 (ipykernel)",
   "language": "python",
   "name": "python3"
  },
  "language_info": {
   "codemirror_mode": {
    "name": "ipython",
    "version": 3
   },
   "file_extension": ".py",
   "mimetype": "text/x-python",
   "name": "python",
   "nbconvert_exporter": "python",
   "pygments_lexer": "ipython3",
   "version": "3.11.4"
  }
 },
 "nbformat": 4,
 "nbformat_minor": 5
}
